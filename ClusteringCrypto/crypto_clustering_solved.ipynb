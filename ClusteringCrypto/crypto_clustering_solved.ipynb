{
 "cells": [
  {
   "cell_type": "markdown",
   "metadata": {},
   "source": [
    "# Clustering Crypto"
   ]
  },
  {
   "cell_type": "code",
   "execution_count": 114,
   "metadata": {},
   "outputs": [],
   "source": [
    "# Initial imports\n",
    "import requests\n",
    "import pandas as pd\n",
    "import hvplot.pandas\n",
    "from pathlib import Path\n",
    "import plotly.express as px\n",
    "from sklearn.preprocessing import StandardScaler, MinMaxScaler\n",
    "from sklearn.decomposition import PCA\n",
    "from sklearn.cluster import KMeans"
   ]
  },
  {
   "cell_type": "markdown",
   "metadata": {},
   "source": [
    "### Fetching Cryptocurrency Data"
   ]
  },
  {
   "cell_type": "code",
   "execution_count": 115,
   "metadata": {},
   "outputs": [],
   "source": [
    "# Use the following endpoint to fetch json data\n",
    "url = \"https://min-api.cryptocompare.com/data/all/coinlist\"\n",
    "response = requests.get(url).json()"
   ]
  },
  {
   "cell_type": "code",
   "execution_count": 116,
   "metadata": {},
   "outputs": [
    {
     "data": {
      "text/html": [
       "<div>\n",
       "<style scoped>\n",
       "    .dataframe tbody tr th:only-of-type {\n",
       "        vertical-align: middle;\n",
       "    }\n",
       "\n",
       "    .dataframe tbody tr th {\n",
       "        vertical-align: top;\n",
       "    }\n",
       "\n",
       "    .dataframe thead th {\n",
       "        text-align: right;\n",
       "    }\n",
       "</style>\n",
       "<table border=\"1\" class=\"dataframe\">\n",
       "  <thead>\n",
       "    <tr style=\"text-align: right;\">\n",
       "      <th></th>\n",
       "      <th>Algorithm</th>\n",
       "      <th>AssetLaunchDate</th>\n",
       "      <th>AssetTokenStatus</th>\n",
       "      <th>BlockNumber</th>\n",
       "      <th>BlockReward</th>\n",
       "      <th>BlockTime</th>\n",
       "      <th>BuiltOn</th>\n",
       "      <th>CoinName</th>\n",
       "      <th>ContentCreatedOn</th>\n",
       "      <th>DecimalPoints</th>\n",
       "      <th>...</th>\n",
       "      <th>PlatformType</th>\n",
       "      <th>ProofType</th>\n",
       "      <th>Rating</th>\n",
       "      <th>SmartContractAddress</th>\n",
       "      <th>SortOrder</th>\n",
       "      <th>Sponsored</th>\n",
       "      <th>Symbol</th>\n",
       "      <th>Taxonomy</th>\n",
       "      <th>TotalCoinsMined</th>\n",
       "      <th>Url</th>\n",
       "    </tr>\n",
       "  </thead>\n",
       "  <tbody>\n",
       "    <tr>\n",
       "      <th>42</th>\n",
       "      <td>Scrypt</td>\n",
       "      <td>0000-00-00</td>\n",
       "      <td>N/A</td>\n",
       "      <td>0</td>\n",
       "      <td>0</td>\n",
       "      <td>0</td>\n",
       "      <td>NaN</td>\n",
       "      <td>42 Coin</td>\n",
       "      <td>1427211129</td>\n",
       "      <td>NaN</td>\n",
       "      <td>...</td>\n",
       "      <td>NaN</td>\n",
       "      <td>PoW/PoS</td>\n",
       "      <td>{'Weiss': {'Rating': '', 'TechnologyAdoptionRa...</td>\n",
       "      <td>NaN</td>\n",
       "      <td>34</td>\n",
       "      <td>False</td>\n",
       "      <td>42</td>\n",
       "      <td>{'Access': '', 'FCA': '', 'FINMA': '', 'Indust...</td>\n",
       "      <td>0</td>\n",
       "      <td>/coins/42/overview</td>\n",
       "    </tr>\n",
       "    <tr>\n",
       "      <th>300</th>\n",
       "      <td>N/A</td>\n",
       "      <td>2017-07-01</td>\n",
       "      <td>N/A</td>\n",
       "      <td>0</td>\n",
       "      <td>0</td>\n",
       "      <td>0</td>\n",
       "      <td>ETH</td>\n",
       "      <td>300 token</td>\n",
       "      <td>1517935016</td>\n",
       "      <td>18</td>\n",
       "      <td>...</td>\n",
       "      <td>token</td>\n",
       "      <td>N/A</td>\n",
       "      <td>{'Weiss': {'Rating': '', 'TechnologyAdoptionRa...</td>\n",
       "      <td>0xaec98a708810414878c3bcdf46aad31ded4a4557</td>\n",
       "      <td>2212</td>\n",
       "      <td>False</td>\n",
       "      <td>300</td>\n",
       "      <td>{'Access': '', 'FCA': '', 'FINMA': '', 'Indust...</td>\n",
       "      <td>300</td>\n",
       "      <td>/coins/300/overview</td>\n",
       "    </tr>\n",
       "    <tr>\n",
       "      <th>365</th>\n",
       "      <td>X11</td>\n",
       "      <td>0000-00-00</td>\n",
       "      <td>N/A</td>\n",
       "      <td>0</td>\n",
       "      <td>0</td>\n",
       "      <td>0</td>\n",
       "      <td>NaN</td>\n",
       "      <td>365Coin</td>\n",
       "      <td>1480032918</td>\n",
       "      <td>NaN</td>\n",
       "      <td>...</td>\n",
       "      <td>NaN</td>\n",
       "      <td>PoW/PoS</td>\n",
       "      <td>{'Weiss': {'Rating': '', 'TechnologyAdoptionRa...</td>\n",
       "      <td>NaN</td>\n",
       "      <td>916</td>\n",
       "      <td>False</td>\n",
       "      <td>365</td>\n",
       "      <td>{'Access': '', 'FCA': '', 'FINMA': '', 'Indust...</td>\n",
       "      <td>0</td>\n",
       "      <td>/coins/365/overview</td>\n",
       "    </tr>\n",
       "    <tr>\n",
       "      <th>404</th>\n",
       "      <td>Scrypt</td>\n",
       "      <td>0000-00-00</td>\n",
       "      <td>N/A</td>\n",
       "      <td>0</td>\n",
       "      <td>0</td>\n",
       "      <td>0</td>\n",
       "      <td>NaN</td>\n",
       "      <td>404Coin</td>\n",
       "      <td>1466100361</td>\n",
       "      <td>NaN</td>\n",
       "      <td>...</td>\n",
       "      <td>NaN</td>\n",
       "      <td>PoW/PoS</td>\n",
       "      <td>{'Weiss': {'Rating': '', 'TechnologyAdoptionRa...</td>\n",
       "      <td>NaN</td>\n",
       "      <td>602</td>\n",
       "      <td>False</td>\n",
       "      <td>404</td>\n",
       "      <td>{'Access': '', 'FCA': '', 'FINMA': '', 'Indust...</td>\n",
       "      <td>0</td>\n",
       "      <td>/coins/404/overview</td>\n",
       "    </tr>\n",
       "    <tr>\n",
       "      <th>433</th>\n",
       "      <td>N/A</td>\n",
       "      <td>NaN</td>\n",
       "      <td>Finished</td>\n",
       "      <td>NaN</td>\n",
       "      <td>NaN</td>\n",
       "      <td>NaN</td>\n",
       "      <td>NaN</td>\n",
       "      <td>433 Token</td>\n",
       "      <td>1541597321</td>\n",
       "      <td>NaN</td>\n",
       "      <td>...</td>\n",
       "      <td>NaN</td>\n",
       "      <td>N/A</td>\n",
       "      <td>{'Weiss': {'Rating': '', 'TechnologyAdoptionRa...</td>\n",
       "      <td>NaN</td>\n",
       "      <td>3505</td>\n",
       "      <td>False</td>\n",
       "      <td>433</td>\n",
       "      <td>{'Access': '', 'FCA': '', 'FINMA': '', 'Indust...</td>\n",
       "      <td>NaN</td>\n",
       "      <td>/coins/433/overview</td>\n",
       "    </tr>\n",
       "  </tbody>\n",
       "</table>\n",
       "<p>5 rows × 32 columns</p>\n",
       "</div>"
      ],
      "text/plain": [
       "    Algorithm AssetLaunchDate AssetTokenStatus BlockNumber BlockReward  \\\n",
       "42     Scrypt      0000-00-00              N/A           0           0   \n",
       "300       N/A      2017-07-01              N/A           0           0   \n",
       "365       X11      0000-00-00              N/A           0           0   \n",
       "404    Scrypt      0000-00-00              N/A           0           0   \n",
       "433       N/A             NaN         Finished         NaN         NaN   \n",
       "\n",
       "    BlockTime BuiltOn   CoinName ContentCreatedOn DecimalPoints  ...  \\\n",
       "42          0     NaN    42 Coin       1427211129           NaN  ...   \n",
       "300         0     ETH  300 token       1517935016            18  ...   \n",
       "365         0     NaN    365Coin       1480032918           NaN  ...   \n",
       "404         0     NaN    404Coin       1466100361           NaN  ...   \n",
       "433       NaN     NaN  433 Token       1541597321           NaN  ...   \n",
       "\n",
       "    PlatformType ProofType                                             Rating  \\\n",
       "42           NaN   PoW/PoS  {'Weiss': {'Rating': '', 'TechnologyAdoptionRa...   \n",
       "300        token       N/A  {'Weiss': {'Rating': '', 'TechnologyAdoptionRa...   \n",
       "365          NaN   PoW/PoS  {'Weiss': {'Rating': '', 'TechnologyAdoptionRa...   \n",
       "404          NaN   PoW/PoS  {'Weiss': {'Rating': '', 'TechnologyAdoptionRa...   \n",
       "433          NaN       N/A  {'Weiss': {'Rating': '', 'TechnologyAdoptionRa...   \n",
       "\n",
       "                           SmartContractAddress SortOrder Sponsored Symbol  \\\n",
       "42                                          NaN        34     False     42   \n",
       "300  0xaec98a708810414878c3bcdf46aad31ded4a4557      2212     False    300   \n",
       "365                                         NaN       916     False    365   \n",
       "404                                         NaN       602     False    404   \n",
       "433                                         NaN      3505     False    433   \n",
       "\n",
       "                                              Taxonomy TotalCoinsMined  \\\n",
       "42   {'Access': '', 'FCA': '', 'FINMA': '', 'Indust...               0   \n",
       "300  {'Access': '', 'FCA': '', 'FINMA': '', 'Indust...             300   \n",
       "365  {'Access': '', 'FCA': '', 'FINMA': '', 'Indust...               0   \n",
       "404  {'Access': '', 'FCA': '', 'FINMA': '', 'Indust...               0   \n",
       "433  {'Access': '', 'FCA': '', 'FINMA': '', 'Indust...             NaN   \n",
       "\n",
       "                     Url  \n",
       "42    /coins/42/overview  \n",
       "300  /coins/300/overview  \n",
       "365  /coins/365/overview  \n",
       "404  /coins/404/overview  \n",
       "433  /coins/433/overview  \n",
       "\n",
       "[5 rows x 32 columns]"
      ]
     },
     "execution_count": 116,
     "metadata": {},
     "output_type": "execute_result"
    }
   ],
   "source": [
    "# Create a DataFrame\n",
    "crypto_df = pd.DataFrame(response['Data']).T\n",
    "crypto_df.head()\n",
    "# crypto_df.to_csv(\"cryptodata.csv\")"
   ]
  },
  {
   "cell_type": "markdown",
   "metadata": {},
   "source": [
    "### Data Preprocessing"
   ]
  },
  {
   "cell_type": "code",
   "execution_count": 117,
   "metadata": {},
   "outputs": [
    {
     "data": {
      "text/html": [
       "<div>\n",
       "<style scoped>\n",
       "    .dataframe tbody tr th:only-of-type {\n",
       "        vertical-align: middle;\n",
       "    }\n",
       "\n",
       "    .dataframe tbody tr th {\n",
       "        vertical-align: top;\n",
       "    }\n",
       "\n",
       "    .dataframe thead th {\n",
       "        text-align: right;\n",
       "    }\n",
       "</style>\n",
       "<table border=\"1\" class=\"dataframe\">\n",
       "  <thead>\n",
       "    <tr style=\"text-align: right;\">\n",
       "      <th></th>\n",
       "      <th>CoinName</th>\n",
       "      <th>Algorithm</th>\n",
       "      <th>IsTrading</th>\n",
       "      <th>ProofType</th>\n",
       "      <th>TotalCoinsMined</th>\n",
       "      <th>MaxSupply</th>\n",
       "    </tr>\n",
       "  </thead>\n",
       "  <tbody>\n",
       "    <tr>\n",
       "      <th>42</th>\n",
       "      <td>42 Coin</td>\n",
       "      <td>Scrypt</td>\n",
       "      <td>True</td>\n",
       "      <td>PoW/PoS</td>\n",
       "      <td>0</td>\n",
       "      <td>0</td>\n",
       "    </tr>\n",
       "    <tr>\n",
       "      <th>300</th>\n",
       "      <td>300 token</td>\n",
       "      <td>N/A</td>\n",
       "      <td>True</td>\n",
       "      <td>N/A</td>\n",
       "      <td>300</td>\n",
       "      <td>300</td>\n",
       "    </tr>\n",
       "    <tr>\n",
       "      <th>365</th>\n",
       "      <td>365Coin</td>\n",
       "      <td>X11</td>\n",
       "      <td>True</td>\n",
       "      <td>PoW/PoS</td>\n",
       "      <td>0</td>\n",
       "      <td>0</td>\n",
       "    </tr>\n",
       "    <tr>\n",
       "      <th>404</th>\n",
       "      <td>404Coin</td>\n",
       "      <td>Scrypt</td>\n",
       "      <td>True</td>\n",
       "      <td>PoW/PoS</td>\n",
       "      <td>0</td>\n",
       "      <td>0</td>\n",
       "    </tr>\n",
       "    <tr>\n",
       "      <th>433</th>\n",
       "      <td>433 Token</td>\n",
       "      <td>N/A</td>\n",
       "      <td>False</td>\n",
       "      <td>N/A</td>\n",
       "      <td>NaN</td>\n",
       "      <td>NaN</td>\n",
       "    </tr>\n",
       "    <tr>\n",
       "      <th>611</th>\n",
       "      <td>SixEleven</td>\n",
       "      <td>SHA-256</td>\n",
       "      <td>True</td>\n",
       "      <td>PoW</td>\n",
       "      <td>0</td>\n",
       "      <td>0</td>\n",
       "    </tr>\n",
       "    <tr>\n",
       "      <th>808</th>\n",
       "      <td>808</td>\n",
       "      <td>SHA-256</td>\n",
       "      <td>True</td>\n",
       "      <td>PoW/PoS</td>\n",
       "      <td>0</td>\n",
       "      <td>0</td>\n",
       "    </tr>\n",
       "    <tr>\n",
       "      <th>888</th>\n",
       "      <td>Octocoin</td>\n",
       "      <td>N/A</td>\n",
       "      <td>True</td>\n",
       "      <td>PoW</td>\n",
       "      <td>0</td>\n",
       "      <td>0</td>\n",
       "    </tr>\n",
       "    <tr>\n",
       "      <th>1337</th>\n",
       "      <td>EliteCoin</td>\n",
       "      <td>X13</td>\n",
       "      <td>True</td>\n",
       "      <td>PoW/PoS</td>\n",
       "      <td>0</td>\n",
       "      <td>0</td>\n",
       "    </tr>\n",
       "    <tr>\n",
       "      <th>2015</th>\n",
       "      <td>2015 coin</td>\n",
       "      <td>X11</td>\n",
       "      <td>True</td>\n",
       "      <td>PoW/PoS</td>\n",
       "      <td>0</td>\n",
       "      <td>0</td>\n",
       "    </tr>\n",
       "  </tbody>\n",
       "</table>\n",
       "</div>"
      ],
      "text/plain": [
       "       CoinName Algorithm IsTrading ProofType TotalCoinsMined MaxSupply\n",
       "42      42 Coin    Scrypt      True   PoW/PoS               0         0\n",
       "300   300 token       N/A      True       N/A             300       300\n",
       "365     365Coin       X11      True   PoW/PoS               0         0\n",
       "404     404Coin    Scrypt      True   PoW/PoS               0         0\n",
       "433   433 Token       N/A     False       N/A             NaN       NaN\n",
       "611   SixEleven   SHA-256      True       PoW               0         0\n",
       "808         808   SHA-256      True   PoW/PoS               0         0\n",
       "888    Octocoin       N/A      True       PoW               0         0\n",
       "1337  EliteCoin       X13      True   PoW/PoS               0         0\n",
       "2015  2015 coin       X11      True   PoW/PoS               0         0"
      ]
     },
     "execution_count": 117,
     "metadata": {},
     "output_type": "execute_result"
    }
   ],
   "source": [
    "# Keep only necessary columns:\n",
    "# 'CoinName','Algorithm','IsTrading','ProofType','TotalCoinsMined','TotalCoinSupply'\n",
    "# *******TotalCoinSupply is NOT a valid column - use MaxSupply*******\n",
    "crypto_df=crypto_df[['CoinName','Algorithm','IsTrading','ProofType','TotalCoinsMined','MaxSupply']]\n",
    "crypto_df.head(10)"
   ]
  },
  {
   "cell_type": "code",
   "execution_count": 118,
   "metadata": {},
   "outputs": [
    {
     "name": "stdout",
     "output_type": "stream",
     "text": [
      "(4974, 6)\n"
     ]
    },
    {
     "data": {
      "text/html": [
       "<div>\n",
       "<style scoped>\n",
       "    .dataframe tbody tr th:only-of-type {\n",
       "        vertical-align: middle;\n",
       "    }\n",
       "\n",
       "    .dataframe tbody tr th {\n",
       "        vertical-align: top;\n",
       "    }\n",
       "\n",
       "    .dataframe thead th {\n",
       "        text-align: right;\n",
       "    }\n",
       "</style>\n",
       "<table border=\"1\" class=\"dataframe\">\n",
       "  <thead>\n",
       "    <tr style=\"text-align: right;\">\n",
       "      <th></th>\n",
       "      <th>CoinName</th>\n",
       "      <th>Algorithm</th>\n",
       "      <th>IsTrading</th>\n",
       "      <th>ProofType</th>\n",
       "      <th>TotalCoinsMined</th>\n",
       "      <th>MaxSupply</th>\n",
       "    </tr>\n",
       "  </thead>\n",
       "  <tbody>\n",
       "    <tr>\n",
       "      <th>42</th>\n",
       "      <td>42 Coin</td>\n",
       "      <td>Scrypt</td>\n",
       "      <td>True</td>\n",
       "      <td>PoW/PoS</td>\n",
       "      <td>0</td>\n",
       "      <td>0</td>\n",
       "    </tr>\n",
       "    <tr>\n",
       "      <th>300</th>\n",
       "      <td>300 token</td>\n",
       "      <td>N/A</td>\n",
       "      <td>True</td>\n",
       "      <td>N/A</td>\n",
       "      <td>300</td>\n",
       "      <td>300</td>\n",
       "    </tr>\n",
       "    <tr>\n",
       "      <th>365</th>\n",
       "      <td>365Coin</td>\n",
       "      <td>X11</td>\n",
       "      <td>True</td>\n",
       "      <td>PoW/PoS</td>\n",
       "      <td>0</td>\n",
       "      <td>0</td>\n",
       "    </tr>\n",
       "    <tr>\n",
       "      <th>404</th>\n",
       "      <td>404Coin</td>\n",
       "      <td>Scrypt</td>\n",
       "      <td>True</td>\n",
       "      <td>PoW/PoS</td>\n",
       "      <td>0</td>\n",
       "      <td>0</td>\n",
       "    </tr>\n",
       "    <tr>\n",
       "      <th>611</th>\n",
       "      <td>SixEleven</td>\n",
       "      <td>SHA-256</td>\n",
       "      <td>True</td>\n",
       "      <td>PoW</td>\n",
       "      <td>0</td>\n",
       "      <td>0</td>\n",
       "    </tr>\n",
       "    <tr>\n",
       "      <th>808</th>\n",
       "      <td>808</td>\n",
       "      <td>SHA-256</td>\n",
       "      <td>True</td>\n",
       "      <td>PoW/PoS</td>\n",
       "      <td>0</td>\n",
       "      <td>0</td>\n",
       "    </tr>\n",
       "    <tr>\n",
       "      <th>888</th>\n",
       "      <td>Octocoin</td>\n",
       "      <td>N/A</td>\n",
       "      <td>True</td>\n",
       "      <td>PoW</td>\n",
       "      <td>0</td>\n",
       "      <td>0</td>\n",
       "    </tr>\n",
       "    <tr>\n",
       "      <th>1337</th>\n",
       "      <td>EliteCoin</td>\n",
       "      <td>X13</td>\n",
       "      <td>True</td>\n",
       "      <td>PoW/PoS</td>\n",
       "      <td>0</td>\n",
       "      <td>0</td>\n",
       "    </tr>\n",
       "    <tr>\n",
       "      <th>2015</th>\n",
       "      <td>2015 coin</td>\n",
       "      <td>X11</td>\n",
       "      <td>True</td>\n",
       "      <td>PoW/PoS</td>\n",
       "      <td>0</td>\n",
       "      <td>0</td>\n",
       "    </tr>\n",
       "    <tr>\n",
       "      <th>BTCD</th>\n",
       "      <td>BitcoinDark</td>\n",
       "      <td>SHA-256</td>\n",
       "      <td>True</td>\n",
       "      <td>PoW/PoS</td>\n",
       "      <td>NaN</td>\n",
       "      <td>NaN</td>\n",
       "    </tr>\n",
       "  </tbody>\n",
       "</table>\n",
       "</div>"
      ],
      "text/plain": [
       "         CoinName Algorithm IsTrading ProofType TotalCoinsMined MaxSupply\n",
       "42        42 Coin    Scrypt      True   PoW/PoS               0         0\n",
       "300     300 token       N/A      True       N/A             300       300\n",
       "365       365Coin       X11      True   PoW/PoS               0         0\n",
       "404       404Coin    Scrypt      True   PoW/PoS               0         0\n",
       "611     SixEleven   SHA-256      True       PoW               0         0\n",
       "808           808   SHA-256      True   PoW/PoS               0         0\n",
       "888      Octocoin       N/A      True       PoW               0         0\n",
       "1337    EliteCoin       X13      True   PoW/PoS               0         0\n",
       "2015    2015 coin       X11      True   PoW/PoS               0         0\n",
       "BTCD  BitcoinDark   SHA-256      True   PoW/PoS             NaN       NaN"
      ]
     },
     "execution_count": 118,
     "metadata": {},
     "output_type": "execute_result"
    }
   ],
   "source": [
    "# Keep only cryptocurrencies that are trading\n",
    "crypto_df = crypto_df[crypto_df[\"IsTrading\"] == True]\n",
    "print(crypto_df.shape)\n",
    "crypto_df.head(10)"
   ]
  },
  {
   "cell_type": "code",
   "execution_count": 119,
   "metadata": {},
   "outputs": [
    {
     "name": "stdout",
     "output_type": "stream",
     "text": [
      "(1485, 6)\n"
     ]
    },
    {
     "data": {
      "text/html": [
       "<div>\n",
       "<style scoped>\n",
       "    .dataframe tbody tr th:only-of-type {\n",
       "        vertical-align: middle;\n",
       "    }\n",
       "\n",
       "    .dataframe tbody tr th {\n",
       "        vertical-align: top;\n",
       "    }\n",
       "\n",
       "    .dataframe thead th {\n",
       "        text-align: right;\n",
       "    }\n",
       "</style>\n",
       "<table border=\"1\" class=\"dataframe\">\n",
       "  <thead>\n",
       "    <tr style=\"text-align: right;\">\n",
       "      <th></th>\n",
       "      <th>CoinName</th>\n",
       "      <th>Algorithm</th>\n",
       "      <th>IsTrading</th>\n",
       "      <th>ProofType</th>\n",
       "      <th>TotalCoinsMined</th>\n",
       "      <th>MaxSupply</th>\n",
       "    </tr>\n",
       "  </thead>\n",
       "  <tbody>\n",
       "    <tr>\n",
       "      <th>42</th>\n",
       "      <td>42 Coin</td>\n",
       "      <td>Scrypt</td>\n",
       "      <td>True</td>\n",
       "      <td>PoW/PoS</td>\n",
       "      <td>0</td>\n",
       "      <td>0</td>\n",
       "    </tr>\n",
       "    <tr>\n",
       "      <th>365</th>\n",
       "      <td>365Coin</td>\n",
       "      <td>X11</td>\n",
       "      <td>True</td>\n",
       "      <td>PoW/PoS</td>\n",
       "      <td>0</td>\n",
       "      <td>0</td>\n",
       "    </tr>\n",
       "    <tr>\n",
       "      <th>404</th>\n",
       "      <td>404Coin</td>\n",
       "      <td>Scrypt</td>\n",
       "      <td>True</td>\n",
       "      <td>PoW/PoS</td>\n",
       "      <td>0</td>\n",
       "      <td>0</td>\n",
       "    </tr>\n",
       "    <tr>\n",
       "      <th>611</th>\n",
       "      <td>SixEleven</td>\n",
       "      <td>SHA-256</td>\n",
       "      <td>True</td>\n",
       "      <td>PoW</td>\n",
       "      <td>0</td>\n",
       "      <td>0</td>\n",
       "    </tr>\n",
       "    <tr>\n",
       "      <th>808</th>\n",
       "      <td>808</td>\n",
       "      <td>SHA-256</td>\n",
       "      <td>True</td>\n",
       "      <td>PoW/PoS</td>\n",
       "      <td>0</td>\n",
       "      <td>0</td>\n",
       "    </tr>\n",
       "    <tr>\n",
       "      <th>1337</th>\n",
       "      <td>EliteCoin</td>\n",
       "      <td>X13</td>\n",
       "      <td>True</td>\n",
       "      <td>PoW/PoS</td>\n",
       "      <td>0</td>\n",
       "      <td>0</td>\n",
       "    </tr>\n",
       "    <tr>\n",
       "      <th>2015</th>\n",
       "      <td>2015 coin</td>\n",
       "      <td>X11</td>\n",
       "      <td>True</td>\n",
       "      <td>PoW/PoS</td>\n",
       "      <td>0</td>\n",
       "      <td>0</td>\n",
       "    </tr>\n",
       "    <tr>\n",
       "      <th>BTCD</th>\n",
       "      <td>BitcoinDark</td>\n",
       "      <td>SHA-256</td>\n",
       "      <td>True</td>\n",
       "      <td>PoW/PoS</td>\n",
       "      <td>NaN</td>\n",
       "      <td>NaN</td>\n",
       "    </tr>\n",
       "    <tr>\n",
       "      <th>CRAIG</th>\n",
       "      <td>CraigsCoin</td>\n",
       "      <td>X11</td>\n",
       "      <td>True</td>\n",
       "      <td>PoS</td>\n",
       "      <td>NaN</td>\n",
       "      <td>NaN</td>\n",
       "    </tr>\n",
       "    <tr>\n",
       "      <th>XBS</th>\n",
       "      <td>Bitstake</td>\n",
       "      <td>X11</td>\n",
       "      <td>True</td>\n",
       "      <td>PoW/PoS</td>\n",
       "      <td>NaN</td>\n",
       "      <td>NaN</td>\n",
       "    </tr>\n",
       "  </tbody>\n",
       "</table>\n",
       "</div>"
      ],
      "text/plain": [
       "          CoinName Algorithm IsTrading ProofType TotalCoinsMined MaxSupply\n",
       "42         42 Coin    Scrypt      True   PoW/PoS               0         0\n",
       "365        365Coin       X11      True   PoW/PoS               0         0\n",
       "404        404Coin    Scrypt      True   PoW/PoS               0         0\n",
       "611      SixEleven   SHA-256      True       PoW               0         0\n",
       "808            808   SHA-256      True   PoW/PoS               0         0\n",
       "1337     EliteCoin       X13      True   PoW/PoS               0         0\n",
       "2015     2015 coin       X11      True   PoW/PoS               0         0\n",
       "BTCD   BitcoinDark   SHA-256      True   PoW/PoS             NaN       NaN\n",
       "CRAIG   CraigsCoin       X11      True       PoS             NaN       NaN\n",
       "XBS       Bitstake       X11      True   PoW/PoS             NaN       NaN"
      ]
     },
     "execution_count": 119,
     "metadata": {},
     "output_type": "execute_result"
    }
   ],
   "source": [
    "# Keep only cryptocurrencies with a working algorithm\n",
    "crypto_df = crypto_df[crypto_df[\"Algorithm\"] != \"N/A\"]\n",
    "print(crypto_df.shape)\n",
    "crypto_df.head(10)"
   ]
  },
  {
   "cell_type": "code",
   "execution_count": 120,
   "metadata": {},
   "outputs": [
    {
     "name": "stdout",
     "output_type": "stream",
     "text": [
      "(1485, 5)\n"
     ]
    },
    {
     "data": {
      "text/html": [
       "<div>\n",
       "<style scoped>\n",
       "    .dataframe tbody tr th:only-of-type {\n",
       "        vertical-align: middle;\n",
       "    }\n",
       "\n",
       "    .dataframe tbody tr th {\n",
       "        vertical-align: top;\n",
       "    }\n",
       "\n",
       "    .dataframe thead th {\n",
       "        text-align: right;\n",
       "    }\n",
       "</style>\n",
       "<table border=\"1\" class=\"dataframe\">\n",
       "  <thead>\n",
       "    <tr style=\"text-align: right;\">\n",
       "      <th></th>\n",
       "      <th>CoinName</th>\n",
       "      <th>Algorithm</th>\n",
       "      <th>ProofType</th>\n",
       "      <th>TotalCoinsMined</th>\n",
       "      <th>MaxSupply</th>\n",
       "    </tr>\n",
       "  </thead>\n",
       "  <tbody>\n",
       "    <tr>\n",
       "      <th>42</th>\n",
       "      <td>42 Coin</td>\n",
       "      <td>Scrypt</td>\n",
       "      <td>PoW/PoS</td>\n",
       "      <td>0</td>\n",
       "      <td>0</td>\n",
       "    </tr>\n",
       "    <tr>\n",
       "      <th>365</th>\n",
       "      <td>365Coin</td>\n",
       "      <td>X11</td>\n",
       "      <td>PoW/PoS</td>\n",
       "      <td>0</td>\n",
       "      <td>0</td>\n",
       "    </tr>\n",
       "    <tr>\n",
       "      <th>404</th>\n",
       "      <td>404Coin</td>\n",
       "      <td>Scrypt</td>\n",
       "      <td>PoW/PoS</td>\n",
       "      <td>0</td>\n",
       "      <td>0</td>\n",
       "    </tr>\n",
       "    <tr>\n",
       "      <th>611</th>\n",
       "      <td>SixEleven</td>\n",
       "      <td>SHA-256</td>\n",
       "      <td>PoW</td>\n",
       "      <td>0</td>\n",
       "      <td>0</td>\n",
       "    </tr>\n",
       "    <tr>\n",
       "      <th>808</th>\n",
       "      <td>808</td>\n",
       "      <td>SHA-256</td>\n",
       "      <td>PoW/PoS</td>\n",
       "      <td>0</td>\n",
       "      <td>0</td>\n",
       "    </tr>\n",
       "    <tr>\n",
       "      <th>1337</th>\n",
       "      <td>EliteCoin</td>\n",
       "      <td>X13</td>\n",
       "      <td>PoW/PoS</td>\n",
       "      <td>0</td>\n",
       "      <td>0</td>\n",
       "    </tr>\n",
       "    <tr>\n",
       "      <th>2015</th>\n",
       "      <td>2015 coin</td>\n",
       "      <td>X11</td>\n",
       "      <td>PoW/PoS</td>\n",
       "      <td>0</td>\n",
       "      <td>0</td>\n",
       "    </tr>\n",
       "    <tr>\n",
       "      <th>BTCD</th>\n",
       "      <td>BitcoinDark</td>\n",
       "      <td>SHA-256</td>\n",
       "      <td>PoW/PoS</td>\n",
       "      <td>NaN</td>\n",
       "      <td>NaN</td>\n",
       "    </tr>\n",
       "    <tr>\n",
       "      <th>CRAIG</th>\n",
       "      <td>CraigsCoin</td>\n",
       "      <td>X11</td>\n",
       "      <td>PoS</td>\n",
       "      <td>NaN</td>\n",
       "      <td>NaN</td>\n",
       "    </tr>\n",
       "    <tr>\n",
       "      <th>XBS</th>\n",
       "      <td>Bitstake</td>\n",
       "      <td>X11</td>\n",
       "      <td>PoW/PoS</td>\n",
       "      <td>NaN</td>\n",
       "      <td>NaN</td>\n",
       "    </tr>\n",
       "  </tbody>\n",
       "</table>\n",
       "</div>"
      ],
      "text/plain": [
       "          CoinName Algorithm ProofType TotalCoinsMined MaxSupply\n",
       "42         42 Coin    Scrypt   PoW/PoS               0         0\n",
       "365        365Coin       X11   PoW/PoS               0         0\n",
       "404        404Coin    Scrypt   PoW/PoS               0         0\n",
       "611      SixEleven   SHA-256       PoW               0         0\n",
       "808            808   SHA-256   PoW/PoS               0         0\n",
       "1337     EliteCoin       X13   PoW/PoS               0         0\n",
       "2015     2015 coin       X11   PoW/PoS               0         0\n",
       "BTCD   BitcoinDark   SHA-256   PoW/PoS             NaN       NaN\n",
       "CRAIG   CraigsCoin       X11       PoS             NaN       NaN\n",
       "XBS       Bitstake       X11   PoW/PoS             NaN       NaN"
      ]
     },
     "execution_count": 120,
     "metadata": {},
     "output_type": "execute_result"
    }
   ],
   "source": [
    "# Remove the \"IsTrading\" column\n",
    "crypto_df.drop(\"IsTrading\", axis=1, inplace=True)\n",
    "print(crypto_df.shape)\n",
    "crypto_df.head(10)"
   ]
  },
  {
   "cell_type": "code",
   "execution_count": 121,
   "metadata": {},
   "outputs": [
    {
     "name": "stdout",
     "output_type": "stream",
     "text": [
      "(278, 5)\n"
     ]
    },
    {
     "data": {
      "text/html": [
       "<div>\n",
       "<style scoped>\n",
       "    .dataframe tbody tr th:only-of-type {\n",
       "        vertical-align: middle;\n",
       "    }\n",
       "\n",
       "    .dataframe tbody tr th {\n",
       "        vertical-align: top;\n",
       "    }\n",
       "\n",
       "    .dataframe thead th {\n",
       "        text-align: right;\n",
       "    }\n",
       "</style>\n",
       "<table border=\"1\" class=\"dataframe\">\n",
       "  <thead>\n",
       "    <tr style=\"text-align: right;\">\n",
       "      <th></th>\n",
       "      <th>CoinName</th>\n",
       "      <th>Algorithm</th>\n",
       "      <th>ProofType</th>\n",
       "      <th>TotalCoinsMined</th>\n",
       "      <th>MaxSupply</th>\n",
       "    </tr>\n",
       "  </thead>\n",
       "  <tbody>\n",
       "    <tr>\n",
       "      <th>42</th>\n",
       "      <td>42 Coin</td>\n",
       "      <td>Scrypt</td>\n",
       "      <td>PoW/PoS</td>\n",
       "      <td>0</td>\n",
       "      <td>0</td>\n",
       "    </tr>\n",
       "    <tr>\n",
       "      <th>365</th>\n",
       "      <td>365Coin</td>\n",
       "      <td>X11</td>\n",
       "      <td>PoW/PoS</td>\n",
       "      <td>0</td>\n",
       "      <td>0</td>\n",
       "    </tr>\n",
       "    <tr>\n",
       "      <th>404</th>\n",
       "      <td>404Coin</td>\n",
       "      <td>Scrypt</td>\n",
       "      <td>PoW/PoS</td>\n",
       "      <td>0</td>\n",
       "      <td>0</td>\n",
       "    </tr>\n",
       "    <tr>\n",
       "      <th>611</th>\n",
       "      <td>SixEleven</td>\n",
       "      <td>SHA-256</td>\n",
       "      <td>PoW</td>\n",
       "      <td>0</td>\n",
       "      <td>0</td>\n",
       "    </tr>\n",
       "    <tr>\n",
       "      <th>808</th>\n",
       "      <td>808</td>\n",
       "      <td>SHA-256</td>\n",
       "      <td>PoW/PoS</td>\n",
       "      <td>0</td>\n",
       "      <td>0</td>\n",
       "    </tr>\n",
       "    <tr>\n",
       "      <th>1337</th>\n",
       "      <td>EliteCoin</td>\n",
       "      <td>X13</td>\n",
       "      <td>PoW/PoS</td>\n",
       "      <td>0</td>\n",
       "      <td>0</td>\n",
       "    </tr>\n",
       "    <tr>\n",
       "      <th>2015</th>\n",
       "      <td>2015 coin</td>\n",
       "      <td>X11</td>\n",
       "      <td>PoW/PoS</td>\n",
       "      <td>0</td>\n",
       "      <td>0</td>\n",
       "    </tr>\n",
       "    <tr>\n",
       "      <th>ACOIN</th>\n",
       "      <td>ACoin</td>\n",
       "      <td>SHA-256</td>\n",
       "      <td>PoW</td>\n",
       "      <td>0</td>\n",
       "      <td>0</td>\n",
       "    </tr>\n",
       "    <tr>\n",
       "      <th>XMY</th>\n",
       "      <td>MyriadCoin</td>\n",
       "      <td>Multiple</td>\n",
       "      <td>PoW</td>\n",
       "      <td>0</td>\n",
       "      <td>2000000000</td>\n",
       "    </tr>\n",
       "    <tr>\n",
       "      <th>SXC</th>\n",
       "      <td>SexCoin</td>\n",
       "      <td>Scrypt</td>\n",
       "      <td>PoW</td>\n",
       "      <td>0</td>\n",
       "      <td>0</td>\n",
       "    </tr>\n",
       "  </tbody>\n",
       "</table>\n",
       "</div>"
      ],
      "text/plain": [
       "         CoinName Algorithm ProofType TotalCoinsMined   MaxSupply\n",
       "42        42 Coin    Scrypt   PoW/PoS               0           0\n",
       "365       365Coin       X11   PoW/PoS               0           0\n",
       "404       404Coin    Scrypt   PoW/PoS               0           0\n",
       "611     SixEleven   SHA-256       PoW               0           0\n",
       "808           808   SHA-256   PoW/PoS               0           0\n",
       "1337    EliteCoin       X13   PoW/PoS               0           0\n",
       "2015    2015 coin       X11   PoW/PoS               0           0\n",
       "ACOIN       ACoin   SHA-256       PoW               0           0\n",
       "XMY    MyriadCoin  Multiple       PoW               0  2000000000\n",
       "SXC       SexCoin    Scrypt       PoW               0           0"
      ]
     },
     "execution_count": 121,
     "metadata": {},
     "output_type": "execute_result"
    }
   ],
   "source": [
    "# Remove rows with at least 1 null value\n",
    "crypto_df = crypto_df.dropna(axis=0, how=\"any\")\n",
    "print(crypto_df.shape)\n",
    "crypto_df.head(10)"
   ]
  },
  {
   "cell_type": "code",
   "execution_count": 122,
   "metadata": {},
   "outputs": [
    {
     "name": "stdout",
     "output_type": "stream",
     "text": [
      "(135, 5)\n"
     ]
    },
    {
     "data": {
      "text/html": [
       "<div>\n",
       "<style scoped>\n",
       "    .dataframe tbody tr th:only-of-type {\n",
       "        vertical-align: middle;\n",
       "    }\n",
       "\n",
       "    .dataframe tbody tr th {\n",
       "        vertical-align: top;\n",
       "    }\n",
       "\n",
       "    .dataframe thead th {\n",
       "        text-align: right;\n",
       "    }\n",
       "</style>\n",
       "<table border=\"1\" class=\"dataframe\">\n",
       "  <thead>\n",
       "    <tr style=\"text-align: right;\">\n",
       "      <th></th>\n",
       "      <th>CoinName</th>\n",
       "      <th>Algorithm</th>\n",
       "      <th>ProofType</th>\n",
       "      <th>TotalCoinsMined</th>\n",
       "      <th>MaxSupply</th>\n",
       "    </tr>\n",
       "  </thead>\n",
       "  <tbody>\n",
       "    <tr>\n",
       "      <th>NVC</th>\n",
       "      <td>NovaCoin</td>\n",
       "      <td>Scrypt</td>\n",
       "      <td>PoW/PoS</td>\n",
       "      <td>3.18151e+06</td>\n",
       "      <td>-1</td>\n",
       "    </tr>\n",
       "    <tr>\n",
       "      <th>XCP</th>\n",
       "      <td>CounterParty</td>\n",
       "      <td>SHA-256</td>\n",
       "      <td>PoW</td>\n",
       "      <td>2.61512e+06</td>\n",
       "      <td>-1</td>\n",
       "    </tr>\n",
       "    <tr>\n",
       "      <th>NSR</th>\n",
       "      <td>NuShares</td>\n",
       "      <td>PoS</td>\n",
       "      <td>PoS</td>\n",
       "      <td>5.85505e+09</td>\n",
       "      <td>0</td>\n",
       "    </tr>\n",
       "    <tr>\n",
       "      <th>MONA</th>\n",
       "      <td>MonaCoin</td>\n",
       "      <td>Scrypt</td>\n",
       "      <td>PoW</td>\n",
       "      <td>8.1021e+07</td>\n",
       "      <td>-1</td>\n",
       "    </tr>\n",
       "    <tr>\n",
       "      <th>TRI</th>\n",
       "      <td>Triangles Coin</td>\n",
       "      <td>X13</td>\n",
       "      <td>PoW/PoS</td>\n",
       "      <td>175041</td>\n",
       "      <td>0</td>\n",
       "    </tr>\n",
       "    <tr>\n",
       "      <th>EMC</th>\n",
       "      <td>Emercoin</td>\n",
       "      <td>SHA-256</td>\n",
       "      <td>PoW/PoS</td>\n",
       "      <td>4.71287e+07</td>\n",
       "      <td>-1</td>\n",
       "    </tr>\n",
       "    <tr>\n",
       "      <th>SAFEX</th>\n",
       "      <td>SafeExchangeCoin</td>\n",
       "      <td>Scrypt</td>\n",
       "      <td>PoC</td>\n",
       "      <td>2147483647</td>\n",
       "      <td>-1</td>\n",
       "    </tr>\n",
       "    <tr>\n",
       "      <th>CMTC</th>\n",
       "      <td>CometCoin</td>\n",
       "      <td>Scrypt</td>\n",
       "      <td>PoW</td>\n",
       "      <td>872830</td>\n",
       "      <td>0</td>\n",
       "    </tr>\n",
       "    <tr>\n",
       "      <th>XSN</th>\n",
       "      <td>Stakenet</td>\n",
       "      <td>X11</td>\n",
       "      <td>TPoS</td>\n",
       "      <td>1.18456e+08</td>\n",
       "      <td>-1</td>\n",
       "    </tr>\n",
       "    <tr>\n",
       "      <th>CHAT</th>\n",
       "      <td>OpenChat</td>\n",
       "      <td>Scrypt</td>\n",
       "      <td>PoW/PoS</td>\n",
       "      <td>1000000000</td>\n",
       "      <td>-1</td>\n",
       "    </tr>\n",
       "  </tbody>\n",
       "</table>\n",
       "</div>"
      ],
      "text/plain": [
       "               CoinName Algorithm ProofType TotalCoinsMined MaxSupply\n",
       "NVC            NovaCoin    Scrypt   PoW/PoS     3.18151e+06        -1\n",
       "XCP        CounterParty   SHA-256       PoW     2.61512e+06        -1\n",
       "NSR            NuShares       PoS       PoS     5.85505e+09         0\n",
       "MONA           MonaCoin    Scrypt       PoW      8.1021e+07        -1\n",
       "TRI      Triangles Coin       X13   PoW/PoS          175041         0\n",
       "EMC            Emercoin   SHA-256   PoW/PoS     4.71287e+07        -1\n",
       "SAFEX  SafeExchangeCoin    Scrypt       PoC      2147483647        -1\n",
       "CMTC          CometCoin    Scrypt       PoW          872830         0\n",
       "XSN            Stakenet       X11      TPoS     1.18456e+08        -1\n",
       "CHAT           OpenChat    Scrypt   PoW/PoS      1000000000        -1"
      ]
     },
     "execution_count": 122,
     "metadata": {},
     "output_type": "execute_result"
    }
   ],
   "source": [
    "# Remove rows with cryptocurrencies having no coins mined\n",
    "crypto_df = crypto_df[crypto_df[\"TotalCoinsMined\"] > 0]\n",
    "print(crypto_df.shape)\n",
    "crypto_df.head(10)"
   ]
  },
  {
   "cell_type": "code",
   "execution_count": 123,
   "metadata": {},
   "outputs": [
    {
     "data": {
      "text/html": [
       "<div>\n",
       "<style scoped>\n",
       "    .dataframe tbody tr th:only-of-type {\n",
       "        vertical-align: middle;\n",
       "    }\n",
       "\n",
       "    .dataframe tbody tr th {\n",
       "        vertical-align: top;\n",
       "    }\n",
       "\n",
       "    .dataframe thead th {\n",
       "        text-align: right;\n",
       "    }\n",
       "</style>\n",
       "<table border=\"1\" class=\"dataframe\">\n",
       "  <thead>\n",
       "    <tr style=\"text-align: right;\">\n",
       "      <th></th>\n",
       "      <th>CoinName</th>\n",
       "      <th>Algorithm</th>\n",
       "      <th>ProofType</th>\n",
       "      <th>TotalCoinsMined</th>\n",
       "      <th>MaxSupply</th>\n",
       "    </tr>\n",
       "  </thead>\n",
       "  <tbody>\n",
       "    <tr>\n",
       "      <th>NVC</th>\n",
       "      <td>NovaCoin</td>\n",
       "      <td>Scrypt</td>\n",
       "      <td>PoW/PoS</td>\n",
       "      <td>3.18151e+06</td>\n",
       "      <td>-1</td>\n",
       "    </tr>\n",
       "    <tr>\n",
       "      <th>XCP</th>\n",
       "      <td>CounterParty</td>\n",
       "      <td>SHA-256</td>\n",
       "      <td>PoW</td>\n",
       "      <td>2.61512e+06</td>\n",
       "      <td>-1</td>\n",
       "    </tr>\n",
       "    <tr>\n",
       "      <th>NSR</th>\n",
       "      <td>NuShares</td>\n",
       "      <td>PoS</td>\n",
       "      <td>PoS</td>\n",
       "      <td>5.85505e+09</td>\n",
       "      <td>0</td>\n",
       "    </tr>\n",
       "    <tr>\n",
       "      <th>MONA</th>\n",
       "      <td>MonaCoin</td>\n",
       "      <td>Scrypt</td>\n",
       "      <td>PoW</td>\n",
       "      <td>8.1021e+07</td>\n",
       "      <td>-1</td>\n",
       "    </tr>\n",
       "    <tr>\n",
       "      <th>TRI</th>\n",
       "      <td>Triangles Coin</td>\n",
       "      <td>X13</td>\n",
       "      <td>PoW/PoS</td>\n",
       "      <td>175041</td>\n",
       "      <td>0</td>\n",
       "    </tr>\n",
       "    <tr>\n",
       "      <th>EMC</th>\n",
       "      <td>Emercoin</td>\n",
       "      <td>SHA-256</td>\n",
       "      <td>PoW/PoS</td>\n",
       "      <td>4.71287e+07</td>\n",
       "      <td>-1</td>\n",
       "    </tr>\n",
       "    <tr>\n",
       "      <th>SAFEX</th>\n",
       "      <td>SafeExchangeCoin</td>\n",
       "      <td>Scrypt</td>\n",
       "      <td>PoC</td>\n",
       "      <td>2147483647</td>\n",
       "      <td>-1</td>\n",
       "    </tr>\n",
       "    <tr>\n",
       "      <th>CMTC</th>\n",
       "      <td>CometCoin</td>\n",
       "      <td>Scrypt</td>\n",
       "      <td>PoW</td>\n",
       "      <td>872830</td>\n",
       "      <td>0</td>\n",
       "    </tr>\n",
       "    <tr>\n",
       "      <th>XSN</th>\n",
       "      <td>Stakenet</td>\n",
       "      <td>X11</td>\n",
       "      <td>TPoS</td>\n",
       "      <td>1.18456e+08</td>\n",
       "      <td>-1</td>\n",
       "    </tr>\n",
       "    <tr>\n",
       "      <th>CHAT</th>\n",
       "      <td>OpenChat</td>\n",
       "      <td>Scrypt</td>\n",
       "      <td>PoW/PoS</td>\n",
       "      <td>1000000000</td>\n",
       "      <td>-1</td>\n",
       "    </tr>\n",
       "  </tbody>\n",
       "</table>\n",
       "</div>"
      ],
      "text/plain": [
       "               CoinName Algorithm ProofType TotalCoinsMined MaxSupply\n",
       "NVC            NovaCoin    Scrypt   PoW/PoS     3.18151e+06        -1\n",
       "XCP        CounterParty   SHA-256       PoW     2.61512e+06        -1\n",
       "NSR            NuShares       PoS       PoS     5.85505e+09         0\n",
       "MONA           MonaCoin    Scrypt       PoW      8.1021e+07        -1\n",
       "TRI      Triangles Coin       X13   PoW/PoS          175041         0\n",
       "EMC            Emercoin   SHA-256   PoW/PoS     4.71287e+07        -1\n",
       "SAFEX  SafeExchangeCoin    Scrypt       PoC      2147483647        -1\n",
       "CMTC          CometCoin    Scrypt       PoW          872830         0\n",
       "XSN            Stakenet       X11      TPoS     1.18456e+08        -1\n",
       "CHAT           OpenChat    Scrypt   PoW/PoS      1000000000        -1"
      ]
     },
     "execution_count": 123,
     "metadata": {},
     "output_type": "execute_result"
    }
   ],
   "source": [
    "# Drop rows where there are 'N/A' text values\n",
    "crypto_df = crypto_df[crypto_df.iloc[:] != 'N/A'].dropna()\n",
    "crypto_df.head(10)"
   ]
  },
  {
   "cell_type": "code",
   "execution_count": 124,
   "metadata": {},
   "outputs": [
    {
     "name": "stdout",
     "output_type": "stream",
     "text": [
      "(117, 1)\n"
     ]
    },
    {
     "data": {
      "text/html": [
       "<div>\n",
       "<style scoped>\n",
       "    .dataframe tbody tr th:only-of-type {\n",
       "        vertical-align: middle;\n",
       "    }\n",
       "\n",
       "    .dataframe tbody tr th {\n",
       "        vertical-align: top;\n",
       "    }\n",
       "\n",
       "    .dataframe thead th {\n",
       "        text-align: right;\n",
       "    }\n",
       "</style>\n",
       "<table border=\"1\" class=\"dataframe\">\n",
       "  <thead>\n",
       "    <tr style=\"text-align: right;\">\n",
       "      <th></th>\n",
       "      <th>CoinName</th>\n",
       "    </tr>\n",
       "  </thead>\n",
       "  <tbody>\n",
       "    <tr>\n",
       "      <th>NVC</th>\n",
       "      <td>NovaCoin</td>\n",
       "    </tr>\n",
       "    <tr>\n",
       "      <th>XCP</th>\n",
       "      <td>CounterParty</td>\n",
       "    </tr>\n",
       "    <tr>\n",
       "      <th>NSR</th>\n",
       "      <td>NuShares</td>\n",
       "    </tr>\n",
       "    <tr>\n",
       "      <th>MONA</th>\n",
       "      <td>MonaCoin</td>\n",
       "    </tr>\n",
       "    <tr>\n",
       "      <th>TRI</th>\n",
       "      <td>Triangles Coin</td>\n",
       "    </tr>\n",
       "  </tbody>\n",
       "</table>\n",
       "</div>"
      ],
      "text/plain": [
       "            CoinName\n",
       "NVC         NovaCoin\n",
       "XCP     CounterParty\n",
       "NSR         NuShares\n",
       "MONA        MonaCoin\n",
       "TRI   Triangles Coin"
      ]
     },
     "execution_count": 124,
     "metadata": {},
     "output_type": "execute_result"
    }
   ],
   "source": [
    "# Store the 'CoinName'column in its own DataFrame prior to dropping it from crypto_df\n",
    "coins_name = pd.DataFrame(crypto_df[\"CoinName\"], index=crypto_df.index)\n",
    "print(coins_name.shape)\n",
    "coins_name.head()"
   ]
  },
  {
   "cell_type": "code",
   "execution_count": 125,
   "metadata": {},
   "outputs": [
    {
     "name": "stdout",
     "output_type": "stream",
     "text": [
      "(117, 4)\n"
     ]
    },
    {
     "data": {
      "text/html": [
       "<div>\n",
       "<style scoped>\n",
       "    .dataframe tbody tr th:only-of-type {\n",
       "        vertical-align: middle;\n",
       "    }\n",
       "\n",
       "    .dataframe tbody tr th {\n",
       "        vertical-align: top;\n",
       "    }\n",
       "\n",
       "    .dataframe thead th {\n",
       "        text-align: right;\n",
       "    }\n",
       "</style>\n",
       "<table border=\"1\" class=\"dataframe\">\n",
       "  <thead>\n",
       "    <tr style=\"text-align: right;\">\n",
       "      <th></th>\n",
       "      <th>Algorithm</th>\n",
       "      <th>ProofType</th>\n",
       "      <th>TotalCoinsMined</th>\n",
       "      <th>MaxSupply</th>\n",
       "    </tr>\n",
       "  </thead>\n",
       "  <tbody>\n",
       "    <tr>\n",
       "      <th>NVC</th>\n",
       "      <td>Scrypt</td>\n",
       "      <td>PoW/PoS</td>\n",
       "      <td>3.18151e+06</td>\n",
       "      <td>-1</td>\n",
       "    </tr>\n",
       "    <tr>\n",
       "      <th>XCP</th>\n",
       "      <td>SHA-256</td>\n",
       "      <td>PoW</td>\n",
       "      <td>2.61512e+06</td>\n",
       "      <td>-1</td>\n",
       "    </tr>\n",
       "    <tr>\n",
       "      <th>NSR</th>\n",
       "      <td>PoS</td>\n",
       "      <td>PoS</td>\n",
       "      <td>5.85505e+09</td>\n",
       "      <td>0</td>\n",
       "    </tr>\n",
       "    <tr>\n",
       "      <th>MONA</th>\n",
       "      <td>Scrypt</td>\n",
       "      <td>PoW</td>\n",
       "      <td>8.1021e+07</td>\n",
       "      <td>-1</td>\n",
       "    </tr>\n",
       "    <tr>\n",
       "      <th>TRI</th>\n",
       "      <td>X13</td>\n",
       "      <td>PoW/PoS</td>\n",
       "      <td>175041</td>\n",
       "      <td>0</td>\n",
       "    </tr>\n",
       "    <tr>\n",
       "      <th>EMC</th>\n",
       "      <td>SHA-256</td>\n",
       "      <td>PoW/PoS</td>\n",
       "      <td>4.71287e+07</td>\n",
       "      <td>-1</td>\n",
       "    </tr>\n",
       "    <tr>\n",
       "      <th>SAFEX</th>\n",
       "      <td>Scrypt</td>\n",
       "      <td>PoC</td>\n",
       "      <td>2147483647</td>\n",
       "      <td>-1</td>\n",
       "    </tr>\n",
       "    <tr>\n",
       "      <th>CMTC</th>\n",
       "      <td>Scrypt</td>\n",
       "      <td>PoW</td>\n",
       "      <td>872830</td>\n",
       "      <td>0</td>\n",
       "    </tr>\n",
       "    <tr>\n",
       "      <th>XSN</th>\n",
       "      <td>X11</td>\n",
       "      <td>TPoS</td>\n",
       "      <td>1.18456e+08</td>\n",
       "      <td>-1</td>\n",
       "    </tr>\n",
       "    <tr>\n",
       "      <th>CHAT</th>\n",
       "      <td>Scrypt</td>\n",
       "      <td>PoW/PoS</td>\n",
       "      <td>1000000000</td>\n",
       "      <td>-1</td>\n",
       "    </tr>\n",
       "  </tbody>\n",
       "</table>\n",
       "</div>"
      ],
      "text/plain": [
       "      Algorithm ProofType TotalCoinsMined MaxSupply\n",
       "NVC      Scrypt   PoW/PoS     3.18151e+06        -1\n",
       "XCP     SHA-256       PoW     2.61512e+06        -1\n",
       "NSR         PoS       PoS     5.85505e+09         0\n",
       "MONA     Scrypt       PoW      8.1021e+07        -1\n",
       "TRI         X13   PoW/PoS          175041         0\n",
       "EMC     SHA-256   PoW/PoS     4.71287e+07        -1\n",
       "SAFEX    Scrypt       PoC      2147483647        -1\n",
       "CMTC     Scrypt       PoW          872830         0\n",
       "XSN         X11      TPoS     1.18456e+08        -1\n",
       "CHAT     Scrypt   PoW/PoS      1000000000        -1"
      ]
     },
     "execution_count": 125,
     "metadata": {},
     "output_type": "execute_result"
    }
   ],
   "source": [
    "# Drop the 'CoinName' column since it's not going to be used on the clustering algorithm\n",
    "crypto_df = crypto_df.drop(\"CoinName\", axis=1)\n",
    "print(crypto_df.shape)\n",
    "crypto_df.head(10)"
   ]
  },
  {
   "cell_type": "code",
   "execution_count": 126,
   "metadata": {},
   "outputs": [
    {
     "name": "stdout",
     "output_type": "stream",
     "text": [
      "(117, 72)\n"
     ]
    },
    {
     "data": {
      "text/html": [
       "<div>\n",
       "<style scoped>\n",
       "    .dataframe tbody tr th:only-of-type {\n",
       "        vertical-align: middle;\n",
       "    }\n",
       "\n",
       "    .dataframe tbody tr th {\n",
       "        vertical-align: top;\n",
       "    }\n",
       "\n",
       "    .dataframe thead th {\n",
       "        text-align: right;\n",
       "    }\n",
       "</style>\n",
       "<table border=\"1\" class=\"dataframe\">\n",
       "  <thead>\n",
       "    <tr style=\"text-align: right;\">\n",
       "      <th></th>\n",
       "      <th>TotalCoinsMined</th>\n",
       "      <th>MaxSupply</th>\n",
       "      <th>Algorithm_BEP-2</th>\n",
       "      <th>Algorithm_BLAKE256</th>\n",
       "      <th>Algorithm_BMW512 / Echo512</th>\n",
       "      <th>Algorithm_Blake2B + SHA3</th>\n",
       "      <th>Algorithm_Blake2b</th>\n",
       "      <th>Algorithm_C31</th>\n",
       "      <th>Algorithm_CryptoNight</th>\n",
       "      <th>Algorithm_CryptoNight-Heavy</th>\n",
       "      <th>...</th>\n",
       "      <th>ProofType_PoW</th>\n",
       "      <th>ProofType_PoW/PoS</th>\n",
       "      <th>ProofType_PoW/PoSe</th>\n",
       "      <th>ProofType_PoW/nPoS</th>\n",
       "      <th>ProofType_Proof of Authority</th>\n",
       "      <th>ProofType_SPoS</th>\n",
       "      <th>ProofType_TPoS</th>\n",
       "      <th>ProofType_Zero-Knowledge Proof</th>\n",
       "      <th>ProofType_dPoW/PoW</th>\n",
       "      <th>ProofType_mPoW</th>\n",
       "    </tr>\n",
       "  </thead>\n",
       "  <tbody>\n",
       "    <tr>\n",
       "      <th>NVC</th>\n",
       "      <td>3.18151e+06</td>\n",
       "      <td>-1</td>\n",
       "      <td>0</td>\n",
       "      <td>0</td>\n",
       "      <td>0</td>\n",
       "      <td>0</td>\n",
       "      <td>0</td>\n",
       "      <td>0</td>\n",
       "      <td>0</td>\n",
       "      <td>0</td>\n",
       "      <td>...</td>\n",
       "      <td>0</td>\n",
       "      <td>1</td>\n",
       "      <td>0</td>\n",
       "      <td>0</td>\n",
       "      <td>0</td>\n",
       "      <td>0</td>\n",
       "      <td>0</td>\n",
       "      <td>0</td>\n",
       "      <td>0</td>\n",
       "      <td>0</td>\n",
       "    </tr>\n",
       "    <tr>\n",
       "      <th>XCP</th>\n",
       "      <td>2.61512e+06</td>\n",
       "      <td>-1</td>\n",
       "      <td>0</td>\n",
       "      <td>0</td>\n",
       "      <td>0</td>\n",
       "      <td>0</td>\n",
       "      <td>0</td>\n",
       "      <td>0</td>\n",
       "      <td>0</td>\n",
       "      <td>0</td>\n",
       "      <td>...</td>\n",
       "      <td>1</td>\n",
       "      <td>0</td>\n",
       "      <td>0</td>\n",
       "      <td>0</td>\n",
       "      <td>0</td>\n",
       "      <td>0</td>\n",
       "      <td>0</td>\n",
       "      <td>0</td>\n",
       "      <td>0</td>\n",
       "      <td>0</td>\n",
       "    </tr>\n",
       "    <tr>\n",
       "      <th>NSR</th>\n",
       "      <td>5.85505e+09</td>\n",
       "      <td>0</td>\n",
       "      <td>0</td>\n",
       "      <td>0</td>\n",
       "      <td>0</td>\n",
       "      <td>0</td>\n",
       "      <td>0</td>\n",
       "      <td>0</td>\n",
       "      <td>0</td>\n",
       "      <td>0</td>\n",
       "      <td>...</td>\n",
       "      <td>0</td>\n",
       "      <td>0</td>\n",
       "      <td>0</td>\n",
       "      <td>0</td>\n",
       "      <td>0</td>\n",
       "      <td>0</td>\n",
       "      <td>0</td>\n",
       "      <td>0</td>\n",
       "      <td>0</td>\n",
       "      <td>0</td>\n",
       "    </tr>\n",
       "    <tr>\n",
       "      <th>MONA</th>\n",
       "      <td>8.1021e+07</td>\n",
       "      <td>-1</td>\n",
       "      <td>0</td>\n",
       "      <td>0</td>\n",
       "      <td>0</td>\n",
       "      <td>0</td>\n",
       "      <td>0</td>\n",
       "      <td>0</td>\n",
       "      <td>0</td>\n",
       "      <td>0</td>\n",
       "      <td>...</td>\n",
       "      <td>1</td>\n",
       "      <td>0</td>\n",
       "      <td>0</td>\n",
       "      <td>0</td>\n",
       "      <td>0</td>\n",
       "      <td>0</td>\n",
       "      <td>0</td>\n",
       "      <td>0</td>\n",
       "      <td>0</td>\n",
       "      <td>0</td>\n",
       "    </tr>\n",
       "    <tr>\n",
       "      <th>TRI</th>\n",
       "      <td>175041</td>\n",
       "      <td>0</td>\n",
       "      <td>0</td>\n",
       "      <td>0</td>\n",
       "      <td>0</td>\n",
       "      <td>0</td>\n",
       "      <td>0</td>\n",
       "      <td>0</td>\n",
       "      <td>0</td>\n",
       "      <td>0</td>\n",
       "      <td>...</td>\n",
       "      <td>0</td>\n",
       "      <td>1</td>\n",
       "      <td>0</td>\n",
       "      <td>0</td>\n",
       "      <td>0</td>\n",
       "      <td>0</td>\n",
       "      <td>0</td>\n",
       "      <td>0</td>\n",
       "      <td>0</td>\n",
       "      <td>0</td>\n",
       "    </tr>\n",
       "    <tr>\n",
       "      <th>EMC</th>\n",
       "      <td>4.71287e+07</td>\n",
       "      <td>-1</td>\n",
       "      <td>0</td>\n",
       "      <td>0</td>\n",
       "      <td>0</td>\n",
       "      <td>0</td>\n",
       "      <td>0</td>\n",
       "      <td>0</td>\n",
       "      <td>0</td>\n",
       "      <td>0</td>\n",
       "      <td>...</td>\n",
       "      <td>0</td>\n",
       "      <td>1</td>\n",
       "      <td>0</td>\n",
       "      <td>0</td>\n",
       "      <td>0</td>\n",
       "      <td>0</td>\n",
       "      <td>0</td>\n",
       "      <td>0</td>\n",
       "      <td>0</td>\n",
       "      <td>0</td>\n",
       "    </tr>\n",
       "    <tr>\n",
       "      <th>SAFEX</th>\n",
       "      <td>2147483647</td>\n",
       "      <td>-1</td>\n",
       "      <td>0</td>\n",
       "      <td>0</td>\n",
       "      <td>0</td>\n",
       "      <td>0</td>\n",
       "      <td>0</td>\n",
       "      <td>0</td>\n",
       "      <td>0</td>\n",
       "      <td>0</td>\n",
       "      <td>...</td>\n",
       "      <td>0</td>\n",
       "      <td>0</td>\n",
       "      <td>0</td>\n",
       "      <td>0</td>\n",
       "      <td>0</td>\n",
       "      <td>0</td>\n",
       "      <td>0</td>\n",
       "      <td>0</td>\n",
       "      <td>0</td>\n",
       "      <td>0</td>\n",
       "    </tr>\n",
       "    <tr>\n",
       "      <th>CMTC</th>\n",
       "      <td>872830</td>\n",
       "      <td>0</td>\n",
       "      <td>0</td>\n",
       "      <td>0</td>\n",
       "      <td>0</td>\n",
       "      <td>0</td>\n",
       "      <td>0</td>\n",
       "      <td>0</td>\n",
       "      <td>0</td>\n",
       "      <td>0</td>\n",
       "      <td>...</td>\n",
       "      <td>1</td>\n",
       "      <td>0</td>\n",
       "      <td>0</td>\n",
       "      <td>0</td>\n",
       "      <td>0</td>\n",
       "      <td>0</td>\n",
       "      <td>0</td>\n",
       "      <td>0</td>\n",
       "      <td>0</td>\n",
       "      <td>0</td>\n",
       "    </tr>\n",
       "    <tr>\n",
       "      <th>XSN</th>\n",
       "      <td>1.18456e+08</td>\n",
       "      <td>-1</td>\n",
       "      <td>0</td>\n",
       "      <td>0</td>\n",
       "      <td>0</td>\n",
       "      <td>0</td>\n",
       "      <td>0</td>\n",
       "      <td>0</td>\n",
       "      <td>0</td>\n",
       "      <td>0</td>\n",
       "      <td>...</td>\n",
       "      <td>0</td>\n",
       "      <td>0</td>\n",
       "      <td>0</td>\n",
       "      <td>0</td>\n",
       "      <td>0</td>\n",
       "      <td>0</td>\n",
       "      <td>1</td>\n",
       "      <td>0</td>\n",
       "      <td>0</td>\n",
       "      <td>0</td>\n",
       "    </tr>\n",
       "    <tr>\n",
       "      <th>CHAT</th>\n",
       "      <td>1000000000</td>\n",
       "      <td>-1</td>\n",
       "      <td>0</td>\n",
       "      <td>0</td>\n",
       "      <td>0</td>\n",
       "      <td>0</td>\n",
       "      <td>0</td>\n",
       "      <td>0</td>\n",
       "      <td>0</td>\n",
       "      <td>0</td>\n",
       "      <td>...</td>\n",
       "      <td>0</td>\n",
       "      <td>1</td>\n",
       "      <td>0</td>\n",
       "      <td>0</td>\n",
       "      <td>0</td>\n",
       "      <td>0</td>\n",
       "      <td>0</td>\n",
       "      <td>0</td>\n",
       "      <td>0</td>\n",
       "      <td>0</td>\n",
       "    </tr>\n",
       "  </tbody>\n",
       "</table>\n",
       "<p>10 rows × 72 columns</p>\n",
       "</div>"
      ],
      "text/plain": [
       "      TotalCoinsMined MaxSupply  Algorithm_BEP-2  Algorithm_BLAKE256  \\\n",
       "NVC       3.18151e+06        -1                0                   0   \n",
       "XCP       2.61512e+06        -1                0                   0   \n",
       "NSR       5.85505e+09         0                0                   0   \n",
       "MONA       8.1021e+07        -1                0                   0   \n",
       "TRI            175041         0                0                   0   \n",
       "EMC       4.71287e+07        -1                0                   0   \n",
       "SAFEX      2147483647        -1                0                   0   \n",
       "CMTC           872830         0                0                   0   \n",
       "XSN       1.18456e+08        -1                0                   0   \n",
       "CHAT       1000000000        -1                0                   0   \n",
       "\n",
       "       Algorithm_BMW512 / Echo512  Algorithm_Blake2B + SHA3  \\\n",
       "NVC                             0                         0   \n",
       "XCP                             0                         0   \n",
       "NSR                             0                         0   \n",
       "MONA                            0                         0   \n",
       "TRI                             0                         0   \n",
       "EMC                             0                         0   \n",
       "SAFEX                           0                         0   \n",
       "CMTC                            0                         0   \n",
       "XSN                             0                         0   \n",
       "CHAT                            0                         0   \n",
       "\n",
       "       Algorithm_Blake2b  Algorithm_C31  Algorithm_CryptoNight  \\\n",
       "NVC                    0              0                      0   \n",
       "XCP                    0              0                      0   \n",
       "NSR                    0              0                      0   \n",
       "MONA                   0              0                      0   \n",
       "TRI                    0              0                      0   \n",
       "EMC                    0              0                      0   \n",
       "SAFEX                  0              0                      0   \n",
       "CMTC                   0              0                      0   \n",
       "XSN                    0              0                      0   \n",
       "CHAT                   0              0                      0   \n",
       "\n",
       "       Algorithm_CryptoNight-Heavy  ...  ProofType_PoW  ProofType_PoW/PoS  \\\n",
       "NVC                              0  ...              0                  1   \n",
       "XCP                              0  ...              1                  0   \n",
       "NSR                              0  ...              0                  0   \n",
       "MONA                             0  ...              1                  0   \n",
       "TRI                              0  ...              0                  1   \n",
       "EMC                              0  ...              0                  1   \n",
       "SAFEX                            0  ...              0                  0   \n",
       "CMTC                             0  ...              1                  0   \n",
       "XSN                              0  ...              0                  0   \n",
       "CHAT                             0  ...              0                  1   \n",
       "\n",
       "       ProofType_PoW/PoSe  ProofType_PoW/nPoS  ProofType_Proof of Authority  \\\n",
       "NVC                     0                   0                             0   \n",
       "XCP                     0                   0                             0   \n",
       "NSR                     0                   0                             0   \n",
       "MONA                    0                   0                             0   \n",
       "TRI                     0                   0                             0   \n",
       "EMC                     0                   0                             0   \n",
       "SAFEX                   0                   0                             0   \n",
       "CMTC                    0                   0                             0   \n",
       "XSN                     0                   0                             0   \n",
       "CHAT                    0                   0                             0   \n",
       "\n",
       "       ProofType_SPoS  ProofType_TPoS  ProofType_Zero-Knowledge Proof  \\\n",
       "NVC                 0               0                               0   \n",
       "XCP                 0               0                               0   \n",
       "NSR                 0               0                               0   \n",
       "MONA                0               0                               0   \n",
       "TRI                 0               0                               0   \n",
       "EMC                 0               0                               0   \n",
       "SAFEX               0               0                               0   \n",
       "CMTC                0               0                               0   \n",
       "XSN                 0               1                               0   \n",
       "CHAT                0               0                               0   \n",
       "\n",
       "       ProofType_dPoW/PoW  ProofType_mPoW  \n",
       "NVC                     0               0  \n",
       "XCP                     0               0  \n",
       "NSR                     0               0  \n",
       "MONA                    0               0  \n",
       "TRI                     0               0  \n",
       "EMC                     0               0  \n",
       "SAFEX                   0               0  \n",
       "CMTC                    0               0  \n",
       "XSN                     0               0  \n",
       "CHAT                    0               0  \n",
       "\n",
       "[10 rows x 72 columns]"
      ]
     },
     "execution_count": 126,
     "metadata": {},
     "output_type": "execute_result"
    }
   ],
   "source": [
    "# Create dummy variables for text features\n",
    "X = pd.get_dummies(data=crypto_df, columns=[\"Algorithm\", \"ProofType\"])\n",
    "print(X.shape)\n",
    "X.head(10)"
   ]
  },
  {
   "cell_type": "code",
   "execution_count": 127,
   "metadata": {},
   "outputs": [
    {
     "data": {
      "text/plain": [
       "array([[-0.17658936, -0.1370063 , -0.09284767, -0.13187609, -0.09284767,\n",
       "        -0.09284767, -0.13187609, -0.13187609, -0.13187609, -0.09284767,\n",
       "        -0.09284767, -0.23249528, -0.13187609, -0.09284767, -0.09284767,\n",
       "        -0.09284767, -0.30570892, -0.09284767, -0.21128856, -0.09284767,\n",
       "        -0.09284767, -0.13187609, -0.09284767, -0.09284767, -0.09284767,\n",
       "        -0.09284767, -0.09284767, -0.16222142, -0.09284767, -0.09284767,\n",
       "        -0.13187609, -0.16222142, -0.09284767, -0.16222142, -0.13187609,\n",
       "        -0.3380617 , -0.13187609, -0.09284767, -0.09284767, -0.09284767,\n",
       "         2.34520788, -0.09284767, -0.09284767, -0.09284767, -0.09284767,\n",
       "        -0.09284767, -0.18814417, -0.09284767, -0.21128856, -0.09284767,\n",
       "        -0.09284767, -0.09284767, -0.09284767, -0.25226249, -0.09284767,\n",
       "        -0.09284767, -0.13187609, -0.13187609, -0.09284767, -0.28867513,\n",
       "        -0.09284767, -0.09284767, -1.00858385,  2.02162225, -0.09284767,\n",
       "        -0.09284767, -0.09284767, -0.09284767, -0.09284767, -0.09284767,\n",
       "        -0.09284767, -0.09284767],\n",
       "       [-0.17659371, -0.1370063 , -0.09284767, -0.13187609, -0.09284767,\n",
       "        -0.09284767, -0.13187609, -0.13187609, -0.13187609, -0.09284767,\n",
       "        -0.09284767, -0.23249528, -0.13187609, -0.09284767, -0.09284767,\n",
       "        -0.09284767, -0.30570892, -0.09284767, -0.21128856, -0.09284767,\n",
       "        -0.09284767, -0.13187609, -0.09284767, -0.09284767, -0.09284767,\n",
       "        -0.09284767, -0.09284767, -0.16222142, -0.09284767, -0.09284767,\n",
       "        -0.13187609, -0.16222142, -0.09284767, -0.16222142, -0.13187609,\n",
       "         2.95803989, -0.13187609, -0.09284767, -0.09284767, -0.09284767,\n",
       "        -0.42640143, -0.09284767, -0.09284767, -0.09284767, -0.09284767,\n",
       "        -0.09284767, -0.18814417, -0.09284767, -0.21128856, -0.09284767,\n",
       "        -0.09284767, -0.09284767, -0.09284767, -0.25226249, -0.09284767,\n",
       "        -0.09284767, -0.13187609, -0.13187609, -0.09284767, -0.28867513,\n",
       "        -0.09284767, -0.09284767,  0.99148921, -0.49465225, -0.09284767,\n",
       "        -0.09284767, -0.09284767, -0.09284767, -0.09284767, -0.09284767,\n",
       "        -0.09284767, -0.09284767],\n",
       "       [-0.13167304, -0.1370063 , -0.09284767, -0.13187609, -0.09284767,\n",
       "        -0.09284767, -0.13187609, -0.13187609, -0.13187609, -0.09284767,\n",
       "        -0.09284767, -0.23249528, -0.13187609, -0.09284767, -0.09284767,\n",
       "        -0.09284767, -0.30570892, -0.09284767, -0.21128856, -0.09284767,\n",
       "        -0.09284767, -0.13187609, -0.09284767, -0.09284767, -0.09284767,\n",
       "        -0.09284767, -0.09284767, -0.16222142, -0.09284767, -0.09284767,\n",
       "        -0.13187609,  6.164414  , -0.09284767, -0.16222142, -0.13187609,\n",
       "        -0.3380617 , -0.13187609, -0.09284767, -0.09284767, -0.09284767,\n",
       "        -0.42640143, -0.09284767, -0.09284767, -0.09284767, -0.09284767,\n",
       "        -0.09284767, -0.18814417, -0.09284767, -0.21128856, -0.09284767,\n",
       "        -0.09284767, -0.09284767, -0.09284767, -0.25226249, -0.09284767,\n",
       "        -0.09284767, -0.13187609, -0.13187609, -0.09284767,  3.46410162,\n",
       "        -0.09284767, -0.09284767, -1.00858385, -0.49465225, -0.09284767,\n",
       "        -0.09284767, -0.09284767, -0.09284767, -0.09284767, -0.09284767,\n",
       "        -0.09284767, -0.09284767],\n",
       "       [-0.1759919 , -0.1370063 , -0.09284767, -0.13187609, -0.09284767,\n",
       "        -0.09284767, -0.13187609, -0.13187609, -0.13187609, -0.09284767,\n",
       "        -0.09284767, -0.23249528, -0.13187609, -0.09284767, -0.09284767,\n",
       "        -0.09284767, -0.30570892, -0.09284767, -0.21128856, -0.09284767,\n",
       "        -0.09284767, -0.13187609, -0.09284767, -0.09284767, -0.09284767,\n",
       "        -0.09284767, -0.09284767, -0.16222142, -0.09284767, -0.09284767,\n",
       "        -0.13187609, -0.16222142, -0.09284767, -0.16222142, -0.13187609,\n",
       "        -0.3380617 , -0.13187609, -0.09284767, -0.09284767, -0.09284767,\n",
       "         2.34520788, -0.09284767, -0.09284767, -0.09284767, -0.09284767,\n",
       "        -0.09284767, -0.18814417, -0.09284767, -0.21128856, -0.09284767,\n",
       "        -0.09284767, -0.09284767, -0.09284767, -0.25226249, -0.09284767,\n",
       "        -0.09284767, -0.13187609, -0.13187609, -0.09284767, -0.28867513,\n",
       "        -0.09284767, -0.09284767,  0.99148921, -0.49465225, -0.09284767,\n",
       "        -0.09284767, -0.09284767, -0.09284767, -0.09284767, -0.09284767,\n",
       "        -0.09284767, -0.09284767],\n",
       "       [-0.17661244, -0.1370063 , -0.09284767, -0.13187609, -0.09284767,\n",
       "        -0.09284767, -0.13187609, -0.13187609, -0.13187609, -0.09284767,\n",
       "        -0.09284767, -0.23249528, -0.13187609, -0.09284767, -0.09284767,\n",
       "        -0.09284767, -0.30570892, -0.09284767, -0.21128856, -0.09284767,\n",
       "        -0.09284767, -0.13187609, -0.09284767, -0.09284767, -0.09284767,\n",
       "        -0.09284767, -0.09284767, -0.16222142, -0.09284767, -0.09284767,\n",
       "        -0.13187609, -0.16222142, -0.09284767, -0.16222142, -0.13187609,\n",
       "        -0.3380617 , -0.13187609, -0.09284767, -0.09284767, -0.09284767,\n",
       "        -0.42640143, -0.09284767, -0.09284767, -0.09284767, -0.09284767,\n",
       "        -0.09284767, -0.18814417, -0.09284767,  4.73286383, -0.09284767,\n",
       "        -0.09284767, -0.09284767, -0.09284767, -0.25226249, -0.09284767,\n",
       "        -0.09284767, -0.13187609, -0.13187609, -0.09284767, -0.28867513,\n",
       "        -0.09284767, -0.09284767, -1.00858385,  2.02162225, -0.09284767,\n",
       "        -0.09284767, -0.09284767, -0.09284767, -0.09284767, -0.09284767,\n",
       "        -0.09284767, -0.09284767]])"
      ]
     },
     "execution_count": 127,
     "metadata": {},
     "output_type": "execute_result"
    }
   ],
   "source": [
    "# Standardize data\n",
    "X = StandardScaler().fit_transform(X)\n",
    "X[:5]"
   ]
  },
  {
   "cell_type": "markdown",
   "metadata": {},
   "source": [
    "### Reducing Dimensions Using PCA"
   ]
  },
  {
   "cell_type": "code",
   "execution_count": 128,
   "metadata": {},
   "outputs": [
    {
     "data": {
      "text/plain": [
       "array([[-1.29118965e+00, -6.40852673e-01, -5.81725720e-01],\n",
       "       [ 1.67414840e+00, -2.18179786e-01,  1.17479401e-03],\n",
       "       [-1.28567000e+00,  6.80851495e-02, -4.98684231e-01],\n",
       "       [ 7.10953462e-01, -6.98112082e-01, -2.47387391e-01],\n",
       "       [-2.03321349e+00, -5.29276103e-01, -7.14362580e-01],\n",
       "       [-3.27802323e-01, -1.60463211e-01, -3.33180297e-01],\n",
       "       [-9.23281364e-01, -5.17126604e-01, -3.31401677e-01],\n",
       "       [ 7.10827433e-01, -6.98411552e-01, -2.47376411e-01],\n",
       "       [-1.18408529e+00, -4.65170177e-01, -1.81934978e-01],\n",
       "       [-1.28962221e+00, -6.37128109e-01, -5.81862286e-01],\n",
       "       [ 1.42900725e+00, -6.96249226e-01, -3.02248993e-02],\n",
       "       [-1.54724298e+00,  8.78665319e-01,  6.16247835e+00],\n",
       "       [ 1.22841568e+00, -6.10079030e-01, -4.60690702e-02],\n",
       "       [ 4.66883461e-01, -6.27858475e-01, -1.38784578e-01],\n",
       "       [ 1.67422835e+00, -2.18046719e-01,  1.18945284e-03],\n",
       "       [ 1.16323174e+00, -7.08103223e-01, -6.19914860e-02],\n",
       "       [ 1.48016770e+00, -6.75760595e-01, -2.51812788e-02],\n",
       "       [ 9.64609695e-01, -6.29603566e-01,  3.07272872e-02],\n",
       "       [-8.38145996e-01, -6.49532408e-01, -3.96203801e-01],\n",
       "       [-1.62616442e+00,  1.90715030e+00, -1.64687209e+00],\n",
       "       [-1.01774602e+00,  1.81055230e+00,  6.25436786e+00],\n",
       "       [ 1.16391461e+00, -7.07130994e-01, -6.18039124e-02],\n",
       "       [ 1.16321870e+00, -7.08072204e-01, -6.20139044e-02],\n",
       "       [-1.86012880e+00, -9.26431945e-03,  2.27364183e+00],\n",
       "       [ 1.69634239e+00, -1.93906093e-01,  3.15791242e-02],\n",
       "       [ 1.50377303e+00, -4.84269691e-01, -3.85486222e-02],\n",
       "       [-1.99570109e+00, -5.87708734e-01, -6.89456781e-01],\n",
       "       [ 1.42915144e+00, -6.78859140e-01, -2.68851932e-02],\n",
       "       [ 1.42861782e+00, -6.96873463e-01, -3.03190559e-02],\n",
       "       [ 1.67440535e+00, -2.17748130e-01,  1.22037156e-03],\n",
       "       [ 1.52923067e+00, -5.22477982e-01,  1.56378104e-03],\n",
       "       [-1.90399515e+00, -1.52953274e-01,  2.32251583e+00],\n",
       "       [ 7.10983305e-01, -6.98041168e-01, -2.47389991e-01],\n",
       "       [ 1.67421364e+00, -2.18081680e-01,  1.19073472e-03],\n",
       "       [-1.29111348e+00, -6.40728603e-01, -5.81710731e-01],\n",
       "       [-3.28992214e-01, -4.59229030e-01,  1.54061980e-01],\n",
       "       [-1.99720545e+00, -5.89987112e-01, -6.89914898e-01],\n",
       "       [ 5.67750647e+00,  6.58371283e+00,  6.82165175e-01],\n",
       "       [-1.83137742e+00,  2.40804518e-01, -6.92157146e-01],\n",
       "       [ 1.41975385e+00, -6.92291946e-01, -3.00842202e-02],\n",
       "       [ 1.46012056e+00, -7.05776063e-01, -3.01281622e-02],\n",
       "       [ 1.67422470e+00, -2.18055407e-01,  1.18977139e-03],\n",
       "       [-2.02174999e+00, -5.96866529e-01, -7.01952649e-01],\n",
       "       [ 1.41976208e+00, -6.92271569e-01, -3.00850493e-02],\n",
       "       [ 1.36424792e+00,  9.99932082e+00, -2.18131981e+00],\n",
       "       [ 1.47483566e+00, -6.32177379e-01, -2.20155944e-02],\n",
       "       [-1.77098338e+00,  6.52480645e-02,  2.94073145e+00],\n",
       "       [ 4.92689853e-03, -6.06876494e-01, -3.03131978e-02],\n",
       "       [-1.37371521e+00,  3.29593806e+00, -1.89121945e+00],\n",
       "       [ 1.44751325e+00, -6.47667158e-01, -2.27195901e-02],\n",
       "       [-1.29119303e+00, -6.40860703e-01, -5.81725425e-01],\n",
       "       [-1.68290536e+00,  1.50643297e+00, -1.26932953e+00],\n",
       "       [-1.24391992e+00, -5.28529821e-01, -5.85844196e-01],\n",
       "       [-9.43830624e-01, -1.84958859e-01, -2.33002775e-01],\n",
       "       [ 5.65761131e-03, -6.05626089e-01, -3.01512674e-02],\n",
       "       [-1.53535046e+00, -5.70874496e-01, -4.73092340e-01],\n",
       "       [-1.37234419e+00,  3.29919590e+00, -1.89133890e+00],\n",
       "       [ 7.11174144e-01, -6.97587695e-01, -2.47406618e-01],\n",
       "       [ 9.13194302e-01, -2.17545124e-01, -2.65008060e-01],\n",
       "       [ 1.42505052e+00, -6.80190367e-01, -3.01910549e-02],\n",
       "       [ 2.43262446e+00,  1.05557842e+00,  1.57391436e-01],\n",
       "       [-2.03238924e+00, -5.27886797e-01, -7.14218142e-01],\n",
       "       [-1.37238815e+00,  3.29909142e+00, -1.89133507e+00],\n",
       "       [ 1.16323833e+00, -7.08082502e-01, -6.19939889e-02],\n",
       "       [-1.28732443e+00, -6.34378984e-01, -5.81032711e-01],\n",
       "       [-1.91218944e+00, -1.79794544e-01,  2.33164555e+00],\n",
       "       [ 7.10862500e-01, -6.98328226e-01, -2.47379466e-01],\n",
       "       [ 1.42022170e+00, -6.91538556e-01, -2.99606447e-02],\n",
       "       [ 1.53813516e+00, -5.26643134e-01, -1.04827849e-02],\n",
       "       [ 1.00547191e-01,  4.52720144e+00,  6.73489823e+00],\n",
       "       [ 1.41984964e+00, -6.92054770e-01, -3.00938708e-02],\n",
       "       [ 1.67725997e+00, -2.13193285e-01,  1.81813066e-03],\n",
       "       [-1.92940577e+00, -6.27867317e-02, -7.12580263e-01],\n",
       "       [ 6.04135801e-01, -4.75931739e-01, -1.65385061e-01],\n",
       "       [ 1.41985254e+00, -6.92148836e-01, -3.00514856e-02],\n",
       "       [ 1.52970822e+00, -4.50233238e-01, -3.99784129e-02],\n",
       "       [-1.37393747e+00,  3.29540992e+00, -1.89120008e+00],\n",
       "       [-1.83104815e+00,  2.41362420e-01, -6.92100546e-01],\n",
       "       [-1.28981842e+00, -6.38732924e-01, -5.81412686e-01],\n",
       "       [-1.72756115e+00,  5.04203077e-01,  6.06530689e+00],\n",
       "       [-2.02207013e+00, -5.97627240e-01, -7.01924757e-01],\n",
       "       [-1.81771851e+00,  2.45318721e-01, -6.86630585e-01],\n",
       "       [-1.91140240e+00, -1.78912945e-01,  2.33674667e+00],\n",
       "       [-2.03310171e+00, -5.29010506e-01, -7.14372319e-01],\n",
       "       [ 1.45588580e+00, -6.26012112e-01, -3.34092604e-02],\n",
       "       [ 1.67417161e+00, -2.18124612e-01,  1.17277100e-03],\n",
       "       [ 1.42866447e+00, -6.96779097e-01, -3.03031603e-02],\n",
       "       [ 7.10990171e-01, -6.98138711e-01, -2.47347339e-01],\n",
       "       [ 7.11135988e-01, -6.97906075e-01, -2.47316793e-01],\n",
       "       [-1.37373498e+00,  3.29589108e+00, -1.89121773e+00],\n",
       "       [-1.81803758e+00,  2.44528746e-01, -6.86598441e-01],\n",
       "       [-2.00918008e+00, -5.93428095e-01, -6.95701388e-01],\n",
       "       [ 1.16323829e+00, -7.08082584e-01, -6.19939859e-02],\n",
       "       [ 7.15746997e-01, -6.91275919e-01, -2.46075017e-01],\n",
       "       [ 1.42035701e+00, -6.91304785e-01, -2.99315991e-02],\n",
       "       [ 1.42865157e+00, -6.96739043e-01, -3.03425921e-02],\n",
       "       [ 1.41983437e+00, -6.92195749e-01, -3.00488423e-02],\n",
       "       [ 1.42175191e+00, -6.88964790e-01, -2.96026784e-02],\n",
       "       [ 1.46006907e+00, -7.06169503e-01, -3.00206986e-02],\n",
       "       [ 1.46048124e+00, -7.05490182e-01, -2.99426142e-02],\n",
       "       [ 1.45995243e+00, -7.06175576e-01, -3.01135135e-02],\n",
       "       [-1.98371985e+00, -5.56598232e-01, -6.91273488e-01],\n",
       "       [ 1.54532250e+00, -5.21614379e-01, -6.53165066e-03],\n",
       "       [-2.00938409e+00, -5.93742080e-01, -6.95748489e-01],\n",
       "       [-1.18429785e+00, -4.65787566e-01, -1.81875155e-01],\n",
       "       [-2.03320496e+00, -5.29255833e-01, -7.14363324e-01],\n",
       "       [-1.54784190e+00,  6.96563665e-01, -6.22368022e-01],\n",
       "       [-1.36043323e+00, -3.58466006e-01, -1.92408411e-01],\n",
       "       [-2.02216131e+00, -5.97843906e-01, -7.01916813e-01],\n",
       "       [-1.18725175e+00, -1.74325047e-01, -5.79851768e-01],\n",
       "       [-1.36955248e+00,  3.03750855e+00, -1.83285478e+00],\n",
       "       [ 1.67422471e+00, -2.18055381e-01,  1.18977042e-03],\n",
       "       [ 1.16325055e+00, -7.08053460e-01, -6.19950538e-02],\n",
       "       [ 1.67422471e+00, -2.18055374e-01,  1.18977018e-03],\n",
       "       [ 1.67422467e+00, -2.18055469e-01,  1.18977367e-03],\n",
       "       [-1.90917352e+00, -1.73624547e-01,  2.34135523e+00],\n",
       "       [-1.99590760e+00, -5.86773763e-01, -6.90045649e-01]])"
      ]
     },
     "execution_count": 128,
     "metadata": {},
     "output_type": "execute_result"
    }
   ],
   "source": [
    "# Use PCA to reduce dimension to 3 principal components\n",
    "n_comp = 3\n",
    "pca = PCA(n_components=n_comp)\n",
    "principal_components = pca.fit_transform(X)\n",
    "principal_components"
   ]
  },
  {
   "cell_type": "code",
   "execution_count": 129,
   "metadata": {},
   "outputs": [
    {
     "name": "stdout",
     "output_type": "stream",
     "text": [
      "(117, 3)\n"
     ]
    },
    {
     "data": {
      "text/html": [
       "<div>\n",
       "<style scoped>\n",
       "    .dataframe tbody tr th:only-of-type {\n",
       "        vertical-align: middle;\n",
       "    }\n",
       "\n",
       "    .dataframe tbody tr th {\n",
       "        vertical-align: top;\n",
       "    }\n",
       "\n",
       "    .dataframe thead th {\n",
       "        text-align: right;\n",
       "    }\n",
       "</style>\n",
       "<table border=\"1\" class=\"dataframe\">\n",
       "  <thead>\n",
       "    <tr style=\"text-align: right;\">\n",
       "      <th></th>\n",
       "      <th>PC 1</th>\n",
       "      <th>PC 2</th>\n",
       "      <th>PC 3</th>\n",
       "    </tr>\n",
       "  </thead>\n",
       "  <tbody>\n",
       "    <tr>\n",
       "      <th>NVC</th>\n",
       "      <td>-1.291190</td>\n",
       "      <td>-0.640853</td>\n",
       "      <td>-0.581726</td>\n",
       "    </tr>\n",
       "    <tr>\n",
       "      <th>XCP</th>\n",
       "      <td>1.674148</td>\n",
       "      <td>-0.218180</td>\n",
       "      <td>0.001175</td>\n",
       "    </tr>\n",
       "    <tr>\n",
       "      <th>NSR</th>\n",
       "      <td>-1.285670</td>\n",
       "      <td>0.068085</td>\n",
       "      <td>-0.498684</td>\n",
       "    </tr>\n",
       "    <tr>\n",
       "      <th>MONA</th>\n",
       "      <td>0.710953</td>\n",
       "      <td>-0.698112</td>\n",
       "      <td>-0.247387</td>\n",
       "    </tr>\n",
       "    <tr>\n",
       "      <th>TRI</th>\n",
       "      <td>-2.033213</td>\n",
       "      <td>-0.529276</td>\n",
       "      <td>-0.714363</td>\n",
       "    </tr>\n",
       "    <tr>\n",
       "      <th>EMC</th>\n",
       "      <td>-0.327802</td>\n",
       "      <td>-0.160463</td>\n",
       "      <td>-0.333180</td>\n",
       "    </tr>\n",
       "    <tr>\n",
       "      <th>SAFEX</th>\n",
       "      <td>-0.923281</td>\n",
       "      <td>-0.517127</td>\n",
       "      <td>-0.331402</td>\n",
       "    </tr>\n",
       "    <tr>\n",
       "      <th>CMTC</th>\n",
       "      <td>0.710827</td>\n",
       "      <td>-0.698412</td>\n",
       "      <td>-0.247376</td>\n",
       "    </tr>\n",
       "    <tr>\n",
       "      <th>XSN</th>\n",
       "      <td>-1.184085</td>\n",
       "      <td>-0.465170</td>\n",
       "      <td>-0.181935</td>\n",
       "    </tr>\n",
       "    <tr>\n",
       "      <th>CHAT</th>\n",
       "      <td>-1.289622</td>\n",
       "      <td>-0.637128</td>\n",
       "      <td>-0.581862</td>\n",
       "    </tr>\n",
       "  </tbody>\n",
       "</table>\n",
       "</div>"
      ],
      "text/plain": [
       "           PC 1      PC 2      PC 3\n",
       "NVC   -1.291190 -0.640853 -0.581726\n",
       "XCP    1.674148 -0.218180  0.001175\n",
       "NSR   -1.285670  0.068085 -0.498684\n",
       "MONA   0.710953 -0.698112 -0.247387\n",
       "TRI   -2.033213 -0.529276 -0.714363\n",
       "EMC   -0.327802 -0.160463 -0.333180\n",
       "SAFEX -0.923281 -0.517127 -0.331402\n",
       "CMTC   0.710827 -0.698412 -0.247376\n",
       "XSN   -1.184085 -0.465170 -0.181935\n",
       "CHAT  -1.289622 -0.637128 -0.581862"
      ]
     },
     "execution_count": 129,
     "metadata": {},
     "output_type": "execute_result"
    }
   ],
   "source": [
    "# Create a DataFrame with the principal components data\n",
    "col_names = [f\"PC {i}\" for i in range(1, n_comp + 1)]\n",
    "pcs_df = pd.DataFrame(principal_components, columns=col_names, index=crypto_df.index)\n",
    "print(pcs_df.shape)\n",
    "pcs_df.head(10)"
   ]
  },
  {
   "cell_type": "markdown",
   "metadata": {},
   "source": [
    "### Clustering Crytocurrencies Using K-Means\n",
    "\n",
    "#### Find the Best Value for `k` Using the Elbow Curve"
   ]
  },
  {
   "cell_type": "code",
   "execution_count": 130,
   "metadata": {},
   "outputs": [
    {
     "data": {},
     "metadata": {},
     "output_type": "display_data"
    },
    {
     "data": {
      "application/vnd.holoviews_exec.v0+json": "",
      "text/html": [
       "<div id='1949'>\n",
       "\n",
       "\n",
       "\n",
       "\n",
       "\n",
       "  <div class=\"bk-root\" id=\"57b0f5ad-a680-4623-906e-2d44fe0766ad\" data-root-id=\"1949\"></div>\n",
       "</div>\n",
       "<script type=\"application/javascript\">(function(root) {\n",
       "  function embed_document(root) {\n",
       "  var docs_json = {\"1ec51983-0275-4ace-bfd9-2d91d461bb0a\":{\"roots\":{\"references\":[{\"attributes\":{\"bottom_units\":\"screen\",\"fill_alpha\":0.5,\"fill_color\":\"lightgrey\",\"left_units\":\"screen\",\"level\":\"overlay\",\"line_alpha\":1.0,\"line_color\":\"black\",\"line_dash\":[4,4],\"line_width\":2,\"right_units\":\"screen\",\"top_units\":\"screen\"},\"id\":\"1976\",\"type\":\"BoxAnnotation\"},{\"attributes\":{\"active_drag\":\"auto\",\"active_inspect\":\"auto\",\"active_multi\":null,\"active_scroll\":\"auto\",\"active_tap\":\"auto\",\"tools\":[{\"id\":\"1953\"},{\"id\":\"1971\"},{\"id\":\"1972\"},{\"id\":\"1973\"},{\"id\":\"1974\"},{\"id\":\"1975\"}]},\"id\":\"1977\",\"type\":\"Toolbar\"},{\"attributes\":{\"line_alpha\":0.2,\"line_color\":\"#1f77b3\",\"line_width\":2,\"x\":{\"field\":\"k\"},\"y\":{\"field\":\"inertia\"}},\"id\":\"1989\",\"type\":\"Line\"},{\"attributes\":{\"line_alpha\":0.1,\"line_color\":\"#1f77b3\",\"line_width\":2,\"x\":{\"field\":\"k\"},\"y\":{\"field\":\"inertia\"}},\"id\":\"1988\",\"type\":\"Line\"},{\"attributes\":{\"data_source\":{\"id\":\"1984\"},\"glyph\":{\"id\":\"1987\"},\"hover_glyph\":null,\"muted_glyph\":{\"id\":\"1989\"},\"nonselection_glyph\":{\"id\":\"1988\"},\"selection_glyph\":null,\"view\":{\"id\":\"1991\"}},\"id\":\"1990\",\"type\":\"GlyphRenderer\"},{\"attributes\":{\"line_color\":\"#1f77b3\",\"line_width\":2,\"x\":{\"field\":\"k\"},\"y\":{\"field\":\"inertia\"}},\"id\":\"1987\",\"type\":\"Line\"},{\"attributes\":{\"below\":[{\"id\":\"1963\"}],\"center\":[{\"id\":\"1966\"},{\"id\":\"1970\"}],\"left\":[{\"id\":\"1967\"}],\"margin\":null,\"min_border_bottom\":10,\"min_border_left\":10,\"min_border_right\":10,\"min_border_top\":10,\"plot_height\":300,\"plot_width\":700,\"renderers\":[{\"id\":\"1990\"}],\"sizing_mode\":\"fixed\",\"title\":{\"id\":\"1955\"},\"toolbar\":{\"id\":\"1977\"},\"x_range\":{\"id\":\"1951\"},\"x_scale\":{\"id\":\"1959\"},\"y_range\":{\"id\":\"1952\"},\"y_scale\":{\"id\":\"1961\"}},\"id\":\"1954\",\"subtype\":\"Figure\",\"type\":\"Plot\"},{\"attributes\":{},\"id\":\"1959\",\"type\":\"LinearScale\"},{\"attributes\":{\"axis_label\":\"inertia\",\"bounds\":\"auto\",\"formatter\":{\"id\":\"1998\"},\"major_label_orientation\":\"horizontal\",\"ticker\":{\"id\":\"1968\"}},\"id\":\"1967\",\"type\":\"LinearAxis\"},{\"attributes\":{\"margin\":[5,5,5,5],\"name\":\"HSpacer03712\",\"sizing_mode\":\"stretch_width\"},\"id\":\"2013\",\"type\":\"Spacer\"},{\"attributes\":{},\"id\":\"1994\",\"type\":\"BasicTickFormatter\"},{\"attributes\":{},\"id\":\"1971\",\"type\":\"SaveTool\"},{\"attributes\":{},\"id\":\"1973\",\"type\":\"WheelZoomTool\"},{\"attributes\":{},\"id\":\"1972\",\"type\":\"PanTool\"},{\"attributes\":{},\"id\":\"2003\",\"type\":\"UnionRenderers\"},{\"attributes\":{\"overlay\":{\"id\":\"1976\"}},\"id\":\"1974\",\"type\":\"BoxZoomTool\"},{\"attributes\":{},\"id\":\"1985\",\"type\":\"Selection\"},{\"attributes\":{\"text\":\"Elbow Curve\",\"text_color\":{\"value\":\"black\"},\"text_font_size\":{\"value\":\"12pt\"}},\"id\":\"1955\",\"type\":\"Title\"},{\"attributes\":{},\"id\":\"1961\",\"type\":\"LinearScale\"},{\"attributes\":{},\"id\":\"1975\",\"type\":\"ResetTool\"},{\"attributes\":{\"margin\":[5,5,5,5],\"name\":\"HSpacer03711\",\"sizing_mode\":\"stretch_width\"},\"id\":\"1950\",\"type\":\"Spacer\"},{\"attributes\":{\"end\":10.0,\"reset_end\":10.0,\"reset_start\":1.0,\"start\":1.0,\"tags\":[[[\"k\",\"k\",null]]]},\"id\":\"1951\",\"type\":\"Range1d\"},{\"attributes\":{\"axis\":{\"id\":\"1963\"},\"grid_line_color\":null,\"ticker\":null},\"id\":\"1966\",\"type\":\"Grid\"},{\"attributes\":{\"axis_label\":\"k\",\"bounds\":\"auto\",\"formatter\":{\"id\":\"1994\"},\"major_label_orientation\":\"horizontal\",\"ticker\":{\"id\":\"1992\"}},\"id\":\"1963\",\"type\":\"LinearAxis\"},{\"attributes\":{\"callback\":null,\"renderers\":[{\"id\":\"1990\"}],\"tags\":[\"hv_created\"],\"tooltips\":[[\"k\",\"@{k}\"],[\"inertia\",\"@{inertia}\"]]},\"id\":\"1953\",\"type\":\"HoverTool\"},{\"attributes\":{},\"id\":\"1998\",\"type\":\"BasicTickFormatter\"},{\"attributes\":{\"children\":[{\"id\":\"1950\"},{\"id\":\"1954\"},{\"id\":\"2013\"}],\"margin\":[0,0,0,0],\"name\":\"Row03707\",\"tags\":[\"embedded\"]},\"id\":\"1949\",\"type\":\"Row\"},{\"attributes\":{\"ticks\":[1,2,3,4,5,6,7,8,9,10]},\"id\":\"1992\",\"type\":\"FixedTicker\"},{\"attributes\":{},\"id\":\"1968\",\"type\":\"BasicTicker\"},{\"attributes\":{\"source\":{\"id\":\"1984\"}},\"id\":\"1991\",\"type\":\"CDSView\"},{\"attributes\":{\"axis\":{\"id\":\"1967\"},\"dimension\":1,\"grid_line_color\":null,\"ticker\":null},\"id\":\"1970\",\"type\":\"Grid\"},{\"attributes\":{\"data\":{\"inertia\":{\"__ndarray__\":\"RKDu7bTOiEDs5DWz98KAQA57Wm041HVA3rkNwYUuaEDa7zAmiVtcQKWwlsUJqFBAr8ALCv2xR0AmaayEHTJCQIwIRkAuETpATCv+z6uENEA=\",\"dtype\":\"float64\",\"order\":\"little\",\"shape\":[10]},\"k\":[1,2,3,4,5,6,7,8,9,10]},\"selected\":{\"id\":\"1985\"},\"selection_policy\":{\"id\":\"2003\"}},\"id\":\"1984\",\"type\":\"ColumnDataSource\"},{\"attributes\":{\"end\":871.1703542239544,\"reset_end\":871.1703542239544,\"reset_start\":-56.813763129156385,\"start\":-56.813763129156385,\"tags\":[[[\"inertia\",\"inertia\",null]]]},\"id\":\"1952\",\"type\":\"Range1d\"}],\"root_ids\":[\"1949\"]},\"title\":\"Bokeh Application\",\"version\":\"2.1.1\"}};\n",
       "  var render_items = [{\"docid\":\"1ec51983-0275-4ace-bfd9-2d91d461bb0a\",\"root_ids\":[\"1949\"],\"roots\":{\"1949\":\"57b0f5ad-a680-4623-906e-2d44fe0766ad\"}}];\n",
       "  root.Bokeh.embed.embed_items_notebook(docs_json, render_items);\n",
       "  }\n",
       "if (root.Bokeh !== undefined) {\n",
       "    embed_document(root);\n",
       "  } else {\n",
       "    var attempts = 0;\n",
       "    var timer = setInterval(function(root) {\n",
       "      if (root.Bokeh !== undefined) {\n",
       "        clearInterval(timer);\n",
       "        embed_document(root);\n",
       "      } else if (document.readyState == \"complete\") {\n",
       "        attempts++;\n",
       "        if (attempts > 100) {\n",
       "          clearInterval(timer);\n",
       "          console.log(\"Bokeh: ERROR: Unable to run BokehJS code because BokehJS library is missing\");\n",
       "        }\n",
       "      }\n",
       "    }, 10, root)\n",
       "  }\n",
       "})(window);</script>"
      ],
      "text/plain": [
       ":Curve   [k]   (inertia)"
      ]
     },
     "execution_count": 130,
     "metadata": {
      "application/vnd.holoviews_exec.v0+json": {
       "id": "1949"
      }
     },
     "output_type": "execute_result"
    }
   ],
   "source": [
    "inertia = []\n",
    "k = list(range(1, 11))\n",
    "\n",
    "# Calculate the inertia for the range of k values\n",
    "for i in k:\n",
    "    km = KMeans(n_clusters=i, random_state=0)\n",
    "    km.fit(pcs_df)\n",
    "    inertia.append(km.inertia_)\n",
    "\n",
    "# Create the Elbow Curve using hvPlot\n",
    "l_curv = {\"k\": k, \"inertia\": inertia}\n",
    "df_curv = pd.DataFrame(l_curv)\n",
    "df_curv.hvplot.line(x=\"k\", y=\"inertia\", xticks=k, title=\"Elbow Curve\")"
   ]
  },
  {
   "cell_type": "markdown",
   "metadata": {},
   "source": [
    "Running K-Means with `k=4`"
   ]
  },
  {
   "cell_type": "code",
   "execution_count": 131,
   "metadata": {},
   "outputs": [
    {
     "name": "stdout",
     "output_type": "stream",
     "text": [
      "(117, 9)\n"
     ]
    },
    {
     "data": {
      "text/html": [
       "<div>\n",
       "<style scoped>\n",
       "    .dataframe tbody tr th:only-of-type {\n",
       "        vertical-align: middle;\n",
       "    }\n",
       "\n",
       "    .dataframe tbody tr th {\n",
       "        vertical-align: top;\n",
       "    }\n",
       "\n",
       "    .dataframe thead th {\n",
       "        text-align: right;\n",
       "    }\n",
       "</style>\n",
       "<table border=\"1\" class=\"dataframe\">\n",
       "  <thead>\n",
       "    <tr style=\"text-align: right;\">\n",
       "      <th></th>\n",
       "      <th>Algorithm</th>\n",
       "      <th>ProofType</th>\n",
       "      <th>TotalCoinsMined</th>\n",
       "      <th>MaxSupply</th>\n",
       "      <th>PC 1</th>\n",
       "      <th>PC 2</th>\n",
       "      <th>PC 3</th>\n",
       "      <th>CoinName</th>\n",
       "      <th>Class</th>\n",
       "    </tr>\n",
       "  </thead>\n",
       "  <tbody>\n",
       "    <tr>\n",
       "      <th>NVC</th>\n",
       "      <td>Scrypt</td>\n",
       "      <td>PoW/PoS</td>\n",
       "      <td>3.18151e+06</td>\n",
       "      <td>-1</td>\n",
       "      <td>-1.291190</td>\n",
       "      <td>-0.640853</td>\n",
       "      <td>-0.581726</td>\n",
       "      <td>NovaCoin</td>\n",
       "      <td>0</td>\n",
       "    </tr>\n",
       "    <tr>\n",
       "      <th>XCP</th>\n",
       "      <td>SHA-256</td>\n",
       "      <td>PoW</td>\n",
       "      <td>2.61512e+06</td>\n",
       "      <td>-1</td>\n",
       "      <td>1.674148</td>\n",
       "      <td>-0.218180</td>\n",
       "      <td>0.001175</td>\n",
       "      <td>CounterParty</td>\n",
       "      <td>2</td>\n",
       "    </tr>\n",
       "    <tr>\n",
       "      <th>NSR</th>\n",
       "      <td>PoS</td>\n",
       "      <td>PoS</td>\n",
       "      <td>5.85505e+09</td>\n",
       "      <td>0</td>\n",
       "      <td>-1.285670</td>\n",
       "      <td>0.068085</td>\n",
       "      <td>-0.498684</td>\n",
       "      <td>NuShares</td>\n",
       "      <td>0</td>\n",
       "    </tr>\n",
       "    <tr>\n",
       "      <th>MONA</th>\n",
       "      <td>Scrypt</td>\n",
       "      <td>PoW</td>\n",
       "      <td>8.1021e+07</td>\n",
       "      <td>-1</td>\n",
       "      <td>0.710953</td>\n",
       "      <td>-0.698112</td>\n",
       "      <td>-0.247387</td>\n",
       "      <td>MonaCoin</td>\n",
       "      <td>2</td>\n",
       "    </tr>\n",
       "    <tr>\n",
       "      <th>TRI</th>\n",
       "      <td>X13</td>\n",
       "      <td>PoW/PoS</td>\n",
       "      <td>175041</td>\n",
       "      <td>0</td>\n",
       "      <td>-2.033213</td>\n",
       "      <td>-0.529276</td>\n",
       "      <td>-0.714363</td>\n",
       "      <td>Triangles Coin</td>\n",
       "      <td>0</td>\n",
       "    </tr>\n",
       "    <tr>\n",
       "      <th>EMC</th>\n",
       "      <td>SHA-256</td>\n",
       "      <td>PoW/PoS</td>\n",
       "      <td>4.71287e+07</td>\n",
       "      <td>-1</td>\n",
       "      <td>-0.327802</td>\n",
       "      <td>-0.160463</td>\n",
       "      <td>-0.333180</td>\n",
       "      <td>Emercoin</td>\n",
       "      <td>0</td>\n",
       "    </tr>\n",
       "    <tr>\n",
       "      <th>SAFEX</th>\n",
       "      <td>Scrypt</td>\n",
       "      <td>PoC</td>\n",
       "      <td>2147483647</td>\n",
       "      <td>-1</td>\n",
       "      <td>-0.923281</td>\n",
       "      <td>-0.517127</td>\n",
       "      <td>-0.331402</td>\n",
       "      <td>SafeExchangeCoin</td>\n",
       "      <td>0</td>\n",
       "    </tr>\n",
       "    <tr>\n",
       "      <th>CMTC</th>\n",
       "      <td>Scrypt</td>\n",
       "      <td>PoW</td>\n",
       "      <td>872830</td>\n",
       "      <td>0</td>\n",
       "      <td>0.710827</td>\n",
       "      <td>-0.698412</td>\n",
       "      <td>-0.247376</td>\n",
       "      <td>CometCoin</td>\n",
       "      <td>2</td>\n",
       "    </tr>\n",
       "    <tr>\n",
       "      <th>XSN</th>\n",
       "      <td>X11</td>\n",
       "      <td>TPoS</td>\n",
       "      <td>1.18456e+08</td>\n",
       "      <td>-1</td>\n",
       "      <td>-1.184085</td>\n",
       "      <td>-0.465170</td>\n",
       "      <td>-0.181935</td>\n",
       "      <td>Stakenet</td>\n",
       "      <td>0</td>\n",
       "    </tr>\n",
       "    <tr>\n",
       "      <th>CHAT</th>\n",
       "      <td>Scrypt</td>\n",
       "      <td>PoW/PoS</td>\n",
       "      <td>1000000000</td>\n",
       "      <td>-1</td>\n",
       "      <td>-1.289622</td>\n",
       "      <td>-0.637128</td>\n",
       "      <td>-0.581862</td>\n",
       "      <td>OpenChat</td>\n",
       "      <td>0</td>\n",
       "    </tr>\n",
       "  </tbody>\n",
       "</table>\n",
       "</div>"
      ],
      "text/plain": [
       "      Algorithm ProofType TotalCoinsMined MaxSupply      PC 1      PC 2  \\\n",
       "NVC      Scrypt   PoW/PoS     3.18151e+06        -1 -1.291190 -0.640853   \n",
       "XCP     SHA-256       PoW     2.61512e+06        -1  1.674148 -0.218180   \n",
       "NSR         PoS       PoS     5.85505e+09         0 -1.285670  0.068085   \n",
       "MONA     Scrypt       PoW      8.1021e+07        -1  0.710953 -0.698112   \n",
       "TRI         X13   PoW/PoS          175041         0 -2.033213 -0.529276   \n",
       "EMC     SHA-256   PoW/PoS     4.71287e+07        -1 -0.327802 -0.160463   \n",
       "SAFEX    Scrypt       PoC      2147483647        -1 -0.923281 -0.517127   \n",
       "CMTC     Scrypt       PoW          872830         0  0.710827 -0.698412   \n",
       "XSN         X11      TPoS     1.18456e+08        -1 -1.184085 -0.465170   \n",
       "CHAT     Scrypt   PoW/PoS      1000000000        -1 -1.289622 -0.637128   \n",
       "\n",
       "           PC 3          CoinName  Class  \n",
       "NVC   -0.581726          NovaCoin      0  \n",
       "XCP    0.001175      CounterParty      2  \n",
       "NSR   -0.498684          NuShares      0  \n",
       "MONA  -0.247387          MonaCoin      2  \n",
       "TRI   -0.714363    Triangles Coin      0  \n",
       "EMC   -0.333180          Emercoin      0  \n",
       "SAFEX -0.331402  SafeExchangeCoin      0  \n",
       "CMTC  -0.247376         CometCoin      2  \n",
       "XSN   -0.181935          Stakenet      0  \n",
       "CHAT  -0.581862          OpenChat      0  "
      ]
     },
     "execution_count": 131,
     "metadata": {},
     "output_type": "execute_result"
    }
   ],
   "source": [
    "# Initialize the K-Means model\n",
    "kmodel = KMeans(n_clusters=4, random_state=0)\n",
    "\n",
    "# Fit the model\n",
    "kmodel.fit(pcs_df)\n",
    "\n",
    "# Predict clusters\n",
    "predictions = kmodel.predict(pcs_df)\n",
    "\n",
    "# Create a new DataFrame including predicted clusters and cryptocurrencies features\n",
    "clustered_df = pd.concat([crypto_df, pcs_df], axis=1, sort=False)\n",
    "clustered_df[\"CoinName\"] = coins_name[\"CoinName\"]\n",
    "clustered_df[\"Class\"] = kmodel.labels_\n",
    "print(clustered_df.shape)\n",
    "clustered_df.head(10)"
   ]
  },
  {
   "cell_type": "markdown",
   "metadata": {},
   "source": [
    "### Visualizing Results\n",
    "\n",
    "#### 3D-Scatter with Clusters"
   ]
  },
  {
   "cell_type": "code",
   "execution_count": 132,
   "metadata": {},
   "outputs": [
    {
     "data": {
      "application/vnd.plotly.v1+json": {
       "config": {
        "plotlyServerURL": "https://plot.ly"
       },
       "data": [
        {
         "customdata": [
          [
           "Scrypt"
          ],
          [
           "PoS"
          ],
          [
           "X13"
          ],
          [
           "SHA-256"
          ],
          [
           "Scrypt"
          ],
          [
           "X11"
          ],
          [
           "Scrypt"
          ],
          [
           "Equihash"
          ],
          [
           "SHA-512"
          ],
          [
           "X16RT"
          ],
          [
           "Scrypt"
          ],
          [
           "HEX"
          ],
          [
           "POS 3.0"
          ],
          [
           "Quark"
          ],
          [
           "DPoS"
          ],
          [
           "Scrypt"
          ],
          [
           "DPoS"
          ],
          [
           "Scrypt"
          ],
          [
           "PoS"
          ],
          [
           "X11"
          ],
          [
           "DPoS"
          ],
          [
           "X13"
          ],
          [
           "DPoS"
          ],
          [
           "Scrypt"
          ],
          [
           "X13"
          ],
          [
           "DPoS"
          ],
          [
           "POS 3.0"
          ],
          [
           "Scrypt"
          ],
          [
           "Quark"
          ],
          [
           "VBFT"
          ],
          [
           "X13"
          ],
          [
           "DPoS"
          ],
          [
           "Loopchain"
          ],
          [
           "BLAKE256"
          ],
          [
           "BMW512 / Echo512"
          ],
          [
           "BLAKE256"
          ],
          [
           "X11"
          ],
          [
           "X13"
          ],
          [
           "Ouroboros"
          ],
          [
           "Shabal256"
          ],
          [
           "Quark"
          ],
          [
           "Scrypt"
          ],
          [
           "SHA-512"
          ],
          [
           "Equihash210,9"
          ]
         ],
         "hovertemplate": "<b>%{hovertext}</b><br><br>Class=%{marker.color}<br>PC 1=%{x}<br>PC 2=%{y}<br>PC 3=%{z}<br>Algorithm=%{customdata[0]}<extra></extra>",
         "hovertext": [
          "NovaCoin",
          "NuShares",
          "Triangles Coin",
          "Emercoin",
          "SafeExchangeCoin",
          "Stakenet",
          "OpenChat",
          "Zelcash",
          "Kcash",
          "VEIL",
          "Auroracoin",
          "XDNA",
          "TokenPay",
          "QuarkCoin",
          "ARK",
          "SaluS",
          "Rise",
          "Reddcoin",
          "Nxt",
          "IOCoin",
          "EOS",
          "Bitcoin Diamond",
          "Achain",
          "WhiteCoin",
          "Stratis",
          "Shift",
          "QTUM",
          "PotCoin",
          "Private Instant Verified Transaction",
          "Ontology",
          "NavCoin",
          "Lisk",
          "ICON Project",
          "HyperCash",
          "DigitalNote",
          "Decred",
          "Dash",
          "CloakCoin",
          "Cardano",
          "BurstCoin",
          "BlockNet",
          "BlackCoin",
          "Bitshares",
          "Aion"
         ],
         "legendgroup": "0",
         "marker": {
          "color": [
           0,
           0,
           0,
           0,
           0,
           0,
           0,
           0,
           0,
           0,
           0,
           0,
           0,
           0,
           0,
           0,
           0,
           0,
           0,
           0,
           0,
           0,
           0,
           0,
           0,
           0,
           0,
           0,
           0,
           0,
           0,
           0,
           0,
           0,
           0,
           0,
           0,
           0,
           0,
           0,
           0,
           0,
           0,
           0
          ],
          "coloraxis": "coloraxis",
          "symbol": "circle"
         },
         "mode": "markers",
         "name": "0",
         "scene": "scene",
         "showlegend": true,
         "type": "scatter3d",
         "x": [
          -1.291189649646019,
          -1.2856700041660072,
          -2.03321348718373,
          -0.32780232266566245,
          -0.9232813640540818,
          -1.1840852896920686,
          -1.289622211407594,
          -0.8381459957106261,
          -1.626164417340795,
          -1.995701087633637,
          -1.2911134786457545,
          -1.9972054531163876,
          -1.8313774236185565,
          -2.021749993708295,
          -1.3737152088912299,
          -1.2911930288499962,
          -1.6829053595335257,
          -1.2439199242187995,
          -0.9438306241539767,
          -1.5353504631024424,
          -1.3723441850210285,
          -2.0323892370893986,
          -1.372388154563027,
          -1.2873244311615661,
          -1.9294057714437223,
          -1.3739374707165652,
          -1.831048149759852,
          -1.2898184240385036,
          -2.0220701296189882,
          -1.8177185101481426,
          -2.033101713803727,
          -1.37373497961614,
          -1.8180375773884636,
          -2.009180080310582,
          -1.9837198456617484,
          -2.0093840903982434,
          -1.1842978492063463,
          -2.033204956819223,
          -1.54784189541481,
          -1.3604332274502577,
          -2.02216131082437,
          -1.1872517502769182,
          -1.3695524842890427,
          -1.9959075969876872
         ],
         "y": [
          -0.6408526731430293,
          0.06808514945188546,
          -0.5292761031715052,
          -0.1604632105738472,
          -0.5171266039648328,
          -0.4651701772091327,
          -0.637128108795772,
          -0.6495324076223487,
          1.907150300883779,
          -0.5877087344866305,
          -0.6407286033750246,
          -0.589987112159433,
          0.2408045175737998,
          -0.5968665292432443,
          3.2959380598354806,
          -0.6408607028454744,
          1.5064329650650912,
          -0.5285298206600029,
          -0.18495885882656704,
          -0.5708744956275528,
          3.2991959021548825,
          -0.5278867969960689,
          3.29909142123262,
          -0.6343789840292627,
          -0.06278673170479801,
          3.2954099187897263,
          0.24136241968637562,
          -0.6387329237688711,
          -0.5976272397899286,
          0.24531872089369172,
          -0.529010506007821,
          3.2958910804168924,
          0.24452874550661227,
          -0.5934280949753185,
          -0.5565982316219179,
          -0.5937420801900669,
          -0.46578756593158377,
          -0.5292558332208456,
          0.696563664842931,
          -0.35846600584943406,
          -0.5978439055942826,
          -0.17432504652605077,
          3.0375085492857283,
          -0.5867737631545314
         ],
         "z": [
          -0.5817257198621401,
          -0.49868423138696616,
          -0.7143625804260029,
          -0.33318029742240846,
          -0.3314016771710948,
          -0.18193497813300216,
          -0.5818622862915656,
          -0.39620380145298933,
          -1.6468720899889866,
          -0.6894567807395597,
          -0.5817107311622776,
          -0.6899148982696099,
          -0.6921571458902525,
          -0.7019526494113826,
          -1.8912194483645524,
          -0.5817254254417232,
          -1.2693295267098512,
          -0.5858441964076263,
          -0.23300277539455413,
          -0.4730923397855279,
          -1.8913389017694902,
          -0.7142181423777259,
          -1.8913350708274965,
          -0.5810327109989019,
          -0.7125802632270486,
          -1.8912000833247442,
          -0.6921005461991229,
          -0.5814126856200207,
          -0.7019247568812771,
          -0.6866305852765084,
          -0.7143723189232851,
          -1.8912177257976006,
          -0.6865984412672569,
          -0.6957013880274745,
          -0.6912734880483747,
          -0.6957484889930109,
          -0.18187515471281182,
          -0.714363323653396,
          -0.6223680220409349,
          -0.19240841145579382,
          -0.7019168125225494,
          -0.579851767755943,
          -1.8328547764132157,
          -0.6900456490794237
         ]
        },
        {
         "customdata": [
          [
           "SHA-256"
          ],
          [
           "Scrypt"
          ],
          [
           "Scrypt"
          ],
          [
           "RandomX"
          ],
          [
           "Equihash"
          ],
          [
           "X11"
          ],
          [
           "SHA-256"
          ],
          [
           "Equihash"
          ],
          [
           "Ethash"
          ],
          [
           "IMesh"
          ],
          [
           "Equihash"
          ],
          [
           "Equihash"
          ],
          [
           "CryptoNight"
          ],
          [
           "Eaglesong"
          ],
          [
           "Blake2B + SHA3"
          ],
          [
           "C31"
          ],
          [
           "SHA-256"
          ],
          [
           "X16R"
          ],
          [
           "Scrypt"
          ],
          [
           "SHA-256"
          ],
          [
           "IMesh"
          ],
          [
           "CryptoNight-Heavy"
          ],
          [
           "Ethash"
          ],
          [
           "SHA-256"
          ],
          [
           "CryptoNight-Lite"
          ],
          [
           "Multiple"
          ],
          [
           "Equihash"
          ],
          [
           "KECCAK"
          ],
          [
           "Equihash"
          ],
          [
           "Scrypt"
          ],
          [
           "Scrypt"
          ],
          [
           "Tensority"
          ],
          [
           "CryptoNight"
          ],
          [
           "Equihash"
          ],
          [
           "Scrypt"
          ],
          [
           "Lyra2REv2"
          ],
          [
           "Multiple"
          ],
          [
           "Dagger-Hashimoto"
          ],
          [
           "SHA-256"
          ],
          [
           "PoS"
          ],
          [
           "X11GOST"
          ],
          [
           "Blake2b"
          ],
          [
           "Blake2b"
          ],
          [
           "SHA-256"
          ],
          [
           "RandomX"
          ],
          [
           "Scrypt"
          ],
          [
           "Scrypt"
          ],
          [
           "Equihash"
          ],
          [
           "Scrypt"
          ],
          [
           "Groestl"
          ],
          [
           "C31"
          ],
          [
           "MTP"
          ],
          [
           "NeoScrypt"
          ],
          [
           "Ethash"
          ],
          [
           "Ethash"
          ],
          [
           "Ethash"
          ],
          [
           "Multiple"
          ],
          [
           "SHA-256"
          ],
          [
           "Equihash"
          ],
          [
           "SHA-256"
          ],
          [
           "SHA-256"
          ]
         ],
         "hovertemplate": "<b>%{hovertext}</b><br><br>Class=%{marker.color}<br>PC 1=%{x}<br>PC 2=%{y}<br>PC 3=%{z}<br>Algorithm=%{customdata[0]}<extra></extra>",
         "hovertext": [
          "CounterParty",
          "MonaCoin",
          "CometCoin",
          "Quantum Resistant Ledger",
          "BitcoinZ",
          "Pura",
          "UnitedBitcoin",
          "Bitcoin Private",
          "Callisto Network",
          "Aidos Kuneen",
          "Beam",
          "Bithereum",
          "Beldex",
          "Nervos Network",
          "Handshake",
          "MimbleWimbleCoin",
          "Arweave",
          "Ravencoin Classic",
          "Primas",
          "Bitcoin Vault",
          "INT",
          "Haven Protocol",
          "EtherZero",
          "Bitcoin ABC",
          "AEON",
          "Circuits of Value",
          "TENT",
          "SmartCash",
          "Komodo",
          "Einsteinium",
          "Dogecoin",
          "Bytom",
          "ByteCoin",
          "ZCash",
          "ViaCoin",
          "Vertcoin",
          "Verge",
          "Ubiq",
          "SysCoin",
          "Steem",
          "SibCoin",
          "Siacoin",
          "Nano",
          "Namecoin",
          "Monero",
          "MegaCoin",
          "Litecoin",
          "Horizen",
          "Gulden",
          "Groestlcoin",
          "Grin",
          "Firo",
          "FeatherCoin",
          "Expanse",
          "Ethereum Classic",
          "Ethereum",
          "DigiByte",
          "Bitcoin SV",
          "Bitcoin Gold",
          "Bitcoin Cash",
          "Bitcoin"
         ],
         "legendgroup": "2",
         "marker": {
          "color": [
           2,
           2,
           2,
           2,
           2,
           2,
           2,
           2,
           2,
           2,
           2,
           2,
           2,
           2,
           2,
           2,
           2,
           2,
           2,
           2,
           2,
           2,
           2,
           2,
           2,
           2,
           2,
           2,
           2,
           2,
           2,
           2,
           2,
           2,
           2,
           2,
           2,
           2,
           2,
           2,
           2,
           2,
           2,
           2,
           2,
           2,
           2,
           2,
           2,
           2,
           2,
           2,
           2,
           2,
           2,
           2,
           2,
           2,
           2,
           2,
           2
          ],
          "coloraxis": "coloraxis",
          "symbol": "diamond"
         },
         "mode": "markers",
         "name": "2",
         "scene": "scene",
         "showlegend": true,
         "type": "scatter3d",
         "x": [
          1.674148395681869,
          0.7109534616385118,
          0.7108274334335506,
          1.4290072454287235,
          1.228415679669089,
          0.4668834608335965,
          1.6742283527696544,
          1.163231743638818,
          1.4801676955264496,
          0.9646096947735628,
          1.1639146132208358,
          1.1632187027314678,
          1.6963423886162747,
          1.5037730317508942,
          1.4291514441254376,
          1.4286178150310127,
          1.6744053483864065,
          1.5292306703281808,
          0.7109833050547462,
          1.6742136400291365,
          -0.3289922142799384,
          1.4197538482716079,
          1.4601205597416607,
          1.6742246966315013,
          1.419762078599677,
          1.474835663117513,
          0.004926898533663616,
          1.4475132470682017,
          0.005657611309260643,
          0.7111741437189295,
          0.9131943024552917,
          1.4250505155661504,
          2.432624464945505,
          1.163238326417095,
          0.7108625001412145,
          1.4202216979941866,
          1.538135157601733,
          1.419849642595214,
          1.6772599740812257,
          0.6041358011959731,
          1.4198525394447148,
          1.5297082171168104,
          1.4558858013434746,
          1.6741716147736103,
          1.4286644668644763,
          0.7109901707213434,
          0.7111359881415231,
          1.1632382921707254,
          0.715746996845886,
          1.4203570068409117,
          1.4286515669901638,
          1.4198343704829393,
          1.42175190704576,
          1.4600690696796539,
          1.4604812449237938,
          1.4599524294550856,
          1.5453225007068256,
          1.6742247077557302,
          1.1632505485105658,
          1.6742247104556152,
          1.674224670377009
         ],
         "y": [
          -0.2181797855857637,
          -0.6981120818971339,
          -0.6984115515359945,
          -0.6962492261044072,
          -0.6100790303325837,
          -0.6278584748343377,
          -0.21804671927406935,
          -0.7081032233085796,
          -0.6757605953780108,
          -0.6296035658016812,
          -0.7071309941995287,
          -0.708072203559104,
          -0.19390609283061197,
          -0.4842696907234546,
          -0.6788591399531799,
          -0.6968734625778279,
          -0.2177481301922458,
          -0.5224779820708463,
          -0.6980411676362842,
          -0.2180816798533365,
          -0.4592290300021333,
          -0.6922919462339981,
          -0.7057760626049944,
          -0.21805540703055068,
          -0.6922715688471124,
          -0.6321773786061232,
          -0.606876493748397,
          -0.647667158078686,
          -0.6056260892597254,
          -0.6975876946589916,
          -0.21754512442491336,
          -0.6801903667325766,
          1.055578421502508,
          -0.7080825021525594,
          -0.6983282256286721,
          -0.691538556208599,
          -0.5266431341875177,
          -0.6920547700268939,
          -0.21319328522345032,
          -0.4759317387576933,
          -0.6921488363549414,
          -0.4502332378619626,
          -0.6260121123670699,
          -0.21812461211917472,
          -0.6967790972978221,
          -0.6981387105962146,
          -0.697906074835896,
          -0.7080825835291675,
          -0.6912759189522086,
          -0.6913047849930826,
          -0.6967390430614963,
          -0.6921957490599284,
          -0.688964790179161,
          -0.7061695025173261,
          -0.7054901822038143,
          -0.7061755756803544,
          -0.5216143790872433,
          -0.21805538059703117,
          -0.7080534598767804,
          -0.21805537418153342,
          -0.21805546941676807
         ],
         "z": [
          0.0011747940092015831,
          -0.2473873910791706,
          -0.2473764105995891,
          -0.030224899314077854,
          -0.04606907015640619,
          -0.13878457828674667,
          0.0011894528380416581,
          -0.06199148597062879,
          -0.025181278842917404,
          0.030727287216470434,
          -0.061803912389818,
          -0.06201390438750148,
          0.03157912419136225,
          -0.0385486222327265,
          -0.026885193196629117,
          -0.03031905587683544,
          0.001220371559366396,
          0.0015637810382219803,
          -0.24738999125102823,
          0.0011907347172200313,
          0.1540619802316285,
          -0.030084220157535112,
          -0.030128162210547305,
          0.001189771386922596,
          -0.03008504931110766,
          -0.022015594401895437,
          -0.03031319780986581,
          -0.022719590074967218,
          -0.030151267433146004,
          -0.24740661848030301,
          -0.2650080595284828,
          -0.030191054936315485,
          0.15739143643036177,
          -0.0619939888821977,
          -0.24737946586298232,
          -0.029960644661874966,
          -0.010482784869480484,
          -0.03009387083060907,
          0.001818130660492722,
          -0.16538506090590488,
          -0.03005148556829982,
          -0.03997841288421996,
          -0.03340926038383704,
          0.0011727709958687324,
          -0.0303031603007938,
          -0.2473473389136928,
          -0.2473167930479212,
          -0.061993985898409064,
          -0.2460750172567772,
          -0.029931599074012317,
          -0.030342592076736813,
          -0.03004884226301952,
          -0.02960267836430949,
          -0.030020698593060387,
          -0.029942614228702993,
          -0.030113513497537766,
          -0.006531650662066172,
          0.001189770417700259,
          -0.06199505375839144,
          0.001189770182467113,
          0.0011897736744018814
         ]
        },
        {
         "customdata": [
          [
           "Dagger"
          ],
          [
           "Dagger"
          ],
          [
           "SPoS"
          ],
          [
           "ECC 256K1"
          ],
          [
           "SPL Token"
          ],
          [
           "Leased POS"
          ],
          [
           "VeChainThor Authority"
          ],
          [
           "Proof-of-Authority"
          ],
          [
           "SHA3"
          ],
          [
           "BEP-2"
          ]
         ],
         "hovertemplate": "<b>%{hovertext}</b><br><br>Class=%{marker.color}<br>PC 1=%{x}<br>PC 2=%{y}<br>PC 3=%{z}<br>Algorithm=%{customdata[0]}<extra></extra>",
         "hovertext": [
          "Amber",
          "DAPS Coin",
          "V Systems",
          "Acute Angle Cloud",
          "MAPS",
          "Waves",
          "VeChain",
          "Poa Network",
          "Nexus",
          "Binance Coin"
         ],
         "legendgroup": "3",
         "marker": {
          "color": [
           3,
           3,
           3,
           3,
           3,
           3,
           3,
           3,
           3,
           3
          ],
          "coloraxis": "coloraxis",
          "symbol": "square"
         },
         "mode": "markers",
         "name": "3",
         "scene": "scene",
         "showlegend": true,
         "type": "scatter3d",
         "x": [
          -1.5472429754560149,
          -1.0177460153825773,
          -1.860128802289587,
          -1.9039951538104798,
          -1.7709833802744717,
          -1.9121894410671274,
          0.1005471913423487,
          -1.7275611491761336,
          -1.9114023980530885,
          -1.9091735166499058
         ],
         "y": [
          0.8786653194796823,
          1.8105523016750842,
          -0.009264319450200486,
          -0.1529532739252504,
          0.06524806448799089,
          -0.17979454354885593,
          4.527201438316375,
          0.5042030768353672,
          -0.17891294518780781,
          -0.17362454682850528
         ],
         "z": [
          6.1624783546606245,
          6.254367858469307,
          2.2736418342495663,
          2.322515828022578,
          2.9407314549060235,
          2.33164554887862,
          6.734898226101534,
          6.0653068938830295,
          2.336746670099177,
          2.3413552331381995
         ]
        },
        {
         "customdata": [
          [
           "SHA-256"
          ],
          [
           "TRC10"
          ]
         ],
         "hovertemplate": "<b>%{hovertext}</b><br><br>Class=%{marker.color}<br>PC 1=%{x}<br>PC 2=%{y}<br>PC 3=%{z}<br>Algorithm=%{customdata[0]}<extra></extra>",
         "hovertext": [
          "Wibcoin",
          "BitTorrent"
         ],
         "legendgroup": "1",
         "marker": {
          "color": [
           1,
           1
          ],
          "coloraxis": "coloraxis",
          "symbol": "x"
         },
         "mode": "markers",
         "name": "1",
         "scene": "scene",
         "showlegend": true,
         "type": "scatter3d",
         "x": [
          5.677506473178126,
          1.364247917965945
         ],
         "y": [
          6.58371282958274,
          9.999320817338099
         ],
         "z": [
          0.6821651753168594,
          -2.1813198116566848
         ]
        }
       ],
       "layout": {
        "autosize": true,
        "coloraxis": {
         "colorbar": {
          "title": {
           "text": "Class"
          }
         },
         "colorscale": [
          [
           0,
           "#0d0887"
          ],
          [
           0.1111111111111111,
           "#46039f"
          ],
          [
           0.2222222222222222,
           "#7201a8"
          ],
          [
           0.3333333333333333,
           "#9c179e"
          ],
          [
           0.4444444444444444,
           "#bd3786"
          ],
          [
           0.5555555555555556,
           "#d8576b"
          ],
          [
           0.6666666666666666,
           "#ed7953"
          ],
          [
           0.7777777777777778,
           "#fb9f3a"
          ],
          [
           0.8888888888888888,
           "#fdca26"
          ],
          [
           1,
           "#f0f921"
          ]
         ]
        },
        "legend": {
         "title": {
          "text": "Class"
         },
         "tracegroupgap": 0,
         "x": 0,
         "y": 1
        },
        "margin": {
         "t": 60
        },
        "scene": {
         "aspectmode": "auto",
         "aspectratio": {
          "x": 0.8539675986654106,
          "y": 1.1858546598616484,
          "z": 0.9874773491999936
         },
         "domain": {
          "x": [
           0,
           1
          ],
          "y": [
           0,
           1
          ]
         },
         "xaxis": {
          "title": {
           "text": "PC 1"
          },
          "type": "linear"
         },
         "yaxis": {
          "title": {
           "text": "PC 2"
          },
          "type": "linear"
         },
         "zaxis": {
          "title": {
           "text": "PC 3"
          },
          "type": "linear"
         }
        },
        "template": {
         "data": {
          "bar": [
           {
            "error_x": {
             "color": "#2a3f5f"
            },
            "error_y": {
             "color": "#2a3f5f"
            },
            "marker": {
             "line": {
              "color": "#E5ECF6",
              "width": 0.5
             }
            },
            "type": "bar"
           }
          ],
          "barpolar": [
           {
            "marker": {
             "line": {
              "color": "#E5ECF6",
              "width": 0.5
             }
            },
            "type": "barpolar"
           }
          ],
          "carpet": [
           {
            "aaxis": {
             "endlinecolor": "#2a3f5f",
             "gridcolor": "white",
             "linecolor": "white",
             "minorgridcolor": "white",
             "startlinecolor": "#2a3f5f"
            },
            "baxis": {
             "endlinecolor": "#2a3f5f",
             "gridcolor": "white",
             "linecolor": "white",
             "minorgridcolor": "white",
             "startlinecolor": "#2a3f5f"
            },
            "type": "carpet"
           }
          ],
          "choropleth": [
           {
            "colorbar": {
             "outlinewidth": 0,
             "ticks": ""
            },
            "type": "choropleth"
           }
          ],
          "contour": [
           {
            "colorbar": {
             "outlinewidth": 0,
             "ticks": ""
            },
            "colorscale": [
             [
              0,
              "#0d0887"
             ],
             [
              0.1111111111111111,
              "#46039f"
             ],
             [
              0.2222222222222222,
              "#7201a8"
             ],
             [
              0.3333333333333333,
              "#9c179e"
             ],
             [
              0.4444444444444444,
              "#bd3786"
             ],
             [
              0.5555555555555556,
              "#d8576b"
             ],
             [
              0.6666666666666666,
              "#ed7953"
             ],
             [
              0.7777777777777778,
              "#fb9f3a"
             ],
             [
              0.8888888888888888,
              "#fdca26"
             ],
             [
              1,
              "#f0f921"
             ]
            ],
            "type": "contour"
           }
          ],
          "contourcarpet": [
           {
            "colorbar": {
             "outlinewidth": 0,
             "ticks": ""
            },
            "type": "contourcarpet"
           }
          ],
          "heatmap": [
           {
            "colorbar": {
             "outlinewidth": 0,
             "ticks": ""
            },
            "colorscale": [
             [
              0,
              "#0d0887"
             ],
             [
              0.1111111111111111,
              "#46039f"
             ],
             [
              0.2222222222222222,
              "#7201a8"
             ],
             [
              0.3333333333333333,
              "#9c179e"
             ],
             [
              0.4444444444444444,
              "#bd3786"
             ],
             [
              0.5555555555555556,
              "#d8576b"
             ],
             [
              0.6666666666666666,
              "#ed7953"
             ],
             [
              0.7777777777777778,
              "#fb9f3a"
             ],
             [
              0.8888888888888888,
              "#fdca26"
             ],
             [
              1,
              "#f0f921"
             ]
            ],
            "type": "heatmap"
           }
          ],
          "heatmapgl": [
           {
            "colorbar": {
             "outlinewidth": 0,
             "ticks": ""
            },
            "colorscale": [
             [
              0,
              "#0d0887"
             ],
             [
              0.1111111111111111,
              "#46039f"
             ],
             [
              0.2222222222222222,
              "#7201a8"
             ],
             [
              0.3333333333333333,
              "#9c179e"
             ],
             [
              0.4444444444444444,
              "#bd3786"
             ],
             [
              0.5555555555555556,
              "#d8576b"
             ],
             [
              0.6666666666666666,
              "#ed7953"
             ],
             [
              0.7777777777777778,
              "#fb9f3a"
             ],
             [
              0.8888888888888888,
              "#fdca26"
             ],
             [
              1,
              "#f0f921"
             ]
            ],
            "type": "heatmapgl"
           }
          ],
          "histogram": [
           {
            "marker": {
             "colorbar": {
              "outlinewidth": 0,
              "ticks": ""
             }
            },
            "type": "histogram"
           }
          ],
          "histogram2d": [
           {
            "colorbar": {
             "outlinewidth": 0,
             "ticks": ""
            },
            "colorscale": [
             [
              0,
              "#0d0887"
             ],
             [
              0.1111111111111111,
              "#46039f"
             ],
             [
              0.2222222222222222,
              "#7201a8"
             ],
             [
              0.3333333333333333,
              "#9c179e"
             ],
             [
              0.4444444444444444,
              "#bd3786"
             ],
             [
              0.5555555555555556,
              "#d8576b"
             ],
             [
              0.6666666666666666,
              "#ed7953"
             ],
             [
              0.7777777777777778,
              "#fb9f3a"
             ],
             [
              0.8888888888888888,
              "#fdca26"
             ],
             [
              1,
              "#f0f921"
             ]
            ],
            "type": "histogram2d"
           }
          ],
          "histogram2dcontour": [
           {
            "colorbar": {
             "outlinewidth": 0,
             "ticks": ""
            },
            "colorscale": [
             [
              0,
              "#0d0887"
             ],
             [
              0.1111111111111111,
              "#46039f"
             ],
             [
              0.2222222222222222,
              "#7201a8"
             ],
             [
              0.3333333333333333,
              "#9c179e"
             ],
             [
              0.4444444444444444,
              "#bd3786"
             ],
             [
              0.5555555555555556,
              "#d8576b"
             ],
             [
              0.6666666666666666,
              "#ed7953"
             ],
             [
              0.7777777777777778,
              "#fb9f3a"
             ],
             [
              0.8888888888888888,
              "#fdca26"
             ],
             [
              1,
              "#f0f921"
             ]
            ],
            "type": "histogram2dcontour"
           }
          ],
          "mesh3d": [
           {
            "colorbar": {
             "outlinewidth": 0,
             "ticks": ""
            },
            "type": "mesh3d"
           }
          ],
          "parcoords": [
           {
            "line": {
             "colorbar": {
              "outlinewidth": 0,
              "ticks": ""
             }
            },
            "type": "parcoords"
           }
          ],
          "pie": [
           {
            "automargin": true,
            "type": "pie"
           }
          ],
          "scatter": [
           {
            "marker": {
             "colorbar": {
              "outlinewidth": 0,
              "ticks": ""
             }
            },
            "type": "scatter"
           }
          ],
          "scatter3d": [
           {
            "line": {
             "colorbar": {
              "outlinewidth": 0,
              "ticks": ""
             }
            },
            "marker": {
             "colorbar": {
              "outlinewidth": 0,
              "ticks": ""
             }
            },
            "type": "scatter3d"
           }
          ],
          "scattercarpet": [
           {
            "marker": {
             "colorbar": {
              "outlinewidth": 0,
              "ticks": ""
             }
            },
            "type": "scattercarpet"
           }
          ],
          "scattergeo": [
           {
            "marker": {
             "colorbar": {
              "outlinewidth": 0,
              "ticks": ""
             }
            },
            "type": "scattergeo"
           }
          ],
          "scattergl": [
           {
            "marker": {
             "colorbar": {
              "outlinewidth": 0,
              "ticks": ""
             }
            },
            "type": "scattergl"
           }
          ],
          "scattermapbox": [
           {
            "marker": {
             "colorbar": {
              "outlinewidth": 0,
              "ticks": ""
             }
            },
            "type": "scattermapbox"
           }
          ],
          "scatterpolar": [
           {
            "marker": {
             "colorbar": {
              "outlinewidth": 0,
              "ticks": ""
             }
            },
            "type": "scatterpolar"
           }
          ],
          "scatterpolargl": [
           {
            "marker": {
             "colorbar": {
              "outlinewidth": 0,
              "ticks": ""
             }
            },
            "type": "scatterpolargl"
           }
          ],
          "scatterternary": [
           {
            "marker": {
             "colorbar": {
              "outlinewidth": 0,
              "ticks": ""
             }
            },
            "type": "scatterternary"
           }
          ],
          "surface": [
           {
            "colorbar": {
             "outlinewidth": 0,
             "ticks": ""
            },
            "colorscale": [
             [
              0,
              "#0d0887"
             ],
             [
              0.1111111111111111,
              "#46039f"
             ],
             [
              0.2222222222222222,
              "#7201a8"
             ],
             [
              0.3333333333333333,
              "#9c179e"
             ],
             [
              0.4444444444444444,
              "#bd3786"
             ],
             [
              0.5555555555555556,
              "#d8576b"
             ],
             [
              0.6666666666666666,
              "#ed7953"
             ],
             [
              0.7777777777777778,
              "#fb9f3a"
             ],
             [
              0.8888888888888888,
              "#fdca26"
             ],
             [
              1,
              "#f0f921"
             ]
            ],
            "type": "surface"
           }
          ],
          "table": [
           {
            "cells": {
             "fill": {
              "color": "#EBF0F8"
             },
             "line": {
              "color": "white"
             }
            },
            "header": {
             "fill": {
              "color": "#C8D4E3"
             },
             "line": {
              "color": "white"
             }
            },
            "type": "table"
           }
          ]
         },
         "layout": {
          "annotationdefaults": {
           "arrowcolor": "#2a3f5f",
           "arrowhead": 0,
           "arrowwidth": 1
          },
          "autotypenumbers": "strict",
          "coloraxis": {
           "colorbar": {
            "outlinewidth": 0,
            "ticks": ""
           }
          },
          "colorscale": {
           "diverging": [
            [
             0,
             "#8e0152"
            ],
            [
             0.1,
             "#c51b7d"
            ],
            [
             0.2,
             "#de77ae"
            ],
            [
             0.3,
             "#f1b6da"
            ],
            [
             0.4,
             "#fde0ef"
            ],
            [
             0.5,
             "#f7f7f7"
            ],
            [
             0.6,
             "#e6f5d0"
            ],
            [
             0.7,
             "#b8e186"
            ],
            [
             0.8,
             "#7fbc41"
            ],
            [
             0.9,
             "#4d9221"
            ],
            [
             1,
             "#276419"
            ]
           ],
           "sequential": [
            [
             0,
             "#0d0887"
            ],
            [
             0.1111111111111111,
             "#46039f"
            ],
            [
             0.2222222222222222,
             "#7201a8"
            ],
            [
             0.3333333333333333,
             "#9c179e"
            ],
            [
             0.4444444444444444,
             "#bd3786"
            ],
            [
             0.5555555555555556,
             "#d8576b"
            ],
            [
             0.6666666666666666,
             "#ed7953"
            ],
            [
             0.7777777777777778,
             "#fb9f3a"
            ],
            [
             0.8888888888888888,
             "#fdca26"
            ],
            [
             1,
             "#f0f921"
            ]
           ],
           "sequentialminus": [
            [
             0,
             "#0d0887"
            ],
            [
             0.1111111111111111,
             "#46039f"
            ],
            [
             0.2222222222222222,
             "#7201a8"
            ],
            [
             0.3333333333333333,
             "#9c179e"
            ],
            [
             0.4444444444444444,
             "#bd3786"
            ],
            [
             0.5555555555555556,
             "#d8576b"
            ],
            [
             0.6666666666666666,
             "#ed7953"
            ],
            [
             0.7777777777777778,
             "#fb9f3a"
            ],
            [
             0.8888888888888888,
             "#fdca26"
            ],
            [
             1,
             "#f0f921"
            ]
           ]
          },
          "colorway": [
           "#636efa",
           "#EF553B",
           "#00cc96",
           "#ab63fa",
           "#FFA15A",
           "#19d3f3",
           "#FF6692",
           "#B6E880",
           "#FF97FF",
           "#FECB52"
          ],
          "font": {
           "color": "#2a3f5f"
          },
          "geo": {
           "bgcolor": "white",
           "lakecolor": "white",
           "landcolor": "#E5ECF6",
           "showlakes": true,
           "showland": true,
           "subunitcolor": "white"
          },
          "hoverlabel": {
           "align": "left"
          },
          "hovermode": "closest",
          "mapbox": {
           "style": "light"
          },
          "paper_bgcolor": "white",
          "plot_bgcolor": "#E5ECF6",
          "polar": {
           "angularaxis": {
            "gridcolor": "white",
            "linecolor": "white",
            "ticks": ""
           },
           "bgcolor": "#E5ECF6",
           "radialaxis": {
            "gridcolor": "white",
            "linecolor": "white",
            "ticks": ""
           }
          },
          "scene": {
           "xaxis": {
            "backgroundcolor": "#E5ECF6",
            "gridcolor": "white",
            "gridwidth": 2,
            "linecolor": "white",
            "showbackground": true,
            "ticks": "",
            "zerolinecolor": "white"
           },
           "yaxis": {
            "backgroundcolor": "#E5ECF6",
            "gridcolor": "white",
            "gridwidth": 2,
            "linecolor": "white",
            "showbackground": true,
            "ticks": "",
            "zerolinecolor": "white"
           },
           "zaxis": {
            "backgroundcolor": "#E5ECF6",
            "gridcolor": "white",
            "gridwidth": 2,
            "linecolor": "white",
            "showbackground": true,
            "ticks": "",
            "zerolinecolor": "white"
           }
          },
          "shapedefaults": {
           "line": {
            "color": "#2a3f5f"
           }
          },
          "ternary": {
           "aaxis": {
            "gridcolor": "white",
            "linecolor": "white",
            "ticks": ""
           },
           "baxis": {
            "gridcolor": "white",
            "linecolor": "white",
            "ticks": ""
           },
           "bgcolor": "#E5ECF6",
           "caxis": {
            "gridcolor": "white",
            "linecolor": "white",
            "ticks": ""
           }
          },
          "title": {
           "x": 0.05
          },
          "xaxis": {
           "automargin": true,
           "gridcolor": "white",
           "linecolor": "white",
           "ticks": "",
           "title": {
            "standoff": 15
           },
           "zerolinecolor": "white",
           "zerolinewidth": 2
          },
          "yaxis": {
           "automargin": true,
           "gridcolor": "white",
           "linecolor": "white",
           "ticks": "",
           "title": {
            "standoff": 15
           },
           "zerolinecolor": "white",
           "zerolinewidth": 2
          }
         }
        }
       }
      },
      "image/png": "[encoded data removed]",
      "text/html": [
       "<div>                            <div id=\"9b8a7e2b-3111-4b13-aaf9-a92c3aaa7add\" class=\"plotly-graph-div\" style=\"height:525px; width:800px;\"></div>            <script type=\"text/javascript\">                require([\"plotly\"], function(Plotly) {                    window.PLOTLYENV=window.PLOTLYENV || {};                                    if (document.getElementById(\"9b8a7e2b-3111-4b13-aaf9-a92c3aaa7add\")) {                    Plotly.newPlot(                        \"9b8a7e2b-3111-4b13-aaf9-a92c3aaa7add\",                        [{\"customdata\": [[\"Scrypt\"], [\"PoS\"], [\"X13\"], [\"SHA-256\"], [\"Scrypt\"], [\"X11\"], [\"Scrypt\"], [\"Equihash\"], [\"SHA-512\"], [\"X16RT\"], [\"Scrypt\"], [\"HEX\"], [\"POS 3.0\"], [\"Quark\"], [\"DPoS\"], [\"Scrypt\"], [\"DPoS\"], [\"Scrypt\"], [\"PoS\"], [\"X11\"], [\"DPoS\"], [\"X13\"], [\"DPoS\"], [\"Scrypt\"], [\"X13\"], [\"DPoS\"], [\"POS 3.0\"], [\"Scrypt\"], [\"Quark\"], [\"VBFT\"], [\"X13\"], [\"DPoS\"], [\"Loopchain\"], [\"BLAKE256\"], [\"BMW512 / Echo512\"], [\"BLAKE256\"], [\"X11\"], [\"X13\"], [\"Ouroboros\"], [\"Shabal256\"], [\"Quark\"], [\"Scrypt\"], [\"SHA-512\"], [\"Equihash210,9\"]], \"hovertemplate\": \"<b>%{hovertext}</b><br><br>Class=%{marker.color}<br>PC 1=%{x}<br>PC 2=%{y}<br>PC 3=%{z}<br>Algorithm=%{customdata[0]}<extra></extra>\", \"hovertext\": [\"NovaCoin\", \"NuShares\", \"Triangles Coin\", \"Emercoin\", \"SafeExchangeCoin\", \"Stakenet\", \"OpenChat\", \"Zelcash\", \"Kcash\", \"VEIL\", \"Auroracoin\", \"XDNA\", \"TokenPay\", \"QuarkCoin\", \"ARK\", \"SaluS\", \"Rise\", \"Reddcoin\", \"Nxt\", \"IOCoin\", \"EOS\", \"Bitcoin Diamond\", \"Achain\", \"WhiteCoin\", \"Stratis\", \"Shift\", \"QTUM\", \"PotCoin\", \"Private Instant Verified Transaction\", \"Ontology\", \"NavCoin\", \"Lisk\", \"ICON Project\", \"HyperCash\", \"DigitalNote\", \"Decred\", \"Dash\", \"CloakCoin\", \"Cardano\", \"BurstCoin\", \"BlockNet\", \"BlackCoin\", \"Bitshares\", \"Aion\"], \"legendgroup\": \"0\", \"marker\": {\"color\": [0, 0, 0, 0, 0, 0, 0, 0, 0, 0, 0, 0, 0, 0, 0, 0, 0, 0, 0, 0, 0, 0, 0, 0, 0, 0, 0, 0, 0, 0, 0, 0, 0, 0, 0, 0, 0, 0, 0, 0, 0, 0, 0, 0], \"coloraxis\": \"coloraxis\", \"symbol\": \"circle\"}, \"mode\": \"markers\", \"name\": \"0\", \"scene\": \"scene\", \"showlegend\": true, \"type\": \"scatter3d\", \"x\": [-1.291189649646019, -1.2856700041660072, -2.03321348718373, -0.32780232266566245, -0.9232813640540818, -1.1840852896920686, -1.289622211407594, -0.8381459957106261, -1.626164417340795, -1.995701087633637, -1.2911134786457545, -1.9972054531163876, -1.8313774236185565, -2.021749993708295, -1.3737152088912299, -1.2911930288499962, -1.6829053595335257, -1.2439199242187995, -0.9438306241539767, -1.5353504631024424, -1.3723441850210285, -2.0323892370893986, -1.372388154563027, -1.2873244311615661, -1.9294057714437223, -1.3739374707165652, -1.831048149759852, -1.2898184240385036, -2.0220701296189882, -1.8177185101481426, -2.033101713803727, -1.37373497961614, -1.8180375773884636, -2.009180080310582, -1.9837198456617484, -2.0093840903982434, -1.1842978492063463, -2.033204956819223, -1.54784189541481, -1.3604332274502577, -2.02216131082437, -1.1872517502769182, -1.3695524842890427, -1.9959075969876872], \"y\": [-0.6408526731430293, 0.06808514945188546, -0.5292761031715052, -0.1604632105738472, -0.5171266039648328, -0.4651701772091327, -0.637128108795772, -0.6495324076223487, 1.907150300883779, -0.5877087344866305, -0.6407286033750246, -0.589987112159433, 0.2408045175737998, -0.5968665292432443, 3.2959380598354806, -0.6408607028454744, 1.5064329650650912, -0.5285298206600029, -0.18495885882656704, -0.5708744956275528, 3.2991959021548825, -0.5278867969960689, 3.29909142123262, -0.6343789840292627, -0.06278673170479801, 3.2954099187897263, 0.24136241968637562, -0.6387329237688711, -0.5976272397899286, 0.24531872089369172, -0.529010506007821, 3.2958910804168924, 0.24452874550661227, -0.5934280949753185, -0.5565982316219179, -0.5937420801900669, -0.46578756593158377, -0.5292558332208456, 0.696563664842931, -0.35846600584943406, -0.5978439055942826, -0.17432504652605077, 3.0375085492857283, -0.5867737631545314], \"z\": [-0.5817257198621401, -0.49868423138696616, -0.7143625804260029, -0.33318029742240846, -0.3314016771710948, -0.18193497813300216, -0.5818622862915656, -0.39620380145298933, -1.6468720899889866, -0.6894567807395597, -0.5817107311622776, -0.6899148982696099, -0.6921571458902525, -0.7019526494113826, -1.8912194483645524, -0.5817254254417232, -1.2693295267098512, -0.5858441964076263, -0.23300277539455413, -0.4730923397855279, -1.8913389017694902, -0.7142181423777259, -1.8913350708274965, -0.5810327109989019, -0.7125802632270486, -1.8912000833247442, -0.6921005461991229, -0.5814126856200207, -0.7019247568812771, -0.6866305852765084, -0.7143723189232851, -1.8912177257976006, -0.6865984412672569, -0.6957013880274745, -0.6912734880483747, -0.6957484889930109, -0.18187515471281182, -0.714363323653396, -0.6223680220409349, -0.19240841145579382, -0.7019168125225494, -0.579851767755943, -1.8328547764132157, -0.6900456490794237]}, {\"customdata\": [[\"SHA-256\"], [\"Scrypt\"], [\"Scrypt\"], [\"RandomX\"], [\"Equihash\"], [\"X11\"], [\"SHA-256\"], [\"Equihash\"], [\"Ethash\"], [\"IMesh\"], [\"Equihash\"], [\"Equihash\"], [\"CryptoNight\"], [\"Eaglesong\"], [\"Blake2B + SHA3\"], [\"C31\"], [\"SHA-256\"], [\"X16R\"], [\"Scrypt\"], [\"SHA-256\"], [\"IMesh\"], [\"CryptoNight-Heavy\"], [\"Ethash\"], [\"SHA-256\"], [\"CryptoNight-Lite\"], [\"Multiple\"], [\"Equihash\"], [\"KECCAK\"], [\"Equihash\"], [\"Scrypt\"], [\"Scrypt\"], [\"Tensority\"], [\"CryptoNight\"], [\"Equihash\"], [\"Scrypt\"], [\"Lyra2REv2\"], [\"Multiple\"], [\"Dagger-Hashimoto\"], [\"SHA-256\"], [\"PoS\"], [\"X11GOST\"], [\"Blake2b\"], [\"Blake2b\"], [\"SHA-256\"], [\"RandomX\"], [\"Scrypt\"], [\"Scrypt\"], [\"Equihash\"], [\"Scrypt\"], [\"Groestl\"], [\"C31\"], [\"MTP\"], [\"NeoScrypt\"], [\"Ethash\"], [\"Ethash\"], [\"Ethash\"], [\"Multiple\"], [\"SHA-256\"], [\"Equihash\"], [\"SHA-256\"], [\"SHA-256\"]], \"hovertemplate\": \"<b>%{hovertext}</b><br><br>Class=%{marker.color}<br>PC 1=%{x}<br>PC 2=%{y}<br>PC 3=%{z}<br>Algorithm=%{customdata[0]}<extra></extra>\", \"hovertext\": [\"CounterParty\", \"MonaCoin\", \"CometCoin\", \"Quantum Resistant Ledger\", \"BitcoinZ\", \"Pura\", \"UnitedBitcoin\", \"Bitcoin Private\", \"Callisto Network\", \"Aidos Kuneen\", \"Beam\", \"Bithereum\", \"Beldex\", \"Nervos Network\", \"Handshake\", \"MimbleWimbleCoin\", \"Arweave\", \"Ravencoin Classic\", \"Primas\", \"Bitcoin Vault\", \"INT\", \"Haven Protocol\", \"EtherZero\", \"Bitcoin ABC\", \"AEON\", \"Circuits of Value\", \"TENT\", \"SmartCash\", \"Komodo\", \"Einsteinium\", \"Dogecoin\", \"Bytom\", \"ByteCoin\", \"ZCash\", \"ViaCoin\", \"Vertcoin\", \"Verge\", \"Ubiq\", \"SysCoin\", \"Steem\", \"SibCoin\", \"Siacoin\", \"Nano\", \"Namecoin\", \"Monero\", \"MegaCoin\", \"Litecoin\", \"Horizen\", \"Gulden\", \"Groestlcoin\", \"Grin\", \"Firo\", \"FeatherCoin\", \"Expanse\", \"Ethereum Classic\", \"Ethereum\", \"DigiByte\", \"Bitcoin SV\", \"Bitcoin Gold\", \"Bitcoin Cash\", \"Bitcoin\"], \"legendgroup\": \"2\", \"marker\": {\"color\": [2, 2, 2, 2, 2, 2, 2, 2, 2, 2, 2, 2, 2, 2, 2, 2, 2, 2, 2, 2, 2, 2, 2, 2, 2, 2, 2, 2, 2, 2, 2, 2, 2, 2, 2, 2, 2, 2, 2, 2, 2, 2, 2, 2, 2, 2, 2, 2, 2, 2, 2, 2, 2, 2, 2, 2, 2, 2, 2, 2, 2], \"coloraxis\": \"coloraxis\", \"symbol\": \"diamond\"}, \"mode\": \"markers\", \"name\": \"2\", \"scene\": \"scene\", \"showlegend\": true, \"type\": \"scatter3d\", \"x\": [1.674148395681869, 0.7109534616385118, 0.7108274334335506, 1.4290072454287235, 1.228415679669089, 0.4668834608335965, 1.6742283527696544, 1.163231743638818, 1.4801676955264496, 0.9646096947735628, 1.1639146132208358, 1.1632187027314678, 1.6963423886162747, 1.5037730317508942, 1.4291514441254376, 1.4286178150310127, 1.6744053483864065, 1.5292306703281808, 0.7109833050547462, 1.6742136400291365, -0.3289922142799384, 1.4197538482716079, 1.4601205597416607, 1.6742246966315013, 1.419762078599677, 1.474835663117513, 0.004926898533663616, 1.4475132470682017, 0.005657611309260643, 0.7111741437189295, 0.9131943024552917, 1.4250505155661504, 2.432624464945505, 1.163238326417095, 0.7108625001412145, 1.4202216979941866, 1.538135157601733, 1.419849642595214, 1.6772599740812257, 0.6041358011959731, 1.4198525394447148, 1.5297082171168104, 1.4558858013434746, 1.6741716147736103, 1.4286644668644763, 0.7109901707213434, 0.7111359881415231, 1.1632382921707254, 0.715746996845886, 1.4203570068409117, 1.4286515669901638, 1.4198343704829393, 1.42175190704576, 1.4600690696796539, 1.4604812449237938, 1.4599524294550856, 1.5453225007068256, 1.6742247077557302, 1.1632505485105658, 1.6742247104556152, 1.674224670377009], \"y\": [-0.2181797855857637, -0.6981120818971339, -0.6984115515359945, -0.6962492261044072, -0.6100790303325837, -0.6278584748343377, -0.21804671927406935, -0.7081032233085796, -0.6757605953780108, -0.6296035658016812, -0.7071309941995287, -0.708072203559104, -0.19390609283061197, -0.4842696907234546, -0.6788591399531799, -0.6968734625778279, -0.2177481301922458, -0.5224779820708463, -0.6980411676362842, -0.2180816798533365, -0.4592290300021333, -0.6922919462339981, -0.7057760626049944, -0.21805540703055068, -0.6922715688471124, -0.6321773786061232, -0.606876493748397, -0.647667158078686, -0.6056260892597254, -0.6975876946589916, -0.21754512442491336, -0.6801903667325766, 1.055578421502508, -0.7080825021525594, -0.6983282256286721, -0.691538556208599, -0.5266431341875177, -0.6920547700268939, -0.21319328522345032, -0.4759317387576933, -0.6921488363549414, -0.4502332378619626, -0.6260121123670699, -0.21812461211917472, -0.6967790972978221, -0.6981387105962146, -0.697906074835896, -0.7080825835291675, -0.6912759189522086, -0.6913047849930826, -0.6967390430614963, -0.6921957490599284, -0.688964790179161, -0.7061695025173261, -0.7054901822038143, -0.7061755756803544, -0.5216143790872433, -0.21805538059703117, -0.7080534598767804, -0.21805537418153342, -0.21805546941676807], \"z\": [0.0011747940092015831, -0.2473873910791706, -0.2473764105995891, -0.030224899314077854, -0.04606907015640619, -0.13878457828674667, 0.0011894528380416581, -0.06199148597062879, -0.025181278842917404, 0.030727287216470434, -0.061803912389818, -0.06201390438750148, 0.03157912419136225, -0.0385486222327265, -0.026885193196629117, -0.03031905587683544, 0.001220371559366396, 0.0015637810382219803, -0.24738999125102823, 0.0011907347172200313, 0.1540619802316285, -0.030084220157535112, -0.030128162210547305, 0.001189771386922596, -0.03008504931110766, -0.022015594401895437, -0.03031319780986581, -0.022719590074967218, -0.030151267433146004, -0.24740661848030301, -0.2650080595284828, -0.030191054936315485, 0.15739143643036177, -0.0619939888821977, -0.24737946586298232, -0.029960644661874966, -0.010482784869480484, -0.03009387083060907, 0.001818130660492722, -0.16538506090590488, -0.03005148556829982, -0.03997841288421996, -0.03340926038383704, 0.0011727709958687324, -0.0303031603007938, -0.2473473389136928, -0.2473167930479212, -0.061993985898409064, -0.2460750172567772, -0.029931599074012317, -0.030342592076736813, -0.03004884226301952, -0.02960267836430949, -0.030020698593060387, -0.029942614228702993, -0.030113513497537766, -0.006531650662066172, 0.001189770417700259, -0.06199505375839144, 0.001189770182467113, 0.0011897736744018814]}, {\"customdata\": [[\"Dagger\"], [\"Dagger\"], [\"SPoS\"], [\"ECC 256K1\"], [\"SPL Token\"], [\"Leased POS\"], [\"VeChainThor Authority\"], [\"Proof-of-Authority\"], [\"SHA3\"], [\"BEP-2\"]], \"hovertemplate\": \"<b>%{hovertext}</b><br><br>Class=%{marker.color}<br>PC 1=%{x}<br>PC 2=%{y}<br>PC 3=%{z}<br>Algorithm=%{customdata[0]}<extra></extra>\", \"hovertext\": [\"Amber\", \"DAPS Coin\", \"V Systems\", \"Acute Angle Cloud\", \"MAPS\", \"Waves\", \"VeChain\", \"Poa Network\", \"Nexus\", \"Binance Coin\"], \"legendgroup\": \"3\", \"marker\": {\"color\": [3, 3, 3, 3, 3, 3, 3, 3, 3, 3], \"coloraxis\": \"coloraxis\", \"symbol\": \"square\"}, \"mode\": \"markers\", \"name\": \"3\", \"scene\": \"scene\", \"showlegend\": true, \"type\": \"scatter3d\", \"x\": [-1.5472429754560149, -1.0177460153825773, -1.860128802289587, -1.9039951538104798, -1.7709833802744717, -1.9121894410671274, 0.1005471913423487, -1.7275611491761336, -1.9114023980530885, -1.9091735166499058], \"y\": [0.8786653194796823, 1.8105523016750842, -0.009264319450200486, -0.1529532739252504, 0.06524806448799089, -0.17979454354885593, 4.527201438316375, 0.5042030768353672, -0.17891294518780781, -0.17362454682850528], \"z\": [6.1624783546606245, 6.254367858469307, 2.2736418342495663, 2.322515828022578, 2.9407314549060235, 2.33164554887862, 6.734898226101534, 6.0653068938830295, 2.336746670099177, 2.3413552331381995]}, {\"customdata\": [[\"SHA-256\"], [\"TRC10\"]], \"hovertemplate\": \"<b>%{hovertext}</b><br><br>Class=%{marker.color}<br>PC 1=%{x}<br>PC 2=%{y}<br>PC 3=%{z}<br>Algorithm=%{customdata[0]}<extra></extra>\", \"hovertext\": [\"Wibcoin\", \"BitTorrent\"], \"legendgroup\": \"1\", \"marker\": {\"color\": [1, 1], \"coloraxis\": \"coloraxis\", \"symbol\": \"x\"}, \"mode\": \"markers\", \"name\": \"1\", \"scene\": \"scene\", \"showlegend\": true, \"type\": \"scatter3d\", \"x\": [5.677506473178126, 1.364247917965945], \"y\": [6.58371282958274, 9.999320817338099], \"z\": [0.6821651753168594, -2.1813198116566848]}],                        {\"coloraxis\": {\"colorbar\": {\"title\": {\"text\": \"Class\"}}, \"colorscale\": [[0.0, \"#0d0887\"], [0.1111111111111111, \"#46039f\"], [0.2222222222222222, \"#7201a8\"], [0.3333333333333333, \"#9c179e\"], [0.4444444444444444, \"#bd3786\"], [0.5555555555555556, \"#d8576b\"], [0.6666666666666666, \"#ed7953\"], [0.7777777777777778, \"#fb9f3a\"], [0.8888888888888888, \"#fdca26\"], [1.0, \"#f0f921\"]]}, \"legend\": {\"title\": {\"text\": \"Class\"}, \"tracegroupgap\": 0, \"x\": 0, \"y\": 1}, \"margin\": {\"t\": 60}, \"scene\": {\"domain\": {\"x\": [0.0, 1.0], \"y\": [0.0, 1.0]}, \"xaxis\": {\"title\": {\"text\": \"PC 1\"}}, \"yaxis\": {\"title\": {\"text\": \"PC 2\"}}, \"zaxis\": {\"title\": {\"text\": \"PC 3\"}}}, \"template\": {\"data\": {\"bar\": [{\"error_x\": {\"color\": \"#2a3f5f\"}, \"error_y\": {\"color\": \"#2a3f5f\"}, \"marker\": {\"line\": {\"color\": \"#E5ECF6\", \"width\": 0.5}}, \"type\": \"bar\"}], \"barpolar\": [{\"marker\": {\"line\": {\"color\": \"#E5ECF6\", \"width\": 0.5}}, \"type\": \"barpolar\"}], \"carpet\": [{\"aaxis\": {\"endlinecolor\": \"#2a3f5f\", \"gridcolor\": \"white\", \"linecolor\": \"white\", \"minorgridcolor\": \"white\", \"startlinecolor\": \"#2a3f5f\"}, \"baxis\": {\"endlinecolor\": \"#2a3f5f\", \"gridcolor\": \"white\", \"linecolor\": \"white\", \"minorgridcolor\": \"white\", \"startlinecolor\": \"#2a3f5f\"}, \"type\": \"carpet\"}], \"choropleth\": [{\"colorbar\": {\"outlinewidth\": 0, \"ticks\": \"\"}, \"type\": \"choropleth\"}], \"contour\": [{\"colorbar\": {\"outlinewidth\": 0, \"ticks\": \"\"}, \"colorscale\": [[0.0, \"#0d0887\"], [0.1111111111111111, \"#46039f\"], [0.2222222222222222, \"#7201a8\"], [0.3333333333333333, \"#9c179e\"], [0.4444444444444444, \"#bd3786\"], [0.5555555555555556, \"#d8576b\"], [0.6666666666666666, \"#ed7953\"], [0.7777777777777778, \"#fb9f3a\"], [0.8888888888888888, \"#fdca26\"], [1.0, \"#f0f921\"]], \"type\": \"contour\"}], \"contourcarpet\": [{\"colorbar\": {\"outlinewidth\": 0, \"ticks\": \"\"}, \"type\": \"contourcarpet\"}], \"heatmap\": [{\"colorbar\": {\"outlinewidth\": 0, \"ticks\": \"\"}, \"colorscale\": [[0.0, \"#0d0887\"], [0.1111111111111111, \"#46039f\"], [0.2222222222222222, \"#7201a8\"], [0.3333333333333333, \"#9c179e\"], [0.4444444444444444, \"#bd3786\"], [0.5555555555555556, \"#d8576b\"], [0.6666666666666666, \"#ed7953\"], [0.7777777777777778, \"#fb9f3a\"], [0.8888888888888888, \"#fdca26\"], [1.0, \"#f0f921\"]], \"type\": \"heatmap\"}], \"heatmapgl\": [{\"colorbar\": {\"outlinewidth\": 0, \"ticks\": \"\"}, \"colorscale\": [[0.0, \"#0d0887\"], [0.1111111111111111, \"#46039f\"], [0.2222222222222222, \"#7201a8\"], [0.3333333333333333, \"#9c179e\"], [0.4444444444444444, \"#bd3786\"], [0.5555555555555556, \"#d8576b\"], [0.6666666666666666, \"#ed7953\"], [0.7777777777777778, \"#fb9f3a\"], [0.8888888888888888, \"#fdca26\"], [1.0, \"#f0f921\"]], \"type\": \"heatmapgl\"}], \"histogram\": [{\"marker\": {\"colorbar\": {\"outlinewidth\": 0, \"ticks\": \"\"}}, \"type\": \"histogram\"}], \"histogram2d\": [{\"colorbar\": {\"outlinewidth\": 0, \"ticks\": \"\"}, \"colorscale\": [[0.0, \"#0d0887\"], [0.1111111111111111, \"#46039f\"], [0.2222222222222222, \"#7201a8\"], [0.3333333333333333, \"#9c179e\"], [0.4444444444444444, \"#bd3786\"], [0.5555555555555556, \"#d8576b\"], [0.6666666666666666, \"#ed7953\"], [0.7777777777777778, \"#fb9f3a\"], [0.8888888888888888, \"#fdca26\"], [1.0, \"#f0f921\"]], \"type\": \"histogram2d\"}], \"histogram2dcontour\": [{\"colorbar\": {\"outlinewidth\": 0, \"ticks\": \"\"}, \"colorscale\": [[0.0, \"#0d0887\"], [0.1111111111111111, \"#46039f\"], [0.2222222222222222, \"#7201a8\"], [0.3333333333333333, \"#9c179e\"], [0.4444444444444444, \"#bd3786\"], [0.5555555555555556, \"#d8576b\"], [0.6666666666666666, \"#ed7953\"], [0.7777777777777778, \"#fb9f3a\"], [0.8888888888888888, \"#fdca26\"], [1.0, \"#f0f921\"]], \"type\": \"histogram2dcontour\"}], \"mesh3d\": [{\"colorbar\": {\"outlinewidth\": 0, \"ticks\": \"\"}, \"type\": \"mesh3d\"}], \"parcoords\": [{\"line\": {\"colorbar\": {\"outlinewidth\": 0, \"ticks\": \"\"}}, \"type\": \"parcoords\"}], \"pie\": [{\"automargin\": true, \"type\": \"pie\"}], \"scatter\": [{\"marker\": {\"colorbar\": {\"outlinewidth\": 0, \"ticks\": \"\"}}, \"type\": \"scatter\"}], \"scatter3d\": [{\"line\": {\"colorbar\": {\"outlinewidth\": 0, \"ticks\": \"\"}}, \"marker\": {\"colorbar\": {\"outlinewidth\": 0, \"ticks\": \"\"}}, \"type\": \"scatter3d\"}], \"scattercarpet\": [{\"marker\": {\"colorbar\": {\"outlinewidth\": 0, \"ticks\": \"\"}}, \"type\": \"scattercarpet\"}], \"scattergeo\": [{\"marker\": {\"colorbar\": {\"outlinewidth\": 0, \"ticks\": \"\"}}, \"type\": \"scattergeo\"}], \"scattergl\": [{\"marker\": {\"colorbar\": {\"outlinewidth\": 0, \"ticks\": \"\"}}, \"type\": \"scattergl\"}], \"scattermapbox\": [{\"marker\": {\"colorbar\": {\"outlinewidth\": 0, \"ticks\": \"\"}}, \"type\": \"scattermapbox\"}], \"scatterpolar\": [{\"marker\": {\"colorbar\": {\"outlinewidth\": 0, \"ticks\": \"\"}}, \"type\": \"scatterpolar\"}], \"scatterpolargl\": [{\"marker\": {\"colorbar\": {\"outlinewidth\": 0, \"ticks\": \"\"}}, \"type\": \"scatterpolargl\"}], \"scatterternary\": [{\"marker\": {\"colorbar\": {\"outlinewidth\": 0, \"ticks\": \"\"}}, \"type\": \"scatterternary\"}], \"surface\": [{\"colorbar\": {\"outlinewidth\": 0, \"ticks\": \"\"}, \"colorscale\": [[0.0, \"#0d0887\"], [0.1111111111111111, \"#46039f\"], [0.2222222222222222, \"#7201a8\"], [0.3333333333333333, \"#9c179e\"], [0.4444444444444444, \"#bd3786\"], [0.5555555555555556, \"#d8576b\"], [0.6666666666666666, \"#ed7953\"], [0.7777777777777778, \"#fb9f3a\"], [0.8888888888888888, \"#fdca26\"], [1.0, \"#f0f921\"]], \"type\": \"surface\"}], \"table\": [{\"cells\": {\"fill\": {\"color\": \"#EBF0F8\"}, \"line\": {\"color\": \"white\"}}, \"header\": {\"fill\": {\"color\": \"#C8D4E3\"}, \"line\": {\"color\": \"white\"}}, \"type\": \"table\"}]}, \"layout\": {\"annotationdefaults\": {\"arrowcolor\": \"#2a3f5f\", \"arrowhead\": 0, \"arrowwidth\": 1}, \"autotypenumbers\": \"strict\", \"coloraxis\": {\"colorbar\": {\"outlinewidth\": 0, \"ticks\": \"\"}}, \"colorscale\": {\"diverging\": [[0, \"#8e0152\"], [0.1, \"#c51b7d\"], [0.2, \"#de77ae\"], [0.3, \"#f1b6da\"], [0.4, \"#fde0ef\"], [0.5, \"#f7f7f7\"], [0.6, \"#e6f5d0\"], [0.7, \"#b8e186\"], [0.8, \"#7fbc41\"], [0.9, \"#4d9221\"], [1, \"#276419\"]], \"sequential\": [[0.0, \"#0d0887\"], [0.1111111111111111, \"#46039f\"], [0.2222222222222222, \"#7201a8\"], [0.3333333333333333, \"#9c179e\"], [0.4444444444444444, \"#bd3786\"], [0.5555555555555556, \"#d8576b\"], [0.6666666666666666, \"#ed7953\"], [0.7777777777777778, \"#fb9f3a\"], [0.8888888888888888, \"#fdca26\"], [1.0, \"#f0f921\"]], \"sequentialminus\": [[0.0, \"#0d0887\"], [0.1111111111111111, \"#46039f\"], [0.2222222222222222, \"#7201a8\"], [0.3333333333333333, \"#9c179e\"], [0.4444444444444444, \"#bd3786\"], [0.5555555555555556, \"#d8576b\"], [0.6666666666666666, \"#ed7953\"], [0.7777777777777778, \"#fb9f3a\"], [0.8888888888888888, \"#fdca26\"], [1.0, \"#f0f921\"]]}, \"colorway\": [\"#636efa\", \"#EF553B\", \"#00cc96\", \"#ab63fa\", \"#FFA15A\", \"#19d3f3\", \"#FF6692\", \"#B6E880\", \"#FF97FF\", \"#FECB52\"], \"font\": {\"color\": \"#2a3f5f\"}, \"geo\": {\"bgcolor\": \"white\", \"lakecolor\": \"white\", \"landcolor\": \"#E5ECF6\", \"showlakes\": true, \"showland\": true, \"subunitcolor\": \"white\"}, \"hoverlabel\": {\"align\": \"left\"}, \"hovermode\": \"closest\", \"mapbox\": {\"style\": \"light\"}, \"paper_bgcolor\": \"white\", \"plot_bgcolor\": \"#E5ECF6\", \"polar\": {\"angularaxis\": {\"gridcolor\": \"white\", \"linecolor\": \"white\", \"ticks\": \"\"}, \"bgcolor\": \"#E5ECF6\", \"radialaxis\": {\"gridcolor\": \"white\", \"linecolor\": \"white\", \"ticks\": \"\"}}, \"scene\": {\"xaxis\": {\"backgroundcolor\": \"#E5ECF6\", \"gridcolor\": \"white\", \"gridwidth\": 2, \"linecolor\": \"white\", \"showbackground\": true, \"ticks\": \"\", \"zerolinecolor\": \"white\"}, \"yaxis\": {\"backgroundcolor\": \"#E5ECF6\", \"gridcolor\": \"white\", \"gridwidth\": 2, \"linecolor\": \"white\", \"showbackground\": true, \"ticks\": \"\", \"zerolinecolor\": \"white\"}, \"zaxis\": {\"backgroundcolor\": \"#E5ECF6\", \"gridcolor\": \"white\", \"gridwidth\": 2, \"linecolor\": \"white\", \"showbackground\": true, \"ticks\": \"\", \"zerolinecolor\": \"white\"}}, \"shapedefaults\": {\"line\": {\"color\": \"#2a3f5f\"}}, \"ternary\": {\"aaxis\": {\"gridcolor\": \"white\", \"linecolor\": \"white\", \"ticks\": \"\"}, \"baxis\": {\"gridcolor\": \"white\", \"linecolor\": \"white\", \"ticks\": \"\"}, \"bgcolor\": \"#E5ECF6\", \"caxis\": {\"gridcolor\": \"white\", \"linecolor\": \"white\", \"ticks\": \"\"}}, \"title\": {\"x\": 0.05}, \"xaxis\": {\"automargin\": true, \"gridcolor\": \"white\", \"linecolor\": \"white\", \"ticks\": \"\", \"title\": {\"standoff\": 15}, \"zerolinecolor\": \"white\", \"zerolinewidth\": 2}, \"yaxis\": {\"automargin\": true, \"gridcolor\": \"white\", \"linecolor\": \"white\", \"ticks\": \"\", \"title\": {\"standoff\": 15}, \"zerolinecolor\": \"white\", \"zerolinewidth\": 2}}}, \"width\": 800},                        {\"responsive\": true}                    ).then(function(){\n",
       "                            \n",
       "var gd = document.getElementById('9b8a7e2b-3111-4b13-aaf9-a92c3aaa7add');\n",
       "var x = new MutationObserver(function (mutations, observer) {{\n",
       "        var display = window.getComputedStyle(gd).display;\n",
       "        if (!display || display === 'none') {{\n",
       "            console.log([gd, 'removed!']);\n",
       "            Plotly.purge(gd);\n",
       "            observer.disconnect();\n",
       "        }}\n",
       "}});\n",
       "\n",
       "// Listen for the removal of the full notebook cells\n",
       "var notebookContainer = gd.closest('#notebook-container');\n",
       "if (notebookContainer) {{\n",
       "    x.observe(notebookContainer, {childList: true});\n",
       "}}\n",
       "\n",
       "// Listen for the clearing of the current output cell\n",
       "var outputEl = gd.closest('.output');\n",
       "if (outputEl) {{\n",
       "    x.observe(outputEl, {childList: true});\n",
       "}}\n",
       "\n",
       "                        })                };                });            </script>        </div>"
      ]
     },
     "metadata": {},
     "output_type": "display_data"
    }
   ],
   "source": [
    "# Create a 3D-Scatter with the PCA data and the clusters\n",
    "fig3d = px.scatter_3d(\n",
    "    clustered_df,\n",
    "    x=\"PC 1\",\n",
    "    y=\"PC 2\",\n",
    "    z=\"PC 3\",\n",
    "    color=\"Class\",\n",
    "    symbol=\"Class\",\n",
    "    hover_name=\"CoinName\",\n",
    "    hover_data=[\"Algorithm\"],\n",
    "    width=800,\n",
    ")\n",
    "fig3d.update_layout(legend=dict(x=0, y=1))\n",
    "fig3d.show()"
   ]
  },
  {
   "cell_type": "markdown",
   "metadata": {},
   "source": [
    "#### Table of Tradable Cryptocurrencies"
   ]
  },
  {
   "cell_type": "code",
   "execution_count": 133,
   "metadata": {},
   "outputs": [
    {
     "data": {},
     "metadata": {},
     "output_type": "display_data"
    },
    {
     "data": {
      "application/vnd.holoviews_exec.v0+json": "",
      "text/html": [
       "<div id='2050'>\n",
       "\n",
       "\n",
       "\n",
       "\n",
       "\n",
       "  <div class=\"bk-root\" id=\"66ab35de-af46-4be5-bac3-29ae96e98e22\" data-root-id=\"2050\"></div>\n",
       "</div>\n",
       "<script type=\"application/javascript\">(function(root) {\n",
       "  function embed_document(root) {\n",
       "  var docs_json = {\"1e2e4e84-dabc-4ab7-bcac-8004444a52f5\":{\"roots\":{\"references\":[{\"attributes\":{\"editor\":{\"id\":\"2060\"},\"field\":\"Algorithm\",\"formatter\":{\"id\":\"2059\"},\"title\":\"Algorithm\"},\"id\":\"2061\",\"type\":\"TableColumn\"},{\"attributes\":{\"editor\":{\"id\":\"2065\"},\"field\":\"ProofType\",\"formatter\":{\"id\":\"2064\"},\"title\":\"ProofType\"},\"id\":\"2066\",\"type\":\"TableColumn\"},{\"attributes\":{\"margin\":[5,5,5,5],\"name\":\"HSpacer03877\",\"sizing_mode\":\"stretch_width\"},\"id\":\"2051\",\"type\":\"Spacer\"},{\"attributes\":{\"margin\":[5,5,5,5],\"name\":\"HSpacer03878\",\"sizing_mode\":\"stretch_width\"},\"id\":\"2090\",\"type\":\"Spacer\"},{\"attributes\":{},\"id\":\"2060\",\"type\":\"StringEditor\"},{\"attributes\":{},\"id\":\"2065\",\"type\":\"StringEditor\"},{\"attributes\":{},\"id\":\"2075\",\"type\":\"StringEditor\"},{\"attributes\":{\"source\":{\"id\":\"2052\"}},\"id\":\"2085\",\"type\":\"CDSView\"},{\"attributes\":{},\"id\":\"2059\",\"type\":\"StringFormatter\"},{\"attributes\":{},\"id\":\"2074\",\"type\":\"StringFormatter\"},{\"attributes\":{},\"id\":\"2053\",\"type\":\"Selection\"},{\"attributes\":{},\"id\":\"2055\",\"type\":\"StringEditor\"},{\"attributes\":{},\"id\":\"2064\",\"type\":\"StringFormatter\"},{\"attributes\":{\"editor\":{\"id\":\"2055\"},\"field\":\"CoinName\",\"formatter\":{\"id\":\"2054\"},\"title\":\"CoinName\"},\"id\":\"2056\",\"type\":\"TableColumn\"},{\"attributes\":{\"editor\":{\"id\":\"2070\"},\"field\":\"MaxSupply\",\"formatter\":{\"id\":\"2069\"},\"title\":\"MaxSupply\"},\"id\":\"2071\",\"type\":\"TableColumn\"},{\"attributes\":{\"editor\":{\"id\":\"2075\"},\"field\":\"TotalCoinsMined\",\"formatter\":{\"id\":\"2074\"},\"title\":\"TotalCoinsMined\"},\"id\":\"2076\",\"type\":\"TableColumn\"},{\"attributes\":{\"data\":{\"Algorithm\":[\"Scrypt\",\"SHA-256\",\"PoS\",\"Scrypt\",\"X13\",\"SHA-256\",\"Scrypt\",\"Scrypt\",\"X11\",\"Scrypt\",\"RandomX\",\"Dagger\",\"Equihash\",\"X11\",\"SHA-256\",\"Equihash\",\"Ethash\",\"IMesh\",\"Equihash\",\"SHA-512\",\"Dagger\",\"Equihash\",\"Equihash\",\"SPoS\",\"CryptoNight\",\"Eaglesong\",\"X16RT\",\"Blake2B + SHA3\",\"C31\",\"SHA-256\",\"X16R\",\"ECC 256K1\",\"Scrypt\",\"SHA-256\",\"Scrypt\",\"IMesh\",\"HEX\",\"SHA-256\",\"POS 3.0\",\"CryptoNight-Heavy\",\"Ethash\",\"SHA-256\",\"Quark\",\"CryptoNight-Lite\",\"TRC10\",\"Multiple\",\"SPL Token\",\"Equihash\",\"DPoS\",\"KECCAK\",\"Scrypt\",\"DPoS\",\"Scrypt\",\"PoS\",\"Equihash\",\"X11\",\"DPoS\",\"Scrypt\",\"Scrypt\",\"Tensority\",\"CryptoNight\",\"X13\",\"DPoS\",\"Equihash\",\"Scrypt\",\"Leased POS\",\"Scrypt\",\"Lyra2REv2\",\"Multiple\",\"VeChainThor Authority\",\"Dagger-Hashimoto\",\"SHA-256\",\"X13\",\"PoS\",\"X11GOST\",\"Blake2b\",\"DPoS\",\"POS 3.0\",\"Scrypt\",\"Proof-of-Authority\",\"Quark\",\"VBFT\",\"SHA3\",\"X13\",\"Blake2b\",\"SHA-256\",\"RandomX\",\"Scrypt\",\"Scrypt\",\"DPoS\",\"Loopchain\",\"BLAKE256\",\"Equihash\",\"Scrypt\",\"Groestl\",\"C31\",\"MTP\",\"NeoScrypt\",\"Ethash\",\"Ethash\",\"Ethash\",\"BMW512 / Echo512\",\"Multiple\",\"BLAKE256\",\"X11\",\"X13\",\"Ouroboros\",\"Shabal256\",\"Quark\",\"Scrypt\",\"SHA-512\",\"SHA-256\",\"Equihash\",\"SHA-256\",\"SHA-256\",\"BEP-2\",\"Equihash210,9\"],\"Class\":{\"__ndarray__\":\"AAAAAAIAAAAAAAAAAgAAAAAAAAAAAAAAAAAAAAIAAAAAAAAAAAAAAAIAAAADAAAAAgAAAAIAAAACAAAAAgAAAAIAAAACAAAAAAAAAAAAAAADAAAAAgAAAAIAAAADAAAAAgAAAAIAAAAAAAAAAgAAAAIAAAACAAAAAgAAAAMAAAACAAAAAgAAAAAAAAACAAAAAAAAAAEAAAAAAAAAAgAAAAIAAAACAAAAAAAAAAIAAAABAAAAAgAAAAMAAAACAAAAAAAAAAIAAAAAAAAAAAAAAAAAAAAAAAAAAgAAAAAAAAAAAAAAAgAAAAIAAAACAAAAAgAAAAAAAAAAAAAAAgAAAAAAAAADAAAAAgAAAAIAAAACAAAAAwAAAAIAAAACAAAAAAAAAAIAAAACAAAAAgAAAAAAAAAAAAAAAAAAAAMAAAAAAAAAAAAAAAMAAAAAAAAAAgAAAAIAAAACAAAAAgAAAAIAAAAAAAAAAAAAAAAAAAACAAAAAgAAAAIAAAACAAAAAgAAAAIAAAACAAAAAgAAAAIAAAAAAAAAAgAAAAAAAAAAAAAAAAAAAAAAAAAAAAAAAAAAAAAAAAAAAAAAAgAAAAIAAAACAAAAAgAAAAMAAAAAAAAA\",\"dtype\":\"int32\",\"order\":\"little\",\"shape\":[117]},\"CoinName\":[\"NovaCoin\",\"CounterParty\",\"NuShares\",\"MonaCoin\",\"Triangles Coin\",\"Emercoin\",\"SafeExchangeCoin\",\"CometCoin\",\"Stakenet\",\"OpenChat\",\"Quantum Resistant Ledger\",\"Amber\",\"BitcoinZ\",\"Pura\",\"UnitedBitcoin\",\"Bitcoin Private\",\"Callisto Network\",\"Aidos Kuneen\",\"Zelcash\",\"Kcash\",\"DAPS Coin\",\"Beam\",\"Bithereum\",\"V Systems\",\"Beldex\",\"Nervos Network\",\"VEIL\",\"Handshake\",\"MimbleWimbleCoin\",\"Arweave\",\"Ravencoin Classic\",\"Acute Angle Cloud\",\"Primas\",\"Bitcoin Vault\",\"Auroracoin\",\"INT\",\"XDNA\",\"Wibcoin\",\"TokenPay\",\"Haven Protocol\",\"EtherZero\",\"Bitcoin ABC\",\"QuarkCoin\",\"AEON\",\"BitTorrent\",\"Circuits of Value\",\"MAPS\",\"TENT\",\"ARK\",\"SmartCash\",\"SaluS\",\"Rise\",\"Reddcoin\",\"Nxt\",\"Komodo\",\"IOCoin\",\"EOS\",\"Einsteinium\",\"Dogecoin\",\"Bytom\",\"ByteCoin\",\"Bitcoin Diamond\",\"Achain\",\"ZCash\",\"WhiteCoin\",\"Waves\",\"ViaCoin\",\"Vertcoin\",\"Verge\",\"VeChain\",\"Ubiq\",\"SysCoin\",\"Stratis\",\"Steem\",\"SibCoin\",\"Siacoin\",\"Shift\",\"QTUM\",\"PotCoin\",\"Poa Network\",\"Private Instant Verified Transaction\",\"Ontology\",\"Nexus\",\"NavCoin\",\"Nano\",\"Namecoin\",\"Monero\",\"MegaCoin\",\"Litecoin\",\"Lisk\",\"ICON Project\",\"HyperCash\",\"Horizen\",\"Gulden\",\"Groestlcoin\",\"Grin\",\"Firo\",\"FeatherCoin\",\"Expanse\",\"Ethereum Classic\",\"Ethereum\",\"DigitalNote\",\"DigiByte\",\"Decred\",\"Dash\",\"CloakCoin\",\"Cardano\",\"BurstCoin\",\"BlockNet\",\"BlackCoin\",\"Bitshares\",\"Bitcoin SV\",\"Bitcoin Gold\",\"Bitcoin Cash\",\"Bitcoin\",\"Binance Coin\",\"Aion\"],\"MaxSupply\":{\"__ndarray__\":\"AAAAAAAA8L8AAAAAAADwvwAAAAAAAAAAAAAAAAAA8L8AAAAAAAAAAAAAAAAAAPC/AAAAAAAA8L8AAAAAAAAAAAAAAAAAAPC/AAAAAAAA8L8AAAAAsQiZQQAAAAAAAPC/AAAASMqOE0IAAAAAAADwvwAAAAD0BnRBAAAAQF/QdUEAAAAQ4jb4QQAAAAAAAAAAAAAAALEIqUEAAAAAAADwvwAAADxTTDBCAAAAAAVUr0EAAAAAAAAAAAAAAAAAAPC/AAAAAAAA8L8AAAAAAADwvwAAAACj4bFBAAAAgPtl3kEAAAAA0BJzQQAAAACkeI9BAAAASMqOE0IAAAAAAADwvwAAAAAAAPC/AAAAAPQGdEEAAAAA9AZ0QQAAAABlzc1BAAAAAAAAAADsDROLtBptQgAAAACE13dBAAAAAAAA8L8AAAAAAADwv+Vhof/zBnRBAAAAAAAA8L8AAAAAAADwvwAAAAAAAPC/AAAAAAAA8L8AAAAgX6ACQgAAAADQDJRBAAAAAAAA8L8AAAAgX6DyQQAAAAAAAPC/AAAAAAAA8L8AAAAAAADwvwAAAABlzc1BAAAAAITXp0EAAAAAGPt0QQAAAAAAAPC/AAAAAAAA8L8AAAAAAADwvwAAAACxCKlBAADAaKJ5RUIAAAAAsQipQQAAAAAAAAAAAAAAAPQGdEEAAAAAZc3NQQAAAAAAAPC/AAAAAAAA8L8AAAAA9AaUQQAAAAYK1g5CAABizHkwNEIAAAAAAADwvwAAAADndspBAAAAAAAA8L8AAAAAAADwvwAAAAD0BnRBAAAAAAAA8L8AAAAAAADwvwAAAAn1tJlBAAAAALEIuUEAAAAAAADwvwAAAAAAAPC/AAAAAAAA8L8AAAAAvpiSQQAAAAAAAPC/AAAAiNTEn0EAAAAAAADwvwAAAAAAAPC/AAAAAPQGhEEAAAAA9AaUQQAAAAAAAPC/AAAAAAAA8L8AAAAA9AaUQQAAAAD0BnRBAAAAALEI2UEAAAAAsQiZQQAAAAAAAPC/AAAAAJxodEEAAAAA9Aa0QQAAAACE15dBAAAAwA0eqUEAAAAAAADwvwAAAAAAAPC/AAAASMqOE0IAAAAA9AZ0QQAAAABCBnJBAAAAAAAA8L8AAAAEa/QkQgAAANCbFeBBAAAAAAAA8L8AAAAAhNeXQQAAwBCL0+pB5WGh//MGdEEAAAAA9AZ0QeVhof/zBnRB5WGh//MGdEHNzMwnRlSkQQAAAAAAAPC/\",\"dtype\":\"float64\",\"order\":\"little\",\"shape\":[117]},\"ProofType\":[\"PoW/PoS\",\"PoW\",\"PoS\",\"PoW\",\"PoW/PoS\",\"PoW/PoS\",\"PoC\",\"PoW\",\"TPoS\",\"PoW/PoS\",\"PoW\",\"PoA\",\"PoW\",\"PoW\",\"PoW\",\"PoW\",\"PoW\",\"PoW\",\"PoW/PoS\",\"Zero-Knowledge Proof\",\" PoW/PoS/PoA\",\"PoW\",\"PoW\",\"SPoS\",\"PoW\",\"PoW\",\"PoW/PoS\",\"PoW\",\"PoW\",\"PoW\",\"PoW\",\"DPOS\",\"PoW\",\"PoW\",\"PoW/PoS\",\"DPoS+dBFT\",\"PoW/PoS\",\"PoW\",\"PoS\",\"PoW\",\"PoW\",\"PoW\",\"PoW/PoS\",\"PoW\",\"DPoS\",\"PoW\",\"PoH\",\"mPoW\",\"DPoS\",\"PoW\",\"PoW/PoS\",\"PoS\",\"PoW/PoS\",\"PoS/LPoS\",\"dPoW/PoW\",\"PoW/PoS\",\"DPoS\",\"PoW\",\"PoW\",\"PoW\",\"PoW\",\"PoW/PoS\",\"DPoS\",\"PoW\",\"PoW/PoS\",\"LPoS\",\"PoW\",\"PoW\",\"PoW\",\"Proof of Authority\",\"PoW\",\"PoW\",\"PoS\",\"PoW\",\"PoW\",\"PoW\",\"DPoS\",\"PoS\",\"PoW/PoS\",\"PoA\",\"PoW/PoS\",\"PoS\",\"PoW/nPoS\",\"PoW/PoS\",\"PoW\",\"PoW\",\"PoW\",\"PoW\",\"PoW\",\"DPoS\",\"PoS\",\"PoW/PoS\",\"PoW\",\"PoW\",\"PoW\",\"PoW\",\"PoW\",\"PoW\",\"PoW\",\"PoW\",\"PoW\",\"PoW/PoS\",\"PoW\",\"PoW/PoS\",\"PoW/PoSe\",\"PoW/PoS\",\"PoS\",\"PoC\",\"PoW/PoS\",\"PoS\",\"DPoS\",\"PoW\",\"PoW\",\"PoW\",\"PoW\",\"PoSA\",\"PoW/PoS\"],\"TotalCoinsMined\":{\"__ndarray__\":\"Ab7bROJFSEGfymmMpfNDQdcSMbLOz/VBsOXiiSBRk0FT7Gh8CF4FQbSRa/wDeYZBAADA////30EAAAAA/KIqQSjZW6D7PZxBAAAAAGXNzUHuXXpXVoiRQQAAgKojncRB4SmrjF/RAELo7K2BQnSmQQAAAAD0BnRBJHujMb8iTUEFbOT/i8blQQAAAACE13dBAAAADCxunUEAAAAAZc3NQQAAoK2jAC1Ccpyq+cwEkEEAAAAAh3R9QQAA0FfflPVBAACA5Gzd1EGBdzpDkisdQoLVxBdnLZlBYVOL6tyetUFGDmwDMXBkQXQOL0Tlg45BAAAAlnIU/0EAAAAAZc3NQQAAAACE15dBf///3z01ZkH3KOODZUVyQaDYwUNwjr1BAAAAoOXXYEHsDROLtBptQgAAAJDk3XRBSCRz5lscbEEAAABpBniqQd0/WQpLz3FBY3EIHuIKsEH6KIe04/pwQU5Z2UH9z2xCj5LXWrhz2kEAAAAAo+GRQQAAAKBeCoBBAQAAkGiaokE6mHjrw5XjQaqrTAxVgi9BhevRFgbQpEHnGAJt8v8bQkAG+LvDxc1BzhUeYT03nkFx65a3TONxQTC7D3a7os5B8///6IJjqkEOqF997vY9QgAA4Mt/ythBOoww4o55RUIAAAC87s6nQQAAAABlzc1BTz6d2w7LZEEAAAAfukfLQQAAAGg38ZhBtAW3m6AZdkHBd4hGhTuMQTRzKxRUng5CAAAZmxsFNEJI7NT9RgyIQSR0C4PBI8JBAAAAMHbWnkEGgfVziJu2QXPa0NFDKnJBAACAcwkFJkIAAAAg0gxsQQAAADC3nZhBJP9euP3uqkHO+TrICwexQRbckraQQo9BAAAAAGXNzUHZl/w9ibKQQQZg54Y6/ZBBAAAAiNTEn0EAAAC4gJNwQS5vFYnfCXFBO95xoTTOgkEdE++oLQiQQQAAAOSzGqFBLnFQi1lCykEE5qEq8X2FQQAAAHhswGRBkcSKhiG7v0Gmr4xPjmWSQXO+H3ByFo5Bk7OFO/I8ZkEx9QOcepasQVyPwv/hi4BBWR9fTKj3nUHb+f4m+3GbQVFqvc2IwPJBdYJ2/z1VCkKldz4njURoQU6GG594JGNBD8ZdVrZcVUG0kRagw8sdQgAAgDf+d99BxEFhd4zgXEFelsXKO9+MQZijGKJFUOZBm81OMgXRcUFpL8ZxKM9xQQJAWYJw0XFBAAAAgDfLcUHNzMwnRlSkQQAAAELXWb1B\",\"dtype\":\"float64\",\"order\":\"little\",\"shape\":[117]}},\"selected\":{\"id\":\"2053\"},\"selection_policy\":{\"id\":\"2086\"}},\"id\":\"2052\",\"type\":\"ColumnDataSource\"},{\"attributes\":{\"children\":[{\"id\":\"2051\"},{\"id\":\"2084\"},{\"id\":\"2090\"}],\"margin\":[0,0,0,0],\"name\":\"Row03873\",\"tags\":[\"embedded\"]},\"id\":\"2050\",\"type\":\"Row\"},{\"attributes\":{},\"id\":\"2070\",\"type\":\"StringEditor\"},{\"attributes\":{},\"id\":\"2080\",\"type\":\"IntEditor\"},{\"attributes\":{},\"id\":\"2086\",\"type\":\"UnionRenderers\"},{\"attributes\":{},\"id\":\"2054\",\"type\":\"StringFormatter\"},{\"attributes\":{},\"id\":\"2079\",\"type\":\"NumberFormatter\"},{\"attributes\":{\"editor\":{\"id\":\"2080\"},\"field\":\"Class\",\"formatter\":{\"id\":\"2079\"},\"title\":\"Class\"},\"id\":\"2081\",\"type\":\"TableColumn\"},{\"attributes\":{\"columns\":[{\"id\":\"2056\"},{\"id\":\"2061\"},{\"id\":\"2066\"},{\"id\":\"2071\"},{\"id\":\"2076\"},{\"id\":\"2081\"}],\"height\":300,\"reorderable\":false,\"source\":{\"id\":\"2052\"},\"view\":{\"id\":\"2085\"},\"width\":700},\"id\":\"2084\",\"type\":\"DataTable\"},{\"attributes\":{},\"id\":\"2069\",\"type\":\"StringFormatter\"}],\"root_ids\":[\"2050\"]},\"title\":\"Bokeh Application\",\"version\":\"2.1.1\"}};\n",
       "  var render_items = [{\"docid\":\"1e2e4e84-dabc-4ab7-bcac-8004444a52f5\",\"root_ids\":[\"2050\"],\"roots\":{\"2050\":\"66ab35de-af46-4be5-bac3-29ae96e98e22\"}}];\n",
       "  root.Bokeh.embed.embed_items_notebook(docs_json, render_items);\n",
       "  }\n",
       "if (root.Bokeh !== undefined) {\n",
       "    embed_document(root);\n",
       "  } else {\n",
       "    var attempts = 0;\n",
       "    var timer = setInterval(function(root) {\n",
       "      if (root.Bokeh !== undefined) {\n",
       "        clearInterval(timer);\n",
       "        embed_document(root);\n",
       "      } else if (document.readyState == \"complete\") {\n",
       "        attempts++;\n",
       "        if (attempts > 100) {\n",
       "          clearInterval(timer);\n",
       "          console.log(\"Bokeh: ERROR: Unable to run BokehJS code because BokehJS library is missing\");\n",
       "        }\n",
       "      }\n",
       "    }, 10, root)\n",
       "  }\n",
       "})(window);</script>"
      ],
      "text/plain": [
       ":Table   [CoinName,Algorithm,ProofType,MaxSupply,TotalCoinsMined,Class]"
      ]
     },
     "execution_count": 133,
     "metadata": {
      "application/vnd.holoviews_exec.v0+json": {
       "id": "2050"
      }
     },
     "output_type": "execute_result"
    }
   ],
   "source": [
    "# Table with tradable cryptos\n",
    "clustered_df[\n",
    "    [\n",
    "        \"CoinName\",\n",
    "        \"Algorithm\",\n",
    "        \"ProofType\",\n",
    "        \"MaxSupply\",\n",
    "        \"TotalCoinsMined\",\n",
    "        \"Class\",\n",
    "    ]\n",
    "].hvplot.table()"
   ]
  },
  {
   "cell_type": "code",
   "execution_count": 134,
   "metadata": {},
   "outputs": [
    {
     "name": "stdout",
     "output_type": "stream",
     "text": [
      "There are 117 tradable cryptocurrencies.\n"
     ]
    }
   ],
   "source": [
    "# Print the total number of tradable cryptocurrencies\n",
    "print(f\"There are {clustered_df.shape[0]} tradable cryptocurrencies.\")"
   ]
  },
  {
   "cell_type": "markdown",
   "metadata": {},
   "source": [
    "#### Scatter Plot with Tradable Cryptocurrencies"
   ]
  },
  {
   "cell_type": "code",
   "execution_count": 135,
   "metadata": {},
   "outputs": [
    {
     "data": {
      "text/html": [
       "<div>\n",
       "<style scoped>\n",
       "    .dataframe tbody tr th:only-of-type {\n",
       "        vertical-align: middle;\n",
       "    }\n",
       "\n",
       "    .dataframe tbody tr th {\n",
       "        vertical-align: top;\n",
       "    }\n",
       "\n",
       "    .dataframe thead th {\n",
       "        text-align: right;\n",
       "    }\n",
       "</style>\n",
       "<table border=\"1\" class=\"dataframe\">\n",
       "  <thead>\n",
       "    <tr style=\"text-align: right;\">\n",
       "      <th></th>\n",
       "      <th>MaxSupply</th>\n",
       "      <th>TotalCoinsMined</th>\n",
       "      <th>CoinName</th>\n",
       "      <th>Class</th>\n",
       "    </tr>\n",
       "  </thead>\n",
       "  <tbody>\n",
       "    <tr>\n",
       "      <th>NVC</th>\n",
       "      <td>0.000000e+00</td>\n",
       "      <td>0.000003</td>\n",
       "      <td>NovaCoin</td>\n",
       "      <td>0</td>\n",
       "    </tr>\n",
       "    <tr>\n",
       "      <th>XCP</th>\n",
       "      <td>0.000000e+00</td>\n",
       "      <td>0.000002</td>\n",
       "      <td>CounterParty</td>\n",
       "      <td>2</td>\n",
       "    </tr>\n",
       "    <tr>\n",
       "      <th>NSR</th>\n",
       "      <td>9.999833e-13</td>\n",
       "      <td>0.005855</td>\n",
       "      <td>NuShares</td>\n",
       "      <td>0</td>\n",
       "    </tr>\n",
       "    <tr>\n",
       "      <th>MONA</th>\n",
       "      <td>0.000000e+00</td>\n",
       "      <td>0.000081</td>\n",
       "      <td>MonaCoin</td>\n",
       "      <td>2</td>\n",
       "    </tr>\n",
       "    <tr>\n",
       "      <th>TRI</th>\n",
       "      <td>9.999833e-13</td>\n",
       "      <td>0.000000</td>\n",
       "      <td>Triangles Coin</td>\n",
       "      <td>0</td>\n",
       "    </tr>\n",
       "  </tbody>\n",
       "</table>\n",
       "</div>"
      ],
      "text/plain": [
       "         MaxSupply  TotalCoinsMined        CoinName  Class\n",
       "NVC   0.000000e+00         0.000003        NovaCoin      0\n",
       "XCP   0.000000e+00         0.000002    CounterParty      2\n",
       "NSR   9.999833e-13         0.005855        NuShares      0\n",
       "MONA  0.000000e+00         0.000081        MonaCoin      2\n",
       "TRI   9.999833e-13         0.000000  Triangles Coin      0"
      ]
     },
     "execution_count": 135,
     "metadata": {},
     "output_type": "execute_result"
    }
   ],
   "source": [
    "# Scale data to create the scatter plot\n",
    "mm_scaler = MinMaxScaler()\n",
    "splot_data = mm_scaler.fit_transform(\n",
    "    clustered_df[[\"MaxSupply\", \"TotalCoinsMined\"]]\n",
    ")\n",
    "splot_df = pd.DataFrame(\n",
    "    splot_data, columns=[\"MaxSupply\", \"TotalCoinsMined\"], index=clustered_df.index\n",
    ")\n",
    "splot_df[\"CoinName\"] = clustered_df[\"CoinName\"]\n",
    "splot_df[\"Class\"] = clustered_df[\"Class\"]\n",
    "splot_df.head()"
   ]
  },
  {
   "cell_type": "code",
   "execution_count": 136,
   "metadata": {},
   "outputs": [
    {
     "data": {},
     "metadata": {},
     "output_type": "display_data"
    },
    {
     "data": {
      "application/vnd.holoviews_exec.v0+json": "",
      "text/html": [
       "<div id='2102'>\n",
       "\n",
       "\n",
       "\n",
       "\n",
       "\n",
       "  <div class=\"bk-root\" id=\"c47d85cf-a7dd-4550-93a6-21a3bcfe2b80\" data-root-id=\"2102\"></div>\n",
       "</div>\n",
       "<script type=\"application/javascript\">(function(root) {\n",
       "  function embed_document(root) {\n",
       "  var docs_json = {\"8561b454-8a72-41b2-84b2-9424e0f5203c\":{\"roots\":{\"references\":[{\"attributes\":{\"source\":{\"id\":\"2162\"}},\"id\":\"2169\",\"type\":\"CDSView\"},{\"attributes\":{\"active_drag\":\"auto\",\"active_inspect\":\"auto\",\"active_multi\":null,\"active_scroll\":\"auto\",\"active_tap\":\"auto\",\"tools\":[{\"id\":\"2106\"},{\"id\":\"2127\"},{\"id\":\"2128\"},{\"id\":\"2129\"},{\"id\":\"2130\"},{\"id\":\"2131\"}]},\"id\":\"2133\",\"type\":\"Toolbar\"},{\"attributes\":{},\"id\":\"2124\",\"type\":\"BasicTicker\"},{\"attributes\":{\"fill_alpha\":{\"value\":0.1},\"fill_color\":{\"value\":\"#ff7e0e\"},\"line_alpha\":{\"value\":0.1},\"line_color\":{\"value\":\"#ff7e0e\"},\"size\":{\"units\":\"screen\",\"value\":5.477225575051661},\"x\":{\"field\":\"TotalCoinsMined\"},\"y\":{\"field\":\"MaxSupply\"}},\"id\":\"2166\",\"type\":\"Scatter\"},{\"attributes\":{\"axis\":{\"id\":\"2123\"},\"dimension\":1,\"grid_line_color\":null,\"ticker\":null},\"id\":\"2126\",\"type\":\"Grid\"},{\"attributes\":{\"text\":\"\",\"text_color\":{\"value\":\"black\"},\"text_font_size\":{\"value\":\"12pt\"}},\"id\":\"2111\",\"type\":\"Title\"},{\"attributes\":{},\"id\":\"2143\",\"type\":\"BasicTickFormatter\"},{\"attributes\":{\"fill_color\":{\"value\":\"#1f77b3\"},\"line_color\":{\"value\":\"#1f77b3\"},\"size\":{\"units\":\"screen\",\"value\":5.477225575051661},\"x\":{\"field\":\"TotalCoinsMined\"},\"y\":{\"field\":\"MaxSupply\"}},\"id\":\"2147\",\"type\":\"Scatter\"},{\"attributes\":{\"bottom_units\":\"screen\",\"fill_alpha\":0.5,\"fill_color\":\"lightgrey\",\"left_units\":\"screen\",\"level\":\"overlay\",\"line_alpha\":1.0,\"line_color\":\"black\",\"line_dash\":[4,4],\"line_width\":2,\"right_units\":\"screen\",\"top_units\":\"screen\"},\"id\":\"2132\",\"type\":\"BoxAnnotation\"},{\"attributes\":{\"data\":{\"Class\":[3,3,3,3,3,3,3,3,3,3],\"CoinName\":[\"Amber\",\"DAPS Coin\",\"V Systems\",\"Acute Angle Cloud\",\"MAPS\",\"Waves\",\"VeChain\",\"Poa Network\",\"Nexus\",\"Binance Coin\"],\"MaxSupply\":{\"__ndarray__\":\"AAAAAAAAAAAdd+R4ceuxPwAAAAAAAAAAAAAAAAAAAAASyVXTynqEPwAAAAAAAAAAUs54QrQytj8AAAAAAAAAACcNFWVnchQ/+Ti2ahBaJj8=\",\"dtype\":\"float64\",\"order\":\"little\",\"shape\":[10]},\"TotalCoinsMined\":{\"__ndarray__\":\"jRZuL7aoRj98Tfi4UeOvP3YMu5tgunc/KfY6GoBhUD82paS5VZ0TP6qUb8LBYBs/1M05ygIDtj+L8VhIzrUyP6zsBuYTUBI/MGopGTFUJj8=\",\"dtype\":\"float64\",\"order\":\"little\",\"shape\":[10]}},\"selected\":{\"id\":\"2203\"},\"selection_policy\":{\"id\":\"2221\"}},\"id\":\"2202\",\"type\":\"ColumnDataSource\"},{\"attributes\":{},\"id\":\"2163\",\"type\":\"Selection\"},{\"attributes\":{},\"id\":\"2198\",\"type\":\"UnionRenderers\"},{\"attributes\":{\"data_source\":{\"id\":\"2181\"},\"glyph\":{\"id\":\"2184\"},\"hover_glyph\":null,\"muted_glyph\":{\"id\":\"2186\"},\"nonselection_glyph\":{\"id\":\"2185\"},\"selection_glyph\":null,\"view\":{\"id\":\"2188\"}},\"id\":\"2187\",\"type\":\"GlyphRenderer\"},{\"attributes\":{},\"id\":\"2203\",\"type\":\"Selection\"},{\"attributes\":{\"fill_alpha\":{\"value\":0.2},\"fill_color\":{\"value\":\"#2ba02b\"},\"line_alpha\":{\"value\":0.2},\"line_color\":{\"value\":\"#2ba02b\"},\"size\":{\"units\":\"screen\",\"value\":5.477225575051661},\"x\":{\"field\":\"TotalCoinsMined\"},\"y\":{\"field\":\"MaxSupply\"}},\"id\":\"2186\",\"type\":\"Scatter\"},{\"attributes\":{\"label\":{\"value\":\"0\"},\"renderers\":[{\"id\":\"2150\"}]},\"id\":\"2161\",\"type\":\"LegendItem\"},{\"attributes\":{\"label\":{\"value\":\"2\"},\"renderers\":[{\"id\":\"2187\"}]},\"id\":\"2201\",\"type\":\"LegendItem\"},{\"attributes\":{\"data_source\":{\"id\":\"2202\"},\"glyph\":{\"id\":\"2205\"},\"hover_glyph\":null,\"muted_glyph\":{\"id\":\"2207\"},\"nonselection_glyph\":{\"id\":\"2206\"},\"selection_glyph\":null,\"view\":{\"id\":\"2209\"}},\"id\":\"2208\",\"type\":\"GlyphRenderer\"},{\"attributes\":{\"data\":{\"Class\":[0,0,0,0,0,0,0,0,0,0,0,0,0,0,0,0,0,0,0,0,0,0,0,0,0,0,0,0,0,0,0,0,0,0,0,0,0,0,0,0,0,0,0,0],\"CoinName\":[\"NovaCoin\",\"NuShares\",\"Triangles Coin\",\"Emercoin\",\"SafeExchangeCoin\",\"Stakenet\",\"OpenChat\",\"Zelcash\",\"Kcash\",\"VEIL\",\"Auroracoin\",\"XDNA\",\"TokenPay\",\"QuarkCoin\",\"ARK\",\"SaluS\",\"Rise\",\"Reddcoin\",\"Nxt\",\"IOCoin\",\"EOS\",\"Bitcoin Diamond\",\"Achain\",\"WhiteCoin\",\"Stratis\",\"Shift\",\"QTUM\",\"PotCoin\",\"Private Instant Verified Transaction\",\"Ontology\",\"NavCoin\",\"Lisk\",\"ICON Project\",\"HyperCash\",\"DigitalNote\",\"Decred\",\"Dash\",\"CloakCoin\",\"Cardano\",\"BurstCoin\",\"BlockNet\",\"BlackCoin\",\"Bitshares\",\"Aion\"],\"MaxSupply\":{\"__ndarray__\":\"AAAAAAAAAABp8ls3hpdxPWnyWzeGl3E9AAAAAAAAAAAAAAAAAAAAAAAAAAAAAAAAAAAAAAAAAADtDQsYUIYrPwAAAAAAAAAA7Pr8ohSpMz/vA97vDAX2PmnyWzeGl3E97t7GPsY2+j4AAAAAAAAAAAAAAAAAAAAAAAAAAAAAAAAAAAAAAAAAAAAAAAAAAAAAi/WD3DtiUD+vOphDexH3PgAAAAAAAAAA7Q0LGFCGKz9p8ls3hpdxPYv1g9w7YlA/AAAAAAAAAAAAAAAAAAAAAOjB8Mq3Qxw/iZXxFlCGOz8AAAAAAAAAAAAAAAAAAAAAAAAAAAAAAAAAAAAAAAAAAAAAAAAAAAAARl+s4gwFFj8AAAAAAAAAAO8D3u8MBfY+w109c1jR8z4AAAAAAAAAAOrPuC0kCqc/PtM9aEivYT8AAAAAAAAAAEU6lTHGNho/9EbbOtF+bT8AAAAAAAAAAA==\",\"dtype\":\"float64\",\"order\":\"little\",\"shape\":[44]},\"TotalCoinsMined\":{\"__ndarray__\":\"ZzLKnDs4yT7G7cUNLft3PwAAAAAAAAAAp+ur2eidCD+mRdJxKJdhP9feInOSAR8/KfY6GoBhUD/JqQBVAyggPyn2OhqAYVA/FXzdaO6iGz8j8qjBx+fzPm6gB/LtJuI+bZoOvGPC9j72Z9nzjaAxP+XPawxdbiQ/RrhRGFDFrD6TySH6QNwmP09EbI8QyZ4/d+IQTU5dUD/cC3Bm7HvzPrr2EznI1lA/+LsfCHcnKj8p9joagGFQP+CiZPgX/U0/PfRlvxTuID9N9jHYSnnuPny6Xr/yBBs/+loXwx+XLT8q7ikpoyMRPyn2OhqAYVA/LeYgoDOiEj/J5wRFe8giP9AwKwi23Uw/zcfcG9uJBz+Dhg7z+J10P/yAar6vUOo+0mUMHRCu5D59IDcM3sDWPqfgf7lQYaA/kgS5e2NMYT/a34fmHATfPlQXeJYepw8/xILbCT2IaD+jr+6wPSFAPw==\",\"dtype\":\"float64\",\"order\":\"little\",\"shape\":[44]}},\"selected\":{\"id\":\"2145\"},\"selection_policy\":{\"id\":\"2157\"}},\"id\":\"2144\",\"type\":\"ColumnDataSource\"},{\"attributes\":{\"source\":{\"id\":\"2181\"}},\"id\":\"2188\",\"type\":\"CDSView\"},{\"attributes\":{\"data_source\":{\"id\":\"2144\"},\"glyph\":{\"id\":\"2147\"},\"hover_glyph\":null,\"muted_glyph\":{\"id\":\"2149\"},\"nonselection_glyph\":{\"id\":\"2148\"},\"selection_glyph\":null,\"view\":{\"id\":\"2151\"}},\"id\":\"2150\",\"type\":\"GlyphRenderer\"},{\"attributes\":{\"label\":{\"value\":\"1\"},\"renderers\":[{\"id\":\"2168\"}]},\"id\":\"2180\",\"type\":\"LegendItem\"},{\"attributes\":{\"callback\":null,\"renderers\":[{\"id\":\"2150\"},{\"id\":\"2168\"},{\"id\":\"2187\"},{\"id\":\"2208\"}],\"tags\":[\"hv_created\"],\"tooltips\":[[\"Class\",\"@{Class}\"],[\"TotalCoinsMined\",\"@{TotalCoinsMined}\"],[\"MaxSupply\",\"@{MaxSupply}\"],[\"CoinName\",\"@{CoinName}\"]]},\"id\":\"2106\",\"type\":\"HoverTool\"},{\"attributes\":{\"below\":[{\"id\":\"2119\"}],\"center\":[{\"id\":\"2122\"},{\"id\":\"2126\"}],\"left\":[{\"id\":\"2123\"}],\"margin\":null,\"min_border_bottom\":10,\"min_border_left\":10,\"min_border_right\":10,\"min_border_top\":10,\"plot_height\":300,\"plot_width\":700,\"renderers\":[{\"id\":\"2150\"},{\"id\":\"2168\"},{\"id\":\"2187\"},{\"id\":\"2208\"}],\"right\":[{\"id\":\"2160\"}],\"sizing_mode\":\"fixed\",\"title\":{\"id\":\"2111\"},\"toolbar\":{\"id\":\"2133\"},\"x_range\":{\"id\":\"2104\"},\"x_scale\":{\"id\":\"2115\"},\"y_range\":{\"id\":\"2105\"},\"y_scale\":{\"id\":\"2117\"}},\"id\":\"2110\",\"subtype\":\"Figure\",\"type\":\"Plot\"},{\"attributes\":{},\"id\":\"2127\",\"type\":\"SaveTool\"},{\"attributes\":{\"source\":{\"id\":\"2144\"}},\"id\":\"2151\",\"type\":\"CDSView\"},{\"attributes\":{\"source\":{\"id\":\"2202\"}},\"id\":\"2209\",\"type\":\"CDSView\"},{\"attributes\":{\"fill_color\":{\"value\":\"#d62628\"},\"line_color\":{\"value\":\"#d62628\"},\"size\":{\"units\":\"screen\",\"value\":5.477225575051661},\"x\":{\"field\":\"TotalCoinsMined\"},\"y\":{\"field\":\"MaxSupply\"}},\"id\":\"2205\",\"type\":\"Scatter\"},{\"attributes\":{},\"id\":\"2129\",\"type\":\"WheelZoomTool\"},{\"attributes\":{\"click_policy\":\"mute\",\"items\":[{\"id\":\"2161\"},{\"id\":\"2180\"},{\"id\":\"2201\"},{\"id\":\"2224\"}],\"location\":[0,0],\"title\":\"Class\"},\"id\":\"2160\",\"type\":\"Legend\"},{\"attributes\":{},\"id\":\"2128\",\"type\":\"PanTool\"},{\"attributes\":{},\"id\":\"2182\",\"type\":\"Selection\"},{\"attributes\":{\"overlay\":{\"id\":\"2132\"}},\"id\":\"2130\",\"type\":\"BoxZoomTool\"},{\"attributes\":{},\"id\":\"2157\",\"type\":\"UnionRenderers\"},{\"attributes\":{\"end\":1.0428571428571431,\"reset_end\":1.0428571428571431,\"reset_start\":-0.042857142857142864,\"start\":-0.042857142857142864,\"tags\":[[[\"TotalCoinsMined\",\"TotalCoinsMined\",null]]]},\"id\":\"2104\",\"type\":\"Range1d\"},{\"attributes\":{\"fill_alpha\":{\"value\":0.2},\"fill_color\":{\"value\":\"#d62628\"},\"line_alpha\":{\"value\":0.2},\"line_color\":{\"value\":\"#d62628\"},\"size\":{\"units\":\"screen\",\"value\":5.477225575051661},\"x\":{\"field\":\"TotalCoinsMined\"},\"y\":{\"field\":\"MaxSupply\"}},\"id\":\"2207\",\"type\":\"Scatter\"},{\"attributes\":{},\"id\":\"2117\",\"type\":\"LinearScale\"},{\"attributes\":{\"end\":1.1000000000000003,\"reset_end\":1.1000000000000003,\"reset_start\":-0.10000000000000003,\"start\":-0.10000000000000003,\"tags\":[[[\"MaxSupply\",\"MaxSupply\",null]]]},\"id\":\"2105\",\"type\":\"Range1d\"},{\"attributes\":{},\"id\":\"2131\",\"type\":\"ResetTool\"},{\"attributes\":{\"children\":[{\"id\":\"2103\"},{\"id\":\"2110\"},{\"id\":\"2351\"}],\"margin\":[0,0,0,0],\"name\":\"Row04065\",\"tags\":[\"embedded\"]},\"id\":\"2102\",\"type\":\"Row\"},{\"attributes\":{\"fill_alpha\":{\"value\":0.2},\"fill_color\":{\"value\":\"#1f77b3\"},\"line_alpha\":{\"value\":0.2},\"line_color\":{\"value\":\"#1f77b3\"},\"size\":{\"units\":\"screen\",\"value\":5.477225575051661},\"x\":{\"field\":\"TotalCoinsMined\"},\"y\":{\"field\":\"MaxSupply\"}},\"id\":\"2149\",\"type\":\"Scatter\"},{\"attributes\":{},\"id\":\"2221\",\"type\":\"UnionRenderers\"},{\"attributes\":{\"label\":{\"value\":\"3\"},\"renderers\":[{\"id\":\"2208\"}]},\"id\":\"2224\",\"type\":\"LegendItem\"},{\"attributes\":{\"axis\":{\"id\":\"2119\"},\"grid_line_color\":null,\"ticker\":null},\"id\":\"2122\",\"type\":\"Grid\"},{\"attributes\":{\"fill_alpha\":{\"value\":0.1},\"fill_color\":{\"value\":\"#1f77b3\"},\"line_alpha\":{\"value\":0.1},\"line_color\":{\"value\":\"#1f77b3\"},\"size\":{\"units\":\"screen\",\"value\":5.477225575051661},\"x\":{\"field\":\"TotalCoinsMined\"},\"y\":{\"field\":\"MaxSupply\"}},\"id\":\"2148\",\"type\":\"Scatter\"},{\"attributes\":{},\"id\":\"2141\",\"type\":\"BasicTickFormatter\"},{\"attributes\":{\"data_source\":{\"id\":\"2162\"},\"glyph\":{\"id\":\"2165\"},\"hover_glyph\":null,\"muted_glyph\":{\"id\":\"2167\"},\"nonselection_glyph\":{\"id\":\"2166\"},\"selection_glyph\":null,\"view\":{\"id\":\"2169\"}},\"id\":\"2168\",\"type\":\"GlyphRenderer\"},{\"attributes\":{\"fill_color\":{\"value\":\"#ff7e0e\"},\"line_color\":{\"value\":\"#ff7e0e\"},\"size\":{\"units\":\"screen\",\"value\":5.477225575051661},\"x\":{\"field\":\"TotalCoinsMined\"},\"y\":{\"field\":\"MaxSupply\"}},\"id\":\"2165\",\"type\":\"Scatter\"},{\"attributes\":{\"fill_color\":{\"value\":\"#2ba02b\"},\"line_color\":{\"value\":\"#2ba02b\"},\"size\":{\"units\":\"screen\",\"value\":5.477225575051661},\"x\":{\"field\":\"TotalCoinsMined\"},\"y\":{\"field\":\"MaxSupply\"}},\"id\":\"2184\",\"type\":\"Scatter\"},{\"attributes\":{\"margin\":[5,5,5,5],\"name\":\"HSpacer04069\",\"sizing_mode\":\"stretch_width\"},\"id\":\"2103\",\"type\":\"Spacer\"},{\"attributes\":{},\"id\":\"2177\",\"type\":\"UnionRenderers\"},{\"attributes\":{\"fill_alpha\":{\"value\":0.1},\"fill_color\":{\"value\":\"#2ba02b\"},\"line_alpha\":{\"value\":0.1},\"line_color\":{\"value\":\"#2ba02b\"},\"size\":{\"units\":\"screen\",\"value\":5.477225575051661},\"x\":{\"field\":\"TotalCoinsMined\"},\"y\":{\"field\":\"MaxSupply\"}},\"id\":\"2185\",\"type\":\"Scatter\"},{\"attributes\":{},\"id\":\"2115\",\"type\":\"LinearScale\"},{\"attributes\":{\"axis_label\":\"TotalCoinsMined\",\"bounds\":\"auto\",\"formatter\":{\"id\":\"2141\"},\"major_label_orientation\":\"horizontal\",\"ticker\":{\"id\":\"2120\"}},\"id\":\"2119\",\"type\":\"LinearAxis\"},{\"attributes\":{\"fill_alpha\":{\"value\":0.1},\"fill_color\":{\"value\":\"#d62628\"},\"line_alpha\":{\"value\":0.1},\"line_color\":{\"value\":\"#d62628\"},\"size\":{\"units\":\"screen\",\"value\":5.477225575051661},\"x\":{\"field\":\"TotalCoinsMined\"},\"y\":{\"field\":\"MaxSupply\"}},\"id\":\"2206\",\"type\":\"Scatter\"},{\"attributes\":{\"margin\":[5,5,5,5],\"name\":\"HSpacer04070\",\"sizing_mode\":\"stretch_width\"},\"id\":\"2351\",\"type\":\"Spacer\"},{\"attributes\":{\"axis_label\":\"MaxSupply\",\"bounds\":\"auto\",\"formatter\":{\"id\":\"2143\"},\"major_label_orientation\":\"horizontal\",\"ticker\":{\"id\":\"2124\"}},\"id\":\"2123\",\"type\":\"LinearAxis\"},{\"attributes\":{\"fill_alpha\":{\"value\":0.2},\"fill_color\":{\"value\":\"#ff7e0e\"},\"line_alpha\":{\"value\":0.2},\"line_color\":{\"value\":\"#ff7e0e\"},\"size\":{\"units\":\"screen\",\"value\":5.477225575051661},\"x\":{\"field\":\"TotalCoinsMined\"},\"y\":{\"field\":\"MaxSupply\"}},\"id\":\"2167\",\"type\":\"Scatter\"},{\"attributes\":{\"data\":{\"Class\":[2,2,2,2,2,2,2,2,2,2,2,2,2,2,2,2,2,2,2,2,2,2,2,2,2,2,2,2,2,2,2,2,2,2,2,2,2,2,2,2,2,2,2,2,2,2,2,2,2,2,2,2,2,2,2,2,2,2,2,2,2],\"CoinName\":[\"CounterParty\",\"MonaCoin\",\"CometCoin\",\"Quantum Resistant Ledger\",\"BitcoinZ\",\"Pura\",\"UnitedBitcoin\",\"Bitcoin Private\",\"Callisto Network\",\"Aidos Kuneen\",\"Beam\",\"Bithereum\",\"Beldex\",\"Nervos Network\",\"Handshake\",\"MimbleWimbleCoin\",\"Arweave\",\"Ravencoin Classic\",\"Primas\",\"Bitcoin Vault\",\"INT\",\"Haven Protocol\",\"EtherZero\",\"Bitcoin ABC\",\"AEON\",\"Circuits of Value\",\"TENT\",\"SmartCash\",\"Komodo\",\"Einsteinium\",\"Dogecoin\",\"Bytom\",\"ByteCoin\",\"ZCash\",\"ViaCoin\",\"Vertcoin\",\"Verge\",\"Ubiq\",\"SysCoin\",\"Steem\",\"SibCoin\",\"Siacoin\",\"Nano\",\"Namecoin\",\"Monero\",\"MegaCoin\",\"Litecoin\",\"Horizen\",\"Gulden\",\"Groestlcoin\",\"Grin\",\"Firo\",\"FeatherCoin\",\"Expanse\",\"Ethereum Classic\",\"Ethereum\",\"DigiByte\",\"Bitcoin SV\",\"Bitcoin Gold\",\"Bitcoin Cash\",\"Bitcoin\"],\"MaxSupply\":{\"__ndarray__\":\"AAAAAAAAAAAAAAAAAAAAAGnyWzeGl3E9tP49GlCGGz+oPBWR7oCVPwAAAAAAAAAA7wPe7wwF9j5A4RrF+vv3PqCt9UWhn3o/afJbN4aXcT071biG+jgxP2nyWzeGl3E9AAAAAAAAAAAAAAAAAAAAAJr3ilYetmA/MM0jnJ749D7oaOZpHE0RP6g8FZHugJU/AAAAAAAAAADvA97vDAX2Pov1g9w7YlA/AAAAAAAAAAAAAAAAAAAAAOX7de8MBfY+AAAAAAAAAAAAAAAAAAAAADIlEyB+CxY/1ZRe08p6dD9+SWIvxjYqPwAAAAAAAAAAAAAAAAAAAADtDQsYUIYrP3TVBqGcnMc/7wPe7wwF9j4AAAAAAAAAAEZfrOIMBRY/gSojqLjzkD8AAAAAAAAAAHgr/JP1GE0/AAAAAAAAAADvA97vDAX2PgAAAAAAAAAA9j+E9P52IT8AAAAAAAAAAAAAAAAAAAAA1EAS5wwFBj9GX6ziDAUWP+8D3u8MBfY+P3seFlCGWz+0/j0aUIYbPwAAAAAAAAAAouaORGxw9j4b9l/fDAU2P0U6lTHGNho/hb+R8sydKz8AAAAAAAAAAKg8FZHugJU/5ft17wwF9j7vA97vDAX2PuX7de8MBfY+5ft17wwF9j4=\",\"dtype\":\"float64\",\"order\":\"little\",\"shape\":[61]},\"TotalCoinsMined\":{\"__ndarray__\":\"aX4gru53xD7qekBcYzEVP8Ilu7Pcaac+L+rolCY7Ez9Mc+9Go32CP9PlUPBMqig/UjQDlxDW9T4S6pmX85DOPlJVjYDP8Gc/eDs98skH+j73OhiJDpERP0IeiQvjGQA/HXFUviDwVj+iT1b2PwmgP0Vzstibwjc/qsWnhska5j4MhnU60boQPwo1sWvwFYE/YVAvWAcrGj/mvYi46QzoPiKVzggoPkA/DPjWYWCK7j5AZVJZUhQtP8yydybtZfM+dWOg02N88j7SSVVEuhRdPzhvMuVuiwE/eGtnIzyIZT8XU5ugjJYgP/ve81vE/Sw/y4BTThB5wD/pGFMyM0FbP2mylvaFnMc/QxVmxbF+5j47ZLajiR34PpCHF0Ae8w4/W9m6pQzVkD/yr2MPS1kKP/dIC45P8EM/sstK+GrYOD9ARIUC88nzPu8v0bHcNag/w3edlB9xIT8iAZGMtwryPgHa/kvdjPI+L+wHtbGVBD+9YidAxZQRP03Dq4UAc+Y+WYsoOzJwQT84+y0PYS4UPyvZNfilfhA/QZKgUGIV6D6Dl2EFv2gvPz5v1wLVGQI/Iw8HW5hzID/OVd77RSEePw3qThTc84w/9lJITNNn8z4u4Lgcx2XzPj5bnElJaPM+80nQyHFh8z4=\",\"dtype\":\"float64\",\"order\":\"little\",\"shape\":[61]}},\"selected\":{\"id\":\"2182\"},\"selection_policy\":{\"id\":\"2198\"}},\"id\":\"2181\",\"type\":\"ColumnDataSource\"},{\"attributes\":{},\"id\":\"2120\",\"type\":\"BasicTicker\"},{\"attributes\":{\"data\":{\"Class\":[1,1],\"CoinName\":[\"Wibcoin\",\"BitTorrent\"],\"MaxSupply\":{\"__ndarray__\":\"AQAAAAAA8D8AAAAAAAAAAA==\",\"dtype\":\"float64\",\"order\":\"little\",\"shape\":[2]},\"TotalCoinsMined\":{\"__ndarray__\":\"AQAAAAAA8D+217ys2a3vPw==\",\"dtype\":\"float64\",\"order\":\"little\",\"shape\":[2]}},\"selected\":{\"id\":\"2163\"},\"selection_policy\":{\"id\":\"2177\"}},\"id\":\"2162\",\"type\":\"ColumnDataSource\"},{\"attributes\":{},\"id\":\"2145\",\"type\":\"Selection\"}],\"root_ids\":[\"2102\"]},\"title\":\"Bokeh Application\",\"version\":\"2.1.1\"}};\n",
       "  var render_items = [{\"docid\":\"8561b454-8a72-41b2-84b2-9424e0f5203c\",\"root_ids\":[\"2102\"],\"roots\":{\"2102\":\"c47d85cf-a7dd-4550-93a6-21a3bcfe2b80\"}}];\n",
       "  root.Bokeh.embed.embed_items_notebook(docs_json, render_items);\n",
       "  }\n",
       "if (root.Bokeh !== undefined) {\n",
       "    embed_document(root);\n",
       "  } else {\n",
       "    var attempts = 0;\n",
       "    var timer = setInterval(function(root) {\n",
       "      if (root.Bokeh !== undefined) {\n",
       "        clearInterval(timer);\n",
       "        embed_document(root);\n",
       "      } else if (document.readyState == \"complete\") {\n",
       "        attempts++;\n",
       "        if (attempts > 100) {\n",
       "          clearInterval(timer);\n",
       "          console.log(\"Bokeh: ERROR: Unable to run BokehJS code because BokehJS library is missing\");\n",
       "        }\n",
       "      }\n",
       "    }, 10, root)\n",
       "  }\n",
       "})(window);</script>"
      ],
      "text/plain": [
       ":NdOverlay   [Class]\n",
       "   :Scatter   [TotalCoinsMined]   (MaxSupply,CoinName)"
      ]
     },
     "execution_count": 136,
     "metadata": {
      "application/vnd.holoviews_exec.v0+json": {
       "id": "2102"
      }
     },
     "output_type": "execute_result"
    }
   ],
   "source": [
    "# Plot the scatter with x=\"TotalCoinsMined\" and y=\"TotalCoinSupply\"\n",
    "splot_df.hvplot.scatter(\n",
    "    x=\"TotalCoinsMined\", y=\"MaxSupply\", hover_cols=[\"CoinName\"], by=\"Class\"\n",
    ")"
   ]
  },
  {
   "cell_type": "code",
   "execution_count": null,
   "metadata": {},
   "outputs": [],
   "source": []
  }
 ],
 "metadata": {
  "file_extension": ".py",
  "kernelspec": {
   "display_name": "Python [conda env:dev] *",
   "language": "python",
   "name": "conda-env-dev-py"
  },
  "language_info": {
   "codemirror_mode": {
    "name": "ipython",
    "version": 3
   },
   "file_extension": ".py",
   "mimetype": "text/x-python",
   "name": "python",
   "nbconvert_exporter": "python",
   "pygments_lexer": "ipython3",
   "version": "3.7.7"
  },
  "mimetype": "text/x-python",
  "name": "python",
  "npconvert_exporter": "python",
  "pygments_lexer": "ipython3",
  "version": 3
 },
 "nbformat": 4,
 "nbformat_minor": 4
}
